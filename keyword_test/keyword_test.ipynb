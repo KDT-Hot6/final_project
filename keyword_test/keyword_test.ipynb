{
 "cells": [
  {
   "cell_type": "code",
   "execution_count": 425,
   "id": "demonstrated-canadian",
   "metadata": {},
   "outputs": [],
   "source": [
    "import krwordrank\n",
    "import pandas as pd\n",
    "import re\n",
    "import matplotlib.pyplot as plt\n",
    "import seaborn as sns\n",
    "\n",
    "from krwordrank.sentence import summarize_with_sentences\n",
    "from konlpy.tag import Mecab\n",
    "from gensim.models import Word2Vec\n",
    "import krwordrank\n",
    "from krwordrank.word import KRWordRank\n",
    "from krwordrank.word import summarize_with_keywords"
   ]
  },
  {
   "cell_type": "code",
   "execution_count": 426,
   "id": "intended-civilian",
   "metadata": {},
   "outputs": [
    {
     "name": "stdout",
     "output_type": "stream",
     "text": [
      "<class 'pandas.core.frame.DataFrame'>\n",
      "RangeIndex: 18597 entries, 0 to 18596\n",
      "Data columns (total 3 columns):\n",
      " #   Column  Non-Null Count  Dtype \n",
      "---  ------  --------------  ----- \n",
      " 0   식당이름    18597 non-null  object\n",
      " 1   리뷰      18597 non-null  object\n",
      " 2   리뷰_리스트  18597 non-null  object\n",
      "dtypes: object(3)\n",
      "memory usage: 436.0+ KB\n"
     ]
    }
   ],
   "source": [
    "data = pd.read_csv('review_modify.csv')\n",
    "data.info()"
   ]
  },
  {
   "cell_type": "code",
   "execution_count": 427,
   "id": "intelligent-batman",
   "metadata": {},
   "outputs": [],
   "source": [
    "data['리뷰길이'] = data['리뷰'].apply(len)\n",
    "\n",
    "## 리뷰길이가 200자 이상인 것들만 뽑는다.\n",
    "data = data[data['리뷰길이'] > 200]"
   ]
  },
  {
   "cell_type": "code",
   "execution_count": 428,
   "id": "formed-audience",
   "metadata": {},
   "outputs": [],
   "source": [
    "import ast\n",
    "## 리뷰_리스트 컬럼 type : str -> list\n",
    "data['리뷰_리스트']= data['리뷰_리스트'].apply(ast.literal_eval)"
   ]
  },
  {
   "cell_type": "code",
   "execution_count": 429,
   "id": "protected-excellence",
   "metadata": {
    "scrolled": true
   },
   "outputs": [],
   "source": [
    "data['리뷰개수'] = data['리뷰_리스트'].apply(len)"
   ]
  },
  {
   "cell_type": "code",
   "execution_count": 430,
   "id": "false-shirt",
   "metadata": {
    "scrolled": true
   },
   "outputs": [
    {
     "data": {
      "text/html": [
       "<div>\n",
       "<style scoped>\n",
       "    .dataframe tbody tr th:only-of-type {\n",
       "        vertical-align: middle;\n",
       "    }\n",
       "\n",
       "    .dataframe tbody tr th {\n",
       "        vertical-align: top;\n",
       "    }\n",
       "\n",
       "    .dataframe thead th {\n",
       "        text-align: right;\n",
       "    }\n",
       "</style>\n",
       "<table border=\"1\" class=\"dataframe\">\n",
       "  <thead>\n",
       "    <tr style=\"text-align: right;\">\n",
       "      <th></th>\n",
       "      <th>식당이름</th>\n",
       "      <th>리뷰</th>\n",
       "      <th>리뷰_리스트</th>\n",
       "      <th>리뷰길이</th>\n",
       "      <th>리뷰개수</th>\n",
       "    </tr>\n",
       "  </thead>\n",
       "  <tbody>\n",
       "    <tr>\n",
       "      <th>47</th>\n",
       "      <td>신연경-본점</td>\n",
       "      <td>배달 짱빨라용    맛도좋아요굿뜨  맛있습니다요맛있어요   담에 짬뽕국물 서비스좀 ...</td>\n",
       "      <td>[배달 짱빨라용    맛도좋아요, 굿뜨  맛있습니다요, 맛있어요   담에 짬뽕국물 ...</td>\n",
       "      <td>102679</td>\n",
       "      <td>3198</td>\n",
       "    </tr>\n",
       "    <tr>\n",
       "      <th>10</th>\n",
       "      <td>교촌치킨-경희대점</td>\n",
       "      <td>치킨이 넘튀겨줘서 말라서 맛이 별로였어요맛있게 잘먹었습니다  히히 야밤엔 치킨이지배...</td>\n",
       "      <td>[치킨이 넘튀겨줘서 말라서 맛이 별로였어요, 맛있게 잘먹었습니다  , 히히 야밤엔 ...</td>\n",
       "      <td>19864</td>\n",
       "      <td>789</td>\n",
       "    </tr>\n",
       "    <tr>\n",
       "      <th>48</th>\n",
       "      <td>놀부부대찌개-신촌점</td>\n",
       "      <td>배터져여   배달 끝내주네영맛있게 잘 먹었습니다 맛있고 빨리왔습니다오랜만에 부대찌개...</td>\n",
       "      <td>[배터져여   배달 끝내주네영, 맛있게 잘 먹었습니다 , 맛있고 빨리왔습니다, 오랜...</td>\n",
       "      <td>14491</td>\n",
       "      <td>455</td>\n",
       "    </tr>\n",
       "    <tr>\n",
       "      <th>38</th>\n",
       "      <td>미소당빵공장</td>\n",
       "      <td>넘넘 맛있게 잘먹었어요  서비스도 맛도 굿굿   맛있습니다              ...</td>\n",
       "      <td>[넘넘 맛있게 잘먹었어요  서비스도 맛도 굿굿   , 맛있습니다,          ...</td>\n",
       "      <td>11123</td>\n",
       "      <td>247</td>\n",
       "    </tr>\n",
       "    <tr>\n",
       "      <th>40</th>\n",
       "      <td>브릭오븐</td>\n",
       "      <td>내부가 넓어요 외국인들이 주문을 받아서 첨에 당황쓰 피자는 구냥 평범해요피자덕후라 ...</td>\n",
       "      <td>[내부가 넓어요 외국인들이 주문을 받아서 첨에 당황쓰 피자는 구냥 평범해요, 피자덕...</td>\n",
       "      <td>33902</td>\n",
       "      <td>247</td>\n",
       "    </tr>\n",
       "    <tr>\n",
       "      <th>...</th>\n",
       "      <td>...</td>\n",
       "      <td>...</td>\n",
       "      <td>...</td>\n",
       "      <td>...</td>\n",
       "      <td>...</td>\n",
       "    </tr>\n",
       "    <tr>\n",
       "      <th>99</th>\n",
       "      <td>세븐차이나</td>\n",
       "      <td>깔끔한 공간과 산이 주변에 있어서 좋았어요  코스로 여러 요리를 맛 보았는데 음식 ...</td>\n",
       "      <td>[깔끔한 공간과 산이 주변에 있어서 좋았어요  코스로 여러 요리를 맛 보았는데 음식...</td>\n",
       "      <td>424</td>\n",
       "      <td>3</td>\n",
       "    </tr>\n",
       "    <tr>\n",
       "      <th>24</th>\n",
       "      <td>더포터하우스</td>\n",
       "      <td>삼성동  더포터하우스   노력과 정성의 즐거움  연결성의 아쉬움    생일만찬 취...</td>\n",
       "      <td>[ 삼성동  더포터하우스   노력과 정성의 즐거움  연결성의 아쉬움    생일만찬 ...</td>\n",
       "      <td>5286</td>\n",
       "      <td>2</td>\n",
       "    </tr>\n",
       "    <tr>\n",
       "      <th>23</th>\n",
       "      <td>용천각</td>\n",
       "      <td>야심한 시각  뜬금없이 리뷰를 남기고 싶어서 남겨봅니당   노원3번이나 4번  13...</td>\n",
       "      <td>[야심한 시각  뜬금없이 리뷰를 남기고 싶어서 남겨봅니당   노원3번이나 4번  1...</td>\n",
       "      <td>699</td>\n",
       "      <td>2</td>\n",
       "    </tr>\n",
       "    <tr>\n",
       "      <th>26</th>\n",
       "      <td>그날맥주</td>\n",
       "      <td>미삼에서 골목골목 다니다 우연히 가본 곳  그날맥주    우리가 간 날은 아무도 없...</td>\n",
       "      <td>[미삼에서 골목골목 다니다 우연히 가본 곳  그날맥주    우리가 간 날은 아무도 ...</td>\n",
       "      <td>258</td>\n",
       "      <td>2</td>\n",
       "    </tr>\n",
       "    <tr>\n",
       "      <th>39</th>\n",
       "      <td>영등포복집</td>\n",
       "      <td>반 백 년 전통의 노포 영등포 복국    도저히 헤어나올 수 없다 대한민국이 어두운...</td>\n",
       "      <td>[반 백 년 전통의 노포 영등포 복국    도저히 헤어나올 수 없다 대한민국이 어두...</td>\n",
       "      <td>958</td>\n",
       "      <td>2</td>\n",
       "    </tr>\n",
       "  </tbody>\n",
       "</table>\n",
       "<p>100 rows × 5 columns</p>\n",
       "</div>"
      ],
      "text/plain": [
       "          식당이름                                                 리뷰  \\\n",
       "47      신연경-본점  배달 짱빨라용    맛도좋아요굿뜨  맛있습니다요맛있어요   담에 짬뽕국물 서비스좀 ...   \n",
       "10   교촌치킨-경희대점  치킨이 넘튀겨줘서 말라서 맛이 별로였어요맛있게 잘먹었습니다  히히 야밤엔 치킨이지배...   \n",
       "48  놀부부대찌개-신촌점  배터져여   배달 끝내주네영맛있게 잘 먹었습니다 맛있고 빨리왔습니다오랜만에 부대찌개...   \n",
       "38      미소당빵공장  넘넘 맛있게 잘먹었어요  서비스도 맛도 굿굿   맛있습니다              ...   \n",
       "40        브릭오븐  내부가 넓어요 외국인들이 주문을 받아서 첨에 당황쓰 피자는 구냥 평범해요피자덕후라 ...   \n",
       "..         ...                                                ...   \n",
       "99       세븐차이나  깔끔한 공간과 산이 주변에 있어서 좋았어요  코스로 여러 요리를 맛 보았는데 음식 ...   \n",
       "24      더포터하우스   삼성동  더포터하우스   노력과 정성의 즐거움  연결성의 아쉬움    생일만찬 취...   \n",
       "23         용천각  야심한 시각  뜬금없이 리뷰를 남기고 싶어서 남겨봅니당   노원3번이나 4번  13...   \n",
       "26        그날맥주  미삼에서 골목골목 다니다 우연히 가본 곳  그날맥주    우리가 간 날은 아무도 없...   \n",
       "39       영등포복집  반 백 년 전통의 노포 영등포 복국    도저히 헤어나올 수 없다 대한민국이 어두운...   \n",
       "\n",
       "                                               리뷰_리스트    리뷰길이  리뷰개수  \n",
       "47  [배달 짱빨라용    맛도좋아요, 굿뜨  맛있습니다요, 맛있어요   담에 짬뽕국물 ...  102679  3198  \n",
       "10  [치킨이 넘튀겨줘서 말라서 맛이 별로였어요, 맛있게 잘먹었습니다  , 히히 야밤엔 ...   19864   789  \n",
       "48  [배터져여   배달 끝내주네영, 맛있게 잘 먹었습니다 , 맛있고 빨리왔습니다, 오랜...   14491   455  \n",
       "38  [넘넘 맛있게 잘먹었어요  서비스도 맛도 굿굿   , 맛있습니다,          ...   11123   247  \n",
       "40  [내부가 넓어요 외국인들이 주문을 받아서 첨에 당황쓰 피자는 구냥 평범해요, 피자덕...   33902   247  \n",
       "..                                                ...     ...   ...  \n",
       "99  [깔끔한 공간과 산이 주변에 있어서 좋았어요  코스로 여러 요리를 맛 보았는데 음식...     424     3  \n",
       "24  [ 삼성동  더포터하우스   노력과 정성의 즐거움  연결성의 아쉬움    생일만찬 ...    5286     2  \n",
       "23  [야심한 시각  뜬금없이 리뷰를 남기고 싶어서 남겨봅니당   노원3번이나 4번  1...     699     2  \n",
       "26  [미삼에서 골목골목 다니다 우연히 가본 곳  그날맥주    우리가 간 날은 아무도 ...     258     2  \n",
       "39  [반 백 년 전통의 노포 영등포 복국    도저히 헤어나올 수 없다 대한민국이 어두...     958     2  \n",
       "\n",
       "[100 rows x 5 columns]"
      ]
     },
     "execution_count": 430,
     "metadata": {},
     "output_type": "execute_result"
    }
   ],
   "source": [
    "## 가게 100개 샘플링\n",
    "data100 = data.sample(100)\n",
    "data100 = data100.reset_index(drop=True)\n",
    "data100.sort_values(by='리뷰개수', ascending = False)"
   ]
  },
  {
   "cell_type": "code",
   "execution_count": 431,
   "id": "inappropriate-timothy",
   "metadata": {
    "scrolled": false
   },
   "outputs": [
    {
     "name": "stderr",
     "output_type": "stream",
     "text": [
      "/opt/anaconda3/envs/tensor2/lib/python3.6/site-packages/seaborn/distributions.py:2557: FutureWarning: `distplot` is a deprecated function and will be removed in a future version. Please adapt your code to use either `displot` (a figure-level function with similar flexibility) or `histplot` (an axes-level function for histograms).\n",
      "  warnings.warn(msg, FutureWarning)\n",
      "/opt/anaconda3/envs/tensor2/lib/python3.6/site-packages/matplotlib/backends/backend_agg.py:238: RuntimeWarning: Glyph 47532 missing from current font.\n",
      "  font.set_text(s, 0.0, flags=flags)\n",
      "/opt/anaconda3/envs/tensor2/lib/python3.6/site-packages/matplotlib/backends/backend_agg.py:238: RuntimeWarning: Glyph 48624 missing from current font.\n",
      "  font.set_text(s, 0.0, flags=flags)\n",
      "/opt/anaconda3/envs/tensor2/lib/python3.6/site-packages/matplotlib/backends/backend_agg.py:238: RuntimeWarning: Glyph 44060 missing from current font.\n",
      "  font.set_text(s, 0.0, flags=flags)\n",
      "/opt/anaconda3/envs/tensor2/lib/python3.6/site-packages/matplotlib/backends/backend_agg.py:238: RuntimeWarning: Glyph 49688 missing from current font.\n",
      "  font.set_text(s, 0.0, flags=flags)\n",
      "/opt/anaconda3/envs/tensor2/lib/python3.6/site-packages/matplotlib/backends/backend_agg.py:201: RuntimeWarning: Glyph 47532 missing from current font.\n",
      "  font.set_text(s, 0, flags=flags)\n",
      "/opt/anaconda3/envs/tensor2/lib/python3.6/site-packages/matplotlib/backends/backend_agg.py:201: RuntimeWarning: Glyph 48624 missing from current font.\n",
      "  font.set_text(s, 0, flags=flags)\n",
      "/opt/anaconda3/envs/tensor2/lib/python3.6/site-packages/matplotlib/backends/backend_agg.py:201: RuntimeWarning: Glyph 44060 missing from current font.\n",
      "  font.set_text(s, 0, flags=flags)\n",
      "/opt/anaconda3/envs/tensor2/lib/python3.6/site-packages/matplotlib/backends/backend_agg.py:201: RuntimeWarning: Glyph 49688 missing from current font.\n",
      "  font.set_text(s, 0, flags=flags)\n"
     ]
    },
    {
     "data": {
      "image/png": "[encoded data removed]",
      "text/plain": [
       "<Figure size 864x720 with 1 Axes>"
      ]
     },
     "metadata": {
      "needs_background": "light"
     },
     "output_type": "display_data"
    }
   ],
   "source": [
    "plt.figure(figsize = (12,10))\n",
    "sns.distplot(data['리뷰개수'])\n",
    "plt.show()"
   ]
  },
  {
   "cell_type": "markdown",
   "id": "measured-brass",
   "metadata": {},
   "source": [
    "# 리뷰 토큰화"
   ]
  },
  {
   "cell_type": "code",
   "execution_count": 472,
   "id": "working-surname",
   "metadata": {},
   "outputs": [],
   "source": [
    "## Mecab 형태소 분석함수\n",
    "mecab = Mecab()\n",
    "\n",
    "def tokenizer(row):\n",
    "  return mecab.morphs(row)"
   ]
  },
  {
   "cell_type": "code",
   "execution_count": 473,
   "id": "seven-paragraph",
   "metadata": {},
   "outputs": [],
   "source": [
    "## 리뷰 토큰화 by Mecab\n",
    "data['리뷰_토큰'] = data['리뷰'].apply(tokenizer)\n",
    "\n",
    "## sentences 변수에 토큰 저장\n",
    "sentences = data['리뷰_토큰']"
   ]
  },
  {
   "cell_type": "code",
   "execution_count": 474,
   "id": "powerful-dover",
   "metadata": {},
   "outputs": [],
   "source": [
    "# 토큰으로부터 벡터를 생성\n",
    "model = Word2Vec(sentences, size=300, window=5, min_count=5, workers=3)\n",
    " \n",
    "\n",
    "word_vectors = model.wv\n",
    " \n",
    "vocabs            = word_vectors.vocab.keys()\n",
    "word_vectors_list = [word_vectors[v] for v in vocabs]"
   ]
  },
  {
   "cell_type": "code",
   "execution_count": null,
   "id": "floppy-fundamentals",
   "metadata": {},
   "outputs": [],
   "source": [
    "model."
   ]
  },
  {
   "cell_type": "code",
   "execution_count": 475,
   "id": "surprising-hayes",
   "metadata": {},
   "outputs": [
    {
     "data": {
      "text/plain": [
       "34821"
      ]
     },
     "execution_count": 475,
     "metadata": {},
     "output_type": "execute_result"
    }
   ],
   "source": [
    "## 토큰의 개수\n",
    "len(word_vectors_list)"
   ]
  },
  {
   "cell_type": "markdown",
   "id": "alpine-cycle",
   "metadata": {},
   "source": [
    "# Kewords 추출"
   ]
  },
  {
   "cell_type": "code",
   "execution_count": 489,
   "id": "wooden-format",
   "metadata": {},
   "outputs": [],
   "source": [
    "stopwords = {'먹었습니다', '굿굿굿굿굿굿굿굿', '주셔서', '맛있', '하였', '라구', '너무', '맛이', '정말', '있는', '좋아', '괜찮', '음식', '많이', '진짜', '생각', '느낌', '먹었', '메뉴', '여기', '좋았', '그냥', '먹어', '주문', '먹고', '아니', '먹을', '다른', '조금', '좋은', '들어', '맛은', '정도', '엄청', '있어', '방문', '먹는', '사람', '아주', '하나', '같이', 'ㅎㅎ', '있다', '가게', '별로', '양이', '먹으', '그런', '처음', '같은', '맛도', '그리고', '약간', 'ㅋㅋ', '않고', '있었', '같아요', '좋고', '같아', '살짝', '그래도', '역시', '제일', 'ㅠㅠ', '곳이', '하는', '좋아요', '기대', '나오는', '먹기', '다시', '많아', '식당', '근데', '완전', '하지만', '양도', '시간', '항상', '만족', '시켜', '자주', '시켰는데', '있어서', '같다', '나오', '매우', '자리', '추가', '특히', '맛을', '가장', '식사', '테이블', '사장님', '많고', '많은', '없는', '함께', '나는', '생각보다', '적당', '모두', '친구', '배달', '바로', '좋다', '하고',  '굉장히', '무난', '이런', '저는', '종류', '않은', '요리', '먹었는데', '좋았어요', '아닌', '계속', '기본', '많아서', '그래', '아쉬', '부드', '해서', '편이', '손님', '재료', '근처', '않았', '이렇게', '않아', '한번', '리뷰', '뭔가', '개인적으로', '느껴', '시켰', '직원', '나온', '다음', '있고', '먹으면', '가서', '제가', '비해', '포장', '구워', '잘먹었습니다', '거의', '갔는데', '인분', '빠르고', '그리', '빨리', '내가', '안에', '다만', '공간', '직접', '기분', '그렇', '감사합니다', '먹은', '그런지', '간이', '마시', '기다', '사람이', '적당히', '사실', 'ㅋㅋㅋ', '매장', '동네', '들어가', '위에', '향이', '했는데', '느낌이', '없어', '따로', '일단', '시키', '원래', '없이', '분위', '오늘', '빵이', '친절하', '평범', '면이', '다음에', '대기', '분들', '것이', '맛잇', '가격이', 'ㅜㅜ', '좋네요',  '보니', '위치', '깔끔하고', '오랜만에', '요즘', '가면', '좋을', '때문에', '찾아', '맛있었', '나쁘지', '오래', '들어간', '양은', '맛있어',  '모르겠', '것도',  '맛나', '보통', '냄새' '이곳' '있습니다', '선택', '작은', '가는', '내부', '있음', '그렇게', '모르', '않는', '괜찮은', '사이', '달지', '그래서', '이스크림', '좋아하', '좋습니다', '오픈', '와서', '개인', '집이', '없었', '나왔', '없다', '일반', '좋아하는', '훨씬', '주신', '웨이팅이', '서비', '기억', '밥이', '자체', '넣어', '감사', '여러', '전체적으로', '분위기도', '시킬', '좋았다', '나와', '가득', '구성', '예쁘', '가격도', '우리', '올라', '싶은', '아쉬웠', '이름', '어울', '때문', '하지', '없고', '이상', '상당히', '없어서', '않아서', '조합', '언제나', '합니다',  '아니라', '굳이', '식감이', '한다', '이집', '번창하세요', '단계', '있지만',  '아쉽', '좋았습니다', '모든', '찍어', '가끔', '호점', '워낙', '나름', '있을', '배달도', '부분', '여긴', '중에', '진하고'}\n",
    "\n",
    "## 리뷰_리스트 컬럼에서 keyword 추출하는 함수\n",
    "## 입력 : train_data(dataframe, 리뷰_리스트 컬럼을 포함할 것), stopwords(불용어)\n",
    "## 출력 : train_data(dataframe, 태그 컬럼에 출력키워드 포함)\n",
    "def summarize_keywords(train_data, stopwords):\n",
    "    \n",
    "    for index in range(len(train_data)):\n",
    "        try:\n",
    "            keywords = summarize_with_keywords(train_data['리뷰_리스트'][index], num_keywords=10, min_count=2,\\\n",
    "                max_length=10, beta=0.85, max_iter=10, stopwords=stopwords, verbose=False)\n",
    "            if len(keywords) == 0: ## 키워드 없으면 빈 문자열 '[]' 저장\n",
    "                train_data.loc[index, '태그'] = str([])\n",
    "            else:\n",
    "                keyword_list = []\n",
    "                for keyword in keywords.keys():\n",
    "                    if keyword not in stopwords:\n",
    "                        keyword_list.append(keyword)\n",
    "\n",
    "                train_data.loc[index, '태그'] = str(keyword_list)\n",
    "\n",
    "        except :\n",
    "            pass\n",
    "        \n",
    "    ## 태그의 type을 str -> list로 변경\n",
    "    train_data['태그']= train_data['태그'].apply(ast.literal_eval)\n",
    "    return train_data"
   ]
  },
  {
   "cell_type": "code",
   "execution_count": 454,
   "id": "executed-poland",
   "metadata": {},
   "outputs": [],
   "source": [
    "## 아라빅하우스 리뷰없음\n",
    "# data[data['식당이름'] == '아라빅하우스' ]['리뷰']\n",
    "# data.loc[10078,'리뷰']"
   ]
  },
  {
   "cell_type": "code",
   "execution_count": 468,
   "id": "suffering-denmark",
   "metadata": {},
   "outputs": [],
   "source": [
    "# data100[['식당이름','태그']].to_csv('tags_before2.csv')"
   ]
  },
  {
   "cell_type": "markdown",
   "id": "collective-transition",
   "metadata": {},
   "source": [
    "# 유사단어 태그에 추가하기"
   ]
  },
  {
   "cell_type": "code",
   "execution_count": 490,
   "id": "romantic-banking",
   "metadata": {
    "scrolled": true
   },
   "outputs": [],
   "source": [
    "## 추출한 키워드로 리뷰에서 유사한 단어를 구하는 함수\n",
    "## 입력 : train_data(dataframe, 태그 컬럼을 포함할 것)\n",
    "## 출력 : train_data(dataframe)\n",
    "def add_tag_fom_keywords(dataframe):\n",
    "    for index in range(len(dataframe)):\n",
    "        tag_list = []\n",
    "        for i in dataframe['태그'][index]:\n",
    "            try:\n",
    "                tags = model.wv.most_similar(positive=[i],  negative=[], topn=10)\n",
    "                tag_list += [tag[0] for tag in tags if tag not in tag_list]\n",
    "\n",
    "            except:\n",
    "                pass\n",
    "        dataframe['태그'][index] += tag_list\n",
    "        dataframe['태그'][index] = list(pd.Series(dataframe['태그'][index]).unique())\n",
    "    \n",
    "    return dataframe"
   ]
  },
  {
   "cell_type": "code",
   "execution_count": 368,
   "id": "stylish-advance",
   "metadata": {},
   "outputs": [],
   "source": [
    "# data100.to_csv('tags_after2.csv')"
   ]
  },
  {
   "cell_type": "code",
   "execution_count": 479,
   "id": "adjusted-planning",
   "metadata": {},
   "outputs": [
    {
     "name": "stderr",
     "output_type": "stream",
     "text": [
      "/opt/anaconda3/envs/tensor2/lib/python3.6/site-packages/ipykernel_launcher.py:14: SettingWithCopyWarning: \n",
      "A value is trying to be set on a copy of a slice from a DataFrame\n",
      "\n",
      "See the caveats in the documentation: https://pandas.pydata.org/pandas-docs/stable/user_guide/indexing.html#returning-a-view-versus-a-copy\n",
      "  \n",
      "/opt/anaconda3/envs/tensor2/lib/python3.6/site-packages/ipykernel_launcher.py:15: SettingWithCopyWarning: \n",
      "A value is trying to be set on a copy of a slice from a DataFrame\n",
      "\n",
      "See the caveats in the documentation: https://pandas.pydata.org/pandas-docs/stable/user_guide/indexing.html#returning-a-view-versus-a-copy\n",
      "  from ipykernel import kernelapp as app\n",
      "/opt/anaconda3/envs/tensor2/lib/python3.6/site-packages/ipykernel_launcher.py:15: DeprecationWarning: The default dtype for empty Series will be 'object' instead of 'float64' in a future version. Specify a dtype explicitly to silence this warning.\n",
      "  from ipykernel import kernelapp as app\n"
     ]
    },
    {
     "data": {
      "text/html": [
       "<div>\n",
       "<style scoped>\n",
       "    .dataframe tbody tr th:only-of-type {\n",
       "        vertical-align: middle;\n",
       "    }\n",
       "\n",
       "    .dataframe tbody tr th {\n",
       "        vertical-align: top;\n",
       "    }\n",
       "\n",
       "    .dataframe thead th {\n",
       "        text-align: right;\n",
       "    }\n",
       "</style>\n",
       "<table border=\"1\" class=\"dataframe\">\n",
       "  <thead>\n",
       "    <tr style=\"text-align: right;\">\n",
       "      <th></th>\n",
       "      <th>식당이름</th>\n",
       "      <th>리뷰</th>\n",
       "      <th>리뷰_리스트</th>\n",
       "      <th>리뷰길이</th>\n",
       "      <th>리뷰개수</th>\n",
       "      <th>태그</th>\n",
       "    </tr>\n",
       "  </thead>\n",
       "  <tbody>\n",
       "    <tr>\n",
       "      <th>0</th>\n",
       "      <td>광명수산</td>\n",
       "      <td>수족관이 밖이랑 매장 2곳에 다양한 재료가 가득했구요  1층과 2층으로 나뉘어 있고...</td>\n",
       "      <td>[수족관이 밖이랑 매장 2곳에 다양한 재료가 가득했구요  1층과 2층으로 나뉘어 있...</td>\n",
       "      <td>1022</td>\n",
       "      <td>18</td>\n",
       "      <td>[맛있어요, 메추리알, 회가, 수족관, 2층, 광어, 가격, 주차, 매운탕, 1층,...</td>\n",
       "    </tr>\n",
       "    <tr>\n",
       "      <th>1</th>\n",
       "      <td>서울두부</td>\n",
       "      <td>요리 를 맛보았다는 느낌에 너무 만족스러웠어요 좋아요보기에도 넘 맛있어 보여요  ...</td>\n",
       "      <td>[ 요리 를 맛보았다는 느낌에 너무 만족스러웠어요 좋아요, 보기에도 넘 맛있어 보여...</td>\n",
       "      <td>286</td>\n",
       "      <td>8</td>\n",
       "      <td>[두부, 배추, 청경채, 미나리, 대파, 숙주, 애호박, 양배추, 무채, 표고버섯,...</td>\n",
       "    </tr>\n",
       "    <tr>\n",
       "      <th>2</th>\n",
       "      <td>도연하다</td>\n",
       "      <td>안주가 정갈하게 차려져 나온다 도가니수육은 국물을 같이 먹을수 있고 리필도된다 가격...</td>\n",
       "      <td>[안주가 정갈하게 차려져 나온다 도가니수육은 국물을 같이 먹을수 있고 리필도된다 가...</td>\n",
       "      <td>5095</td>\n",
       "      <td>25</td>\n",
       "      <td>[도가니, 맛있는, 가격, 안주가, 감자전, 10000원, 사진엔, 나온다, 모임,...</td>\n",
       "    </tr>\n",
       "    <tr>\n",
       "      <th>3</th>\n",
       "      <td>야스미</td>\n",
       "      <td>과일상자 무용지물 입니다보기에도 일식의 진미가 보여요    내부도 깔끔하고 분위기도...</td>\n",
       "      <td>[과일상자 무용지물 입니다, 보기에도 일식의 진미가 보여요    , 내부도 깔끔하고...</td>\n",
       "      <td>240</td>\n",
       "      <td>8</td>\n",
       "      <td>[음식도, 분위기, 분위, 인테리어, 경치, 음악, 조명, 실내, 선곡, 전망, 채...</td>\n",
       "    </tr>\n",
       "    <tr>\n",
       "      <th>4</th>\n",
       "      <td>프로간장새우</td>\n",
       "      <td>기대 안하고 그냥 찾아들어가서 그런지너무맛있엇어요 굴하고 새우말이 고추전 전부 맛잇...</td>\n",
       "      <td>[기대 안하고 그냥 찾아들어가서 그런지너무맛있엇어요 굴하고 새우말이 고추전 전부 맛...</td>\n",
       "      <td>248</td>\n",
       "      <td>5</td>\n",
       "      <td>[간장새우]</td>\n",
       "    </tr>\n",
       "    <tr>\n",
       "      <th>...</th>\n",
       "      <td>...</td>\n",
       "      <td>...</td>\n",
       "      <td>...</td>\n",
       "      <td>...</td>\n",
       "      <td>...</td>\n",
       "      <td>...</td>\n",
       "    </tr>\n",
       "    <tr>\n",
       "      <th>95</th>\n",
       "      <td>버거헌터 IFC점</td>\n",
       "      <td>수제버거집입니다  주차는 일정 금액 이상 식사시 1시간 무료였는데 정확히 기억이 나...</td>\n",
       "      <td>[수제버거집입니다  주차는 일정 금액 이상 식사시 1시간 무료였는데 정확히 기억이 ...</td>\n",
       "      <td>505</td>\n",
       "      <td>6</td>\n",
       "      <td>[기억이, 할라피뇨, 버거, 베이컨, 햄버거, 비사리, 패티, 프라이, 와퍼, 나인...</td>\n",
       "    </tr>\n",
       "    <tr>\n",
       "      <th>96</th>\n",
       "      <td>홍맛술</td>\n",
       "      <td>서비스로 주는 계란찜 괜찮고 꼬막무침이랑 곱창 볶음밥도 괜찮다  다만 식당 내부에서...</td>\n",
       "      <td>[서비스로 주는 계란찜 괜찮고 꼬막무침이랑 곱창 볶음밥도 괜찮다  다만 식당 내부에...</td>\n",
       "      <td>2542</td>\n",
       "      <td>16</td>\n",
       "      <td>[꼬막, 소면, 주는, 서비스, 자연산, 백골뱅이, 스팸, 많음, 젊은, 간만에, ...</td>\n",
       "    </tr>\n",
       "    <tr>\n",
       "      <th>97</th>\n",
       "      <td>롯데리아</td>\n",
       "      <td>롯데리아    그져 감흥없는 맛이네요 |   | 분발하세요더블 2버거 맛있습니다 후...</td>\n",
       "      <td>[롯데리아    그져 감흥없는 맛이네요 |   | 분발하세요, 더블 2버거 맛있습니...</td>\n",
       "      <td>923</td>\n",
       "      <td>14</td>\n",
       "      <td>[롯데리아, 햄버거, 더블, 맛있습니다, 치즈, 모짜렐라, 같습니, 따끈, 소스, ...</td>\n",
       "    </tr>\n",
       "    <tr>\n",
       "      <th>98</th>\n",
       "      <td>진부령황태촌</td>\n",
       "      <td>쌀쌀한 날씨로 접어드는 길목따끈한 국물이 불현듯 그래 오늘은 동태탕을 먹어봐야겠어 ...</td>\n",
       "      <td>[쌀쌀한 날씨로 접어드는 길목따끈한 국물이 불현듯 그래 오늘은 동태탕을 먹어봐야겠어...</td>\n",
       "      <td>2185</td>\n",
       "      <td>14</td>\n",
       "      <td>[국물이, 깔끔하게, 검색없이, 개인적으로는, 전문점, 담기고, 직원분들도, 위치한...</td>\n",
       "    </tr>\n",
       "    <tr>\n",
       "      <th>99</th>\n",
       "      <td>세븐차이나</td>\n",
       "      <td>깔끔한 공간과 산이 주변에 있어서 좋았어요  코스로 여러 요리를 맛 보았는데 음식 ...</td>\n",
       "      <td>[깔끔한 공간과 산이 주변에 있어서 좋았어요  코스로 여러 요리를 맛 보았는데 음식...</td>\n",
       "      <td>424</td>\n",
       "      <td>3</td>\n",
       "      <td>[짜장, 짬뽕, 가족, 보였, 짜장면, 간짜장, 탕수육, 자장면, 잡채밥, 유니, ...</td>\n",
       "    </tr>\n",
       "  </tbody>\n",
       "</table>\n",
       "<p>100 rows × 6 columns</p>\n",
       "</div>"
      ],
      "text/plain": [
       "         식당이름                                                 리뷰  \\\n",
       "0        광명수산  수족관이 밖이랑 매장 2곳에 다양한 재료가 가득했구요  1층과 2층으로 나뉘어 있고...   \n",
       "1        서울두부   요리 를 맛보았다는 느낌에 너무 만족스러웠어요 좋아요보기에도 넘 맛있어 보여요  ...   \n",
       "2        도연하다  안주가 정갈하게 차려져 나온다 도가니수육은 국물을 같이 먹을수 있고 리필도된다 가격...   \n",
       "3         야스미  과일상자 무용지물 입니다보기에도 일식의 진미가 보여요    내부도 깔끔하고 분위기도...   \n",
       "4      프로간장새우  기대 안하고 그냥 찾아들어가서 그런지너무맛있엇어요 굴하고 새우말이 고추전 전부 맛잇...   \n",
       "..        ...                                                ...   \n",
       "95  버거헌터 IFC점  수제버거집입니다  주차는 일정 금액 이상 식사시 1시간 무료였는데 정확히 기억이 나...   \n",
       "96        홍맛술  서비스로 주는 계란찜 괜찮고 꼬막무침이랑 곱창 볶음밥도 괜찮다  다만 식당 내부에서...   \n",
       "97       롯데리아  롯데리아    그져 감흥없는 맛이네요 |   | 분발하세요더블 2버거 맛있습니다 후...   \n",
       "98     진부령황태촌  쌀쌀한 날씨로 접어드는 길목따끈한 국물이 불현듯 그래 오늘은 동태탕을 먹어봐야겠어 ...   \n",
       "99      세븐차이나  깔끔한 공간과 산이 주변에 있어서 좋았어요  코스로 여러 요리를 맛 보았는데 음식 ...   \n",
       "\n",
       "                                               리뷰_리스트  리뷰길이  리뷰개수  \\\n",
       "0   [수족관이 밖이랑 매장 2곳에 다양한 재료가 가득했구요  1층과 2층으로 나뉘어 있...  1022    18   \n",
       "1   [ 요리 를 맛보았다는 느낌에 너무 만족스러웠어요 좋아요, 보기에도 넘 맛있어 보여...   286     8   \n",
       "2   [안주가 정갈하게 차려져 나온다 도가니수육은 국물을 같이 먹을수 있고 리필도된다 가...  5095    25   \n",
       "3   [과일상자 무용지물 입니다, 보기에도 일식의 진미가 보여요    , 내부도 깔끔하고...   240     8   \n",
       "4   [기대 안하고 그냥 찾아들어가서 그런지너무맛있엇어요 굴하고 새우말이 고추전 전부 맛...   248     5   \n",
       "..                                                ...   ...   ...   \n",
       "95  [수제버거집입니다  주차는 일정 금액 이상 식사시 1시간 무료였는데 정확히 기억이 ...   505     6   \n",
       "96  [서비스로 주는 계란찜 괜찮고 꼬막무침이랑 곱창 볶음밥도 괜찮다  다만 식당 내부에...  2542    16   \n",
       "97  [롯데리아    그져 감흥없는 맛이네요 |   | 분발하세요, 더블 2버거 맛있습니...   923    14   \n",
       "98  [쌀쌀한 날씨로 접어드는 길목따끈한 국물이 불현듯 그래 오늘은 동태탕을 먹어봐야겠어...  2185    14   \n",
       "99  [깔끔한 공간과 산이 주변에 있어서 좋았어요  코스로 여러 요리를 맛 보았는데 음식...   424     3   \n",
       "\n",
       "                                                   태그  \n",
       "0   [맛있어요, 메추리알, 회가, 수족관, 2층, 광어, 가격, 주차, 매운탕, 1층,...  \n",
       "1   [두부, 배추, 청경채, 미나리, 대파, 숙주, 애호박, 양배추, 무채, 표고버섯,...  \n",
       "2   [도가니, 맛있는, 가격, 안주가, 감자전, 10000원, 사진엔, 나온다, 모임,...  \n",
       "3   [음식도, 분위기, 분위, 인테리어, 경치, 음악, 조명, 실내, 선곡, 전망, 채...  \n",
       "4                                              [간장새우]  \n",
       "..                                                ...  \n",
       "95  [기억이, 할라피뇨, 버거, 베이컨, 햄버거, 비사리, 패티, 프라이, 와퍼, 나인...  \n",
       "96  [꼬막, 소면, 주는, 서비스, 자연산, 백골뱅이, 스팸, 많음, 젊은, 간만에, ...  \n",
       "97  [롯데리아, 햄버거, 더블, 맛있습니다, 치즈, 모짜렐라, 같습니, 따끈, 소스, ...  \n",
       "98  [국물이, 깔끔하게, 검색없이, 개인적으로는, 전문점, 담기고, 직원분들도, 위치한...  \n",
       "99  [짜장, 짬뽕, 가족, 보였, 짜장면, 간짜장, 탕수육, 자장면, 잡채밥, 유니, ...  \n",
       "\n",
       "[100 rows x 6 columns]"
      ]
     },
     "execution_count": 479,
     "metadata": {},
     "output_type": "execute_result"
    }
   ],
   "source": [
    "#########################################  실행  #############################################################\n",
    "\n",
    "data100 = summarize_keywords(data100, stopwords)\n",
    "add_tag_fom_keywords(data100)"
   ]
  },
  {
   "cell_type": "code",
   "execution_count": null,
   "id": "separate-launch",
   "metadata": {},
   "outputs": [],
   "source": []
  }
 ],
 "metadata": {
  "kernelspec": {
   "display_name": "Python 3",
   "language": "python",
   "name": "python3"
  },
  "language_info": {
   "codemirror_mode": {
    "name": "ipython",
    "version": 3
   },
   "file_extension": ".py",
   "mimetype": "text/x-python",
   "name": "python",
   "nbconvert_exporter": "python",
   "pygments_lexer": "ipython3",
   "version": "3.6.12"
  }
 },
 "nbformat": 4,
 "nbformat_minor": 5
}
