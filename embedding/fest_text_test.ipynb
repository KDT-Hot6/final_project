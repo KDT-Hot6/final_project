{
 "cells": [
  {
   "cell_type": "code",
   "execution_count": 1,
   "metadata": {},
   "outputs": [],
   "source": [
    "from gensim import models\n",
    "import fasttext\n",
    "import fasttext.util\n",
    "from gensim.models import KeyedVectors"
   ]
  },
  {
   "cell_type": "code",
   "execution_count": 2,
   "metadata": {},
   "outputs": [],
   "source": [
    "ko_naver_model = models.fasttext.load_facebook_model('D:/embedding/word-embeddings/word-embeddings/fasttext/fasttext.bin')"
   ]
  },
  {
   "cell_type": "code",
   "execution_count": 3,
   "metadata": {},
   "outputs": [
    {
     "name": "stderr",
     "output_type": "stream",
     "text": [
      "c:\\users\\vmzbn\\appdata\\local\\programs\\python\\python36\\lib\\site-packages\\ipykernel_launcher.py:1: DeprecationWarning: Call to deprecated `most_similar` (Method will be removed in 4.0.0, use self.wv.most_similar() instead).\n",
      "  \"\"\"Entry point for launching an IPython kernel.\n"
     ]
    },
    {
     "data": {
      "text/plain": [
       "[('바삭', 0.908790111541748),\n",
       " ('식감', 0.8556153178215027),\n",
       " ('쫀득', 0.8286413550376892),\n",
       " ('걸쭉', 0.8248437643051147),\n",
       " ('반죽', 0.8162537813186646),\n",
       " ('양념', 0.8129405975341797),\n",
       " ('박력분', 0.8007721900939941),\n",
       " ('구워낸다', 0.8003592491149902),\n",
       " ('짭조름', 0.7993667125701904),\n",
       " ('페이스트리', 0.7990517020225525),\n",
       " ('고추기름', 0.7984958291053772),\n",
       " ('노릇노릇', 0.7984089255332947),\n",
       " ('모차렐라', 0.7974927425384521),\n",
       " ('구워진', 0.7958670854568481),\n",
       " ('튀긴다', 0.7951773405075073),\n",
       " ('우락유', 0.7924085259437561),\n",
       " ('튀김옷', 0.7922258377075195),\n",
       " ('달짝지근', 0.7916908264160156),\n",
       " ('커스터드', 0.790135383605957),\n",
       " ('노른자', 0.7900753617286682)]"
      ]
     },
     "execution_count": 3,
     "metadata": {},
     "output_type": "execute_result"
    }
   ],
   "source": [
    "ko_naver_model.most_similar('바삭바삭', topn= 20)"
   ]
  },
  {
   "cell_type": "code",
   "execution_count": 4,
   "metadata": {},
   "outputs": [
    {
     "name": "stderr",
     "output_type": "stream",
     "text": [
      "c:\\users\\vmzbn\\appdata\\local\\programs\\python\\python36\\lib\\site-packages\\ipykernel_launcher.py:1: DeprecationWarning: Call to deprecated `most_similar` (Method will be removed in 4.0.0, use self.wv.most_similar() instead).\n",
      "  \"\"\"Entry point for launching an IPython kernel.\n"
     ]
    },
    {
     "data": {
      "text/plain": [
       "[('스파이더맨', 0.8291267156600952),\n",
       " ('어벤져스', 0.8265516757965088),\n",
       " ('어벤저스', 0.8144038319587708),\n",
       " ('엑스맨', 0.7779459357261658),\n",
       " ('마블', 0.767620325088501),\n",
       " ('퍼니셔', 0.7642924785614014),\n",
       " ('엔드게임', 0.7569047212600708),\n",
       " ('배트맨', 0.7564095258712769),\n",
       " ('울버린', 0.7492064237594604),\n",
       " ('프랙션', 0.7484633922576904),\n",
       " ('캣우먼', 0.7480529546737671),\n",
       " ('데어데블', 0.742821991443634),\n",
       " ('울트론', 0.7309391498565674),\n",
       " ('왓치맨', 0.7288624048233032),\n",
       " ('러팔로', 0.7183122634887695),\n",
       " ('헐크', 0.7148374915122986),\n",
       " ('Marvel', 0.7144070863723755),\n",
       " ('언캐니', 0.7135117650032043),\n",
       " ('어메이징', 0.7124030590057373),\n",
       " ('Avengers', 0.710478663444519)]"
      ]
     },
     "execution_count": 4,
     "metadata": {},
     "output_type": "execute_result"
    }
   ],
   "source": [
    "ko_naver_model.most_similar('아이언맨', topn= 20)"
   ]
  },
  {
   "cell_type": "code",
   "execution_count": null,
   "metadata": {},
   "outputs": [],
   "source": [
    "import pandas as pd"
   ]
  },
  {
   "cell_type": "code",
   "execution_count": null,
   "metadata": {},
   "outputs": [],
   "source": [
    "# 한글만 추출\n",
    "df = pd.read_csv('../data/review_total.csv')\n",
    "df['리뷰길이'] = df['리뷰'].str.len()\n",
    "df['리뷰'] = df['리뷰'].str.replace(pat=r'[^가-힣]', repl=r' ', regex=True)"
   ]
  },
  {
   "cell_type": "code",
   "execution_count": null,
   "metadata": {},
   "outputs": [],
   "source": [
    "df.dropna(axis=0)\n",
    "df.head(100)"
   ]
  },
  {
   "cell_type": "code",
   "execution_count": null,
   "metadata": {},
   "outputs": [],
   "source": [
    "df = df['리뷰']\n",
    "df.to_csv('../data/review_train.txt', index = False)"
   ]
  },
  {
   "cell_type": "markdown",
   "metadata": {},
   "source": [
    "# 전이학습"
   ]
  },
  {
   "cell_type": "code",
   "execution_count": 5,
   "metadata": {},
   "outputs": [],
   "source": [
    "corpus_path = '../data/review_train.txt'\n",
    "vec_path = 'D:/embedding/word-embeddings/word-embeddings/fasttext/fasttext.vec'\n",
    "\n",
    "fasttext_model2 = fasttext.train_unsupervised(corpus_path, model='skipgram', pretrainedVectors=vec_path)"
   ]
  },
  {
   "cell_type": "code",
   "execution_count": 6,
   "metadata": {},
   "outputs": [],
   "source": [
    "fasttext_model2.save_model(\"D:/embedding/word-embeddings/word-embeddings/fasttext/add_review.bin\")"
   ]
  },
  {
   "cell_type": "code",
   "execution_count": 7,
   "metadata": {},
   "outputs": [],
   "source": [
    "add_review_model = models.fasttext.load_facebook_model(\"D:/embedding/word-embeddings/word-embeddings/fasttext/add_review.bin\")"
   ]
  },
  {
   "cell_type": "code",
   "execution_count": 8,
   "metadata": {},
   "outputs": [
    {
     "name": "stderr",
     "output_type": "stream",
     "text": [
      "c:\\users\\vmzbn\\appdata\\local\\programs\\python\\python36\\lib\\site-packages\\ipykernel_launcher.py:1: DeprecationWarning: Call to deprecated `most_similar` (Method will be removed in 4.0.0, use self.wv.most_similar() instead).\n",
      "  \"\"\"Entry point for launching an IPython kernel.\n"
     ]
    },
    {
     "data": {
      "text/plain": [
       "[('바삭바삭함', 0.9253836870193481),\n",
       " ('바삭바삭한게', 0.9208213090896606),\n",
       " ('바삭바삭하구', 0.9130364656448364),\n",
       " ('바삭바삭하면서', 0.9083133339881897),\n",
       " ('바삭바삭한데', 0.9065894484519958),\n",
       " ('바삭바삭하니', 0.9061186909675598),\n",
       " ('바삭바삭하고', 0.9059855937957764),\n",
       " ('바삭바삭하며', 0.9048233032226562),\n",
       " ('바삭바삭해요', 0.8968017101287842),\n",
       " ('바삭바삭했고', 0.895775556564331),\n",
       " ('바삭바삭하구요', 0.8918615579605103),\n",
       " ('바삭바삭하게', 0.8902710676193237),\n",
       " ('바삭바삭해서', 0.8837889432907104),\n",
       " ('바삭바삭하지', 0.877785325050354),\n",
       " ('바삭해용', 0.8757435083389282),\n",
       " ('바삭바삭하다', 0.8724093437194824),\n",
       " ('바삭킹', 0.8712385892868042),\n",
       " ('바삭바삭함이', 0.869712769985199),\n",
       " ('바삭바삭한', 0.8694795370101929),\n",
       " ('바삭바삭하네요', 0.867271900177002)]"
      ]
     },
     "execution_count": 8,
     "metadata": {},
     "output_type": "execute_result"
    }
   ],
   "source": [
    "add_review_model.most_similar('바삭바삭', topn= 20)"
   ]
  },
  {
   "cell_type": "code",
   "execution_count": 9,
   "metadata": {},
   "outputs": [
    {
     "name": "stderr",
     "output_type": "stream",
     "text": [
      "c:\\users\\vmzbn\\appdata\\local\\programs\\python\\python36\\lib\\site-packages\\ipykernel_launcher.py:1: DeprecationWarning: Call to deprecated `most_similar` (Method will be removed in 4.0.0, use self.wv.most_similar() instead).\n",
      "  \"\"\"Entry point for launching an IPython kernel.\n"
     ]
    },
    {
     "data": {
      "text/plain": [
       "[('아이언스', 0.9556294679641724),\n",
       " ('아이파크', 0.9425411224365234),\n",
       " ('아이언', 0.9400742053985596),\n",
       " ('아이파크몰', 0.939197301864624),\n",
       " ('아이에로', 0.936378002166748),\n",
       " ('아이테', 0.935638964176178),\n",
       " ('아이나루', 0.9356188774108887),\n",
       " ('아이즈너', 0.9335494637489319),\n",
       " ('아이마크', 0.9315465688705444),\n",
       " ('아이소라', 0.9301633834838867),\n",
       " ('아이게우스', 0.9291608929634094),\n",
       " ('아이에테스', 0.9275885820388794),\n",
       " ('아이데오', 0.9271469116210938),\n",
       " ('아이브', 0.9247022271156311),\n",
       " ('아이다호주', 0.924557626247406),\n",
       " ('아이소프로필', 0.9242022633552551),\n",
       " ('아이메', 0.9239145517349243),\n",
       " ('아이웨이', 0.9237712621688843),\n",
       " ('아이템베이', 0.923140287399292),\n",
       " ('아이네이아스', 0.9229218363761902)]"
      ]
     },
     "execution_count": 9,
     "metadata": {},
     "output_type": "execute_result"
    }
   ],
   "source": [
    "add_review_model.most_similar('아이언맨', topn= 20)"
   ]
  },
  {
   "cell_type": "code",
   "execution_count": 15,
   "metadata": {},
   "outputs": [
    {
     "name": "stderr",
     "output_type": "stream",
     "text": [
      "c:\\users\\vmzbn\\appdata\\local\\programs\\python\\python36\\lib\\site-packages\\ipykernel_launcher.py:1: DeprecationWarning: Call to deprecated `most_similar` (Method will be removed in 4.0.0, use self.wv.most_similar() instead).\n",
      "  \"\"\"Entry point for launching an IPython kernel.\n"
     ]
    }
   ],
   "source": [
    "similar_list = add_review_model.most_similar('바삭바삭', topn= 100)"
   ]
  },
  {
   "cell_type": "code",
   "execution_count": 21,
   "metadata": {},
   "outputs": [
    {
     "data": {
      "text/plain": [
       "[('바사삭이', 0.8327742218971252),\n",
       " ('바사삭', 0.8258183002471924),\n",
       " ('눅눅하지않고', 0.8214508295059204),\n",
       " ('티토노스', 0.814406156539917),\n",
       " ('바사삭은', 0.8110088109970093),\n",
       " ('크리스피한게', 0.8105068206787109),\n",
       " ('튀겨나와서', 0.8050976991653442),\n",
       " ('겉바', 0.8048790097236633),\n",
       " ('속촉촉', 0.804054319858551),\n",
       " ('바사삭한', 0.802754282951355),\n",
       " ('속촉', 0.8021241426467896),\n",
       " ('겉바속촉이라', 0.8020647764205933),\n",
       " ('튀겨졌고', 0.8017632961273193),\n",
       " ('콘튀김도', 0.799837052822113),\n",
       " ('파삭파삭', 0.7980551719665527),\n",
       " ('빠삭', 0.7980209589004517),\n",
       " ('바싹하고', 0.7960165739059448),\n",
       " ('잘튀겨져서', 0.7950886487960815),\n",
       " ('겉바속초', 0.7939895391464233),\n",
       " ('겉바속쫀', 0.7924770712852478),\n",
       " ('튀겨져서', 0.7922219634056091),\n",
       " ('Intolerance', 0.7921105623245239),\n",
       " ('진술문', 0.7904036045074463),\n",
       " ('눅눅하니', 0.7900800108909607),\n",
       " ('튀겨짐', 0.7895286083221436),\n",
       " ('튀겨지고', 0.7891125679016113),\n",
       " ('게튀김도', 0.7890134453773499),\n",
       " ('바사삭을', 0.7889432311058044),\n",
       " ('첨단', 0.7884703278541565),\n",
       " ('까짐', 0.7874320149421692),\n",
       " ('촉촉하구', 0.7836169004440308),\n",
       " ('빠삭하고', 0.7828496694564819),\n",
       " ('튀김들도', 0.7824589014053345),\n",
       " ('똥집튀김은', 0.782092809677124)]"
      ]
     },
     "execution_count": 21,
     "metadata": {},
     "output_type": "execute_result"
    }
   ],
   "source": [
    "res = []\n",
    "for item in similar_list:\n",
    "    if '바삭' not in str(item[0]):\n",
    "        res.append(item)\n",
    "res"
   ]
  },
  {
   "cell_type": "markdown",
   "metadata": {},
   "source": [
    "# 리뷰데이터만 학습"
   ]
  },
  {
   "cell_type": "code",
   "execution_count": 10,
   "metadata": {},
   "outputs": [],
   "source": [
    "review_only = fasttext.train_unsupervised(corpus_path, model='skipgram')\n",
    "review_only.save_model(\"D:/embedding/word-embeddings/word-embeddings/fasttext/review_only.bin\")"
   ]
  },
  {
   "cell_type": "code",
   "execution_count": 11,
   "metadata": {},
   "outputs": [],
   "source": [
    "review_only_model = models.fasttext.load_facebook_model(\"D:/embedding/word-embeddings/word-embeddings/fasttext/review_only.bin\")"
   ]
  },
  {
   "cell_type": "code",
   "execution_count": 12,
   "metadata": {},
   "outputs": [
    {
     "name": "stderr",
     "output_type": "stream",
     "text": [
      "c:\\users\\vmzbn\\appdata\\local\\programs\\python\\python36\\lib\\site-packages\\ipykernel_launcher.py:1: DeprecationWarning: Call to deprecated `most_similar` (Method will be removed in 4.0.0, use self.wv.most_similar() instead).\n",
      "  \"\"\"Entry point for launching an IPython kernel.\n"
     ]
    },
    {
     "data": {
      "text/plain": [
       "[('바삭바삭함', 0.894188404083252),\n",
       " ('바삭바삭한게', 0.867201566696167),\n",
       " ('바삭바삭하구', 0.861092746257782),\n",
       " ('바삭바삭한데', 0.8505887389183044),\n",
       " ('바삭바삭하고', 0.8498222231864929),\n",
       " ('바삭바삭했고', 0.848747968673706),\n",
       " ('바삭바삭하면서', 0.8483079671859741),\n",
       " ('바삭해용', 0.8471418023109436),\n",
       " ('바삭바삭해요', 0.8428356647491455),\n",
       " ('바삭바삭하며', 0.8401284217834473),\n",
       " ('바삭바삭하니', 0.8378376960754395),\n",
       " ('바삭바삭하구요', 0.8333157300949097),\n",
       " ('바삭킹', 0.8301939964294434),\n",
       " ('바삭쫄깃', 0.8291574120521545),\n",
       " ('바삭바삭해서', 0.8268923759460449),\n",
       " ('바삭', 0.8246217966079712),\n",
       " ('바삭해', 0.8100558519363403),\n",
       " ('바삭바삭합니다', 0.8080130815505981),\n",
       " ('바삭하고', 0.8065502643585205),\n",
       " ('바삭바삭하지', 0.8063558340072632)]"
      ]
     },
     "execution_count": 12,
     "metadata": {},
     "output_type": "execute_result"
    }
   ],
   "source": [
    "review_only_model.most_similar('바삭바삭', topn= 20)"
   ]
  },
  {
   "cell_type": "code",
   "execution_count": 13,
   "metadata": {},
   "outputs": [
    {
     "name": "stderr",
     "output_type": "stream",
     "text": [
      "c:\\users\\vmzbn\\appdata\\local\\programs\\python\\python36\\lib\\site-packages\\ipykernel_launcher.py:1: DeprecationWarning: Call to deprecated `most_similar` (Method will be removed in 4.0.0, use self.wv.most_similar() instead).\n",
      "  \"\"\"Entry point for launching an IPython kernel.\n"
     ]
    },
    {
     "data": {
      "text/plain": [
       "[('아이템으로', 0.8233352899551392),\n",
       " ('복합문화공간', 0.817194938659668),\n",
       " ('목란', 0.8125492930412292),\n",
       " ('일제', 0.8085875511169434),\n",
       " ('광활한', 0.8069210052490234),\n",
       " ('아이유', 0.8064696788787842),\n",
       " ('꿈을', 0.8054280877113342),\n",
       " ('우체국', 0.8042140603065491),\n",
       " ('성장한', 0.8038409352302551),\n",
       " ('아이돌', 0.8031944036483765),\n",
       " ('업무를', 0.8008317351341248),\n",
       " ('제휴를', 0.7947787046432495),\n",
       " ('릴트', 0.793370246887207),\n",
       " ('머나먼', 0.792629599571228),\n",
       " ('키를', 0.7923523187637329),\n",
       " ('동명의', 0.7921640872955322),\n",
       " ('지팡이', 0.7915856242179871),\n",
       " ('아이패드', 0.7906191349029541),\n",
       " ('헤드', 0.7903295755386353),\n",
       " ('뜻도', 0.788210391998291)]"
      ]
     },
     "execution_count": 13,
     "metadata": {},
     "output_type": "execute_result"
    }
   ],
   "source": [
    "review_only_model.most_similar('아이언맨', topn= 20)"
   ]
  },
  {
   "cell_type": "code",
   "execution_count": 22,
   "metadata": {},
   "outputs": [
    {
     "name": "stderr",
     "output_type": "stream",
     "text": [
      "c:\\users\\vmzbn\\appdata\\local\\programs\\python\\python36\\lib\\site-packages\\ipykernel_launcher.py:1: DeprecationWarning: Call to deprecated `most_similar` (Method will be removed in 4.0.0, use self.wv.most_similar() instead).\n",
      "  \"\"\"Entry point for launching an IPython kernel.\n"
     ]
    }
   ],
   "source": [
    "similar_list = review_only_model.most_similar('바삭바삭', topn= 100)"
   ]
  },
  {
   "cell_type": "code",
   "execution_count": 23,
   "metadata": {},
   "outputs": [
    {
     "data": {
      "text/plain": [
       "[('까짐', 0.7449440956115723),\n",
       " ('입천장', 0.7326721549034119),\n",
       " ('크리스피한게', 0.7279679775238037),\n",
       " ('촉촉', 0.7268434762954712),\n",
       " ('눅눅하지않고', 0.7229833006858826),\n",
       " ('빠삭', 0.7170674800872803),\n",
       " ('파삭파삭', 0.7140731811523438),\n",
       " ('크리스피는', 0.7073227763175964),\n",
       " ('튀겨졌고', 0.7073180079460144),\n",
       " ('바사삭', 0.7055266499519348),\n",
       " ('겉옷이', 0.7035195827484131),\n",
       " ('겉바속촉이라', 0.700547456741333),\n",
       " ('크리스피가', 0.6997394561767578),\n",
       " ('속촉촉', 0.6995090246200562),\n",
       " ('게튀김도', 0.6989612579345703),\n",
       " ('눅눅하지', 0.6957610845565796),\n",
       " ('빠삭하고', 0.6949418783187866),\n",
       " ('튀겨나와서', 0.6947479844093323),\n",
       " ('눅눅하니', 0.6939213275909424),\n",
       " ('안남튀김도', 0.6939132213592529),\n",
       " ('눅눅하지만', 0.6908881664276123),\n",
       " ('잘튀겨져서', 0.690407395362854),\n",
       " ('꽃빵도', 0.6898881196975708),\n",
       " ('튀겨졌다', 0.6896281242370605),\n",
       " ('튀겨짐', 0.6893412470817566),\n",
       " ('바사삭은', 0.6863605976104736),\n",
       " ('파삭파삭하고', 0.6859449744224548),\n",
       " ('양파튀김도', 0.6846834421157837),\n",
       " ('똥집튀김은', 0.6808947324752808),\n",
       " ('빠삭해서', 0.6796289682388306),\n",
       " ('튀김옷', 0.6760017275810242)]"
      ]
     },
     "execution_count": 23,
     "metadata": {},
     "output_type": "execute_result"
    }
   ],
   "source": [
    "res = []\n",
    "for item in similar_list:\n",
    "    if '바삭' not in str(item[0]):\n",
    "        res.append(item)\n",
    "res"
   ]
  },
  {
   "cell_type": "code",
   "execution_count": 26,
   "metadata": {},
   "outputs": [
    {
     "name": "stderr",
     "output_type": "stream",
     "text": [
      "c:\\users\\vmzbn\\appdata\\local\\programs\\python\\python36\\lib\\site-packages\\ipykernel_launcher.py:1: DeprecationWarning: Call to deprecated `most_similar` (Method will be removed in 4.0.0, use self.wv.most_similar() instead).\n",
      "  \"\"\"Entry point for launching an IPython kernel.\n"
     ]
    }
   ],
   "source": [
    "similar_list = review_only_model.most_similar('웨이팅', topn= 100)"
   ]
  },
  {
   "cell_type": "code",
   "execution_count": 28,
   "metadata": {},
   "outputs": [
    {
     "data": {
      "text/plain": [
       "[('피크시간', 0.7555072903633118),\n",
       " ('기다린것', 0.7305449843406677),\n",
       " ('기다림없이', 0.7300765514373779),\n",
       " ('길다음식', 0.7229601144790649),\n",
       " ('주말기준', 0.7227039337158203),\n",
       " ('기다릴뻔', 0.7188434600830078)]"
      ]
     },
     "execution_count": 28,
     "metadata": {},
     "output_type": "execute_result"
    }
   ],
   "source": [
    "res = []\n",
    "for item in similar_list:\n",
    "    if '웨이팅' not in str(item[0]) and '대기' not in str(item[0]):\n",
    "        res.append(item)\n",
    "res"
   ]
  },
  {
   "cell_type": "code",
   "execution_count": 37,
   "metadata": {},
   "outputs": [
    {
     "name": "stderr",
     "output_type": "stream",
     "text": [
      "c:\\users\\vmzbn\\appdata\\local\\programs\\python\\python36\\lib\\site-packages\\ipykernel_launcher.py:1: DeprecationWarning: Call to deprecated `most_similar` (Method will be removed in 4.0.0, use self.wv.most_similar() instead).\n",
      "  \"\"\"Entry point for launching an IPython kernel.\n"
     ]
    }
   ],
   "source": [
    "similar_list = review_only_model.most_similar('불친절', topn= 200)"
   ]
  },
  {
   "cell_type": "code",
   "execution_count": 38,
   "metadata": {},
   "outputs": [
    {
     "data": {
      "text/plain": [
       "[('알바들', 0.7276334166526794),\n",
       " ('알바생', 0.7207604646682739),\n",
       " ('알바', 0.718183159828186),\n",
       " ('종업원은', 0.7179351449012756),\n",
       " ('친절하진않음', 0.7137433290481567),\n",
       " ('무뚝뚝', 0.7119400501251221),\n",
       " ('친절한데', 0.7058830261230469),\n",
       " ('알바생도', 0.7036237120628357),\n",
       " ('일하시는분', 0.7028957605361938),\n",
       " ('종업원들', 0.7017734050750732),\n",
       " ('알바생분이', 0.7011901140213013),\n",
       " ('서빙하시는분', 0.6989797353744507),\n",
       " ('알바생을', 0.6984858512878418),\n",
       " ('알바로', 0.6976443529129028),\n",
       " ('친절하지않음', 0.6973872780799866),\n",
       " ('알바분', 0.697306752204895),\n",
       " ('표정도', 0.6935571432113647),\n",
       " ('알바생은', 0.6925359964370728),\n",
       " ('무뚝뚝하고', 0.6903599500656128),\n",
       " ('알바생한테', 0.6900390982627869),\n",
       " ('여직원', 0.689188539981842),\n",
       " ('불쾌', 0.6876145601272583),\n",
       " ('친절한듯', 0.6852763891220093),\n",
       " ('개판', 0.6822618246078491),\n",
       " ('알바한테', 0.6811792254447937),\n",
       " ('기분나빠', 0.6810377836227417),\n",
       " ('알바들은', 0.6801918148994446),\n",
       " ('종업원과', 0.6800836324691772),\n",
       " ('종업원의', 0.6793085336685181),\n",
       " ('남직원', 0.6786272525787354),\n",
       " ('싸가지', 0.6767398118972778),\n",
       " ('알바생인지', 0.674506664276123),\n",
       " ('가고싶지않음', 0.674262523651123),\n",
       " ('알바생들', 0.6742441058158875),\n",
       " ('표정이', 0.6737468242645264),\n",
       " ('기분나빠서', 0.6716011762619019),\n",
       " ('친절하나', 0.6713714599609375),\n",
       " ('인성', 0.6706947088241577),\n",
       " ('기분나쁨', 0.6704628467559814),\n",
       " ('말투는', 0.669325053691864),\n",
       " ('무표정', 0.6680434942245483),\n",
       " ('반말', 0.6675091981887817),\n",
       " ('직원서비스가', 0.6671625375747681),\n",
       " ('친절한거', 0.6662266254425049),\n",
       " ('꽝', 0.6652307510375977),\n",
       " ('의사소통', 0.6638444066047668),\n",
       " ('아줌마도', 0.6625059843063354),\n",
       " ('종업원분', 0.6618207693099976),\n",
       " ('무서움', 0.6617319583892822),\n",
       " ('말투도', 0.6616950035095215),\n",
       " ('비위생적', 0.6599249839782715),\n",
       " ('알바생에게', 0.6597834825515747),\n",
       " ('알바는', 0.659505307674408),\n",
       " ('일하시는분들', 0.6589746475219727),\n",
       " ('표정에', 0.6586538553237915),\n",
       " ('친절한편은', 0.6585804224014282),\n",
       " ('서빙하시는분이', 0.6583905220031738),\n",
       " ('알바생이', 0.656960666179657),\n",
       " ('알바가', 0.6566877961158752),\n",
       " ('싶지않음', 0.6561504006385803),\n",
       " ('알바생의', 0.6554703712463379),\n",
       " ('나쁨', 0.6554216742515564),\n",
       " ('기분나빴음', 0.6551743149757385),\n",
       " ('계산하시는', 0.6548552513122559),\n",
       " ('서빙직원', 0.654029369354248),\n",
       " ('표정', 0.6533561944961548),\n",
       " ('알바생들은', 0.6524820327758789),\n",
       " ('기분나쁘고', 0.6524625420570374),\n",
       " ('친절한건', 0.6519410610198975),\n",
       " ('친절쓰', 0.6514182090759277),\n",
       " ('의사소통이', 0.6508996486663818),\n",
       " ('비위생적임', 0.6506364345550537),\n",
       " ('직원들때문에', 0.6502301692962646),\n",
       " ('불쾌함', 0.6501263976097107),\n",
       " ('개판임', 0.649898886680603),\n",
       " ('안경쓴', 0.6490993499755859),\n",
       " ('싸가지가', 0.6486673355102539),\n",
       " ('별로요', 0.6484380960464478),\n",
       " ('아줌마들', 0.6470476388931274),\n",
       " ('말투가', 0.6447402238845825),\n",
       " ('빈정', 0.6440012454986572),\n",
       " ('알바분들', 0.6439660787582397),\n",
       " ('아줌마는', 0.6436585187911987),\n",
       " ('말투', 0.6434922218322754),\n",
       " ('친절과', 0.6432210206985474),\n",
       " ('상함', 0.6426072716712952),\n",
       " ('알바생분', 0.6420773863792419),\n",
       " ('일하시는분이', 0.6419922113418579),\n",
       " ('주문받을때', 0.6409066915512085),\n",
       " ('퉁명스러움', 0.6408830881118774),\n",
       " ('짜증남', 0.640123724937439),\n",
       " ('최악임', 0.6398406028747559),\n",
       " ('소리지르면서', 0.6394934058189392),\n",
       " ('한분', 0.6388529539108276),\n",
       " ('비싸기만하고', 0.6385667324066162),\n",
       " ('알바들이', 0.6374109983444214),\n",
       " ('알바도', 0.6373211145401001),\n",
       " ('직원들', 0.6373100280761719),\n",
       " ('말투와', 0.6367996335029602),\n",
       " ('종업원들은', 0.6366859674453735),\n",
       " ('서빙하는분', 0.6364293098449707),\n",
       " ('안좋았나', 0.6361508369445801),\n",
       " ('종업원께', 0.6361365914344788),\n",
       " ('엉망임', 0.6360575556755066),\n",
       " ('친절을', 0.6354867815971375),\n",
       " ('알바인지', 0.6354827880859375),\n",
       " ('안좋고', 0.6349512338638306),\n",
       " ('직원만', 0.6347877383232117),\n",
       " ('안경', 0.6337718367576599),\n",
       " ('친절하신데', 0.6334215402603149),\n",
       " ('친절했으나', 0.6333357691764832),\n",
       " ('안좋았음', 0.6332813501358032),\n",
       " ('직원과', 0.6326369047164917),\n",
       " ('알바의', 0.6322554349899292),\n",
       " ('서빙하시고', 0.6322013139724731),\n",
       " ('친절하단', 0.6321640014648438),\n",
       " ('주인집', 0.6321267485618591),\n",
       " ('알바분이', 0.6320928335189819),\n",
       " ('전화받는', 0.6311622858047485),\n",
       " ('친절하지않다', 0.6310226917266846),\n",
       " ('친절하긴', 0.6307874917984009),\n",
       " ('직원인지', 0.6294426918029785),\n",
       " ('가고싶지않네요', 0.6287968754768372),\n",
       " ('태도가', 0.6282798051834106),\n",
       " ('알바분들은', 0.627899706363678),\n",
       " ('똥씹은', 0.6275576949119568),\n",
       " ('직원교육이', 0.6274828314781189),\n",
       " ('사장은', 0.6269437074661255),\n",
       " ('직원교육', 0.625982403755188),\n",
       " ('친절한편', 0.6258262395858765),\n",
       " ('여자분', 0.6255235075950623),\n",
       " ('반말을', 0.6252968907356262),\n",
       " ('서버들', 0.6249216794967651),\n",
       " ('직원들은', 0.6249037981033325),\n",
       " ('짜증', 0.6241711378097534),\n",
       " ('짜증날', 0.6241188645362854),\n",
       " ('짜증내고', 0.6240605115890503),\n",
       " ('종업원들이', 0.623661994934082)]"
      ]
     },
     "execution_count": 38,
     "metadata": {},
     "output_type": "execute_result"
    }
   ],
   "source": [
    "res = []\n",
    "for item in similar_list:\n",
    "    if '불친절' not in str(item[0]):\n",
    "        res.append(item)\n",
    "res"
   ]
  },
  {
   "cell_type": "code",
   "execution_count": null,
   "metadata": {},
   "outputs": [],
   "source": []
  }
 ],
 "metadata": {
  "kernelspec": {
   "display_name": "PythonHome_p36",
   "language": "python",
   "name": "embedding"
  },
  "language_info": {
   "codemirror_mode": {
    "name": "ipython",
    "version": 3
   },
   "file_extension": ".py",
   "mimetype": "text/x-python",
   "name": "python",
   "nbconvert_exporter": "python",
   "pygments_lexer": "ipython3",
   "version": "3.6.5"
  }
 },
 "nbformat": 4,
 "nbformat_minor": 4
}
