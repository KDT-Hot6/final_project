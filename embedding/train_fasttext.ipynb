{
 "cells": [
  {
   "cell_type": "code",
   "execution_count": 1,
   "metadata": {},
   "outputs": [],
   "source": [
    "from gensim import models\n",
    "import fasttext\n",
    "import fasttext.util\n",
    "from gensim.models import KeyedVectors\n",
    "import pandas as pd"
   ]
  },
  {
   "cell_type": "code",
   "execution_count": 3,
   "metadata": {},
   "outputs": [
    {
     "data": {
      "text/plain": [
       "0         증정 꼬북칩을 사기위해 두루마리휴지를 사가는 인간의 심리처럼 점심시간 후에는 짤없이...\n",
       "1         서울  등 된장찌개다  된장찌개를 팔아서 건물을 세웠다고 하는데 그정도면 말 다하지...\n",
       "2         날씨가 추워져 급 따뜻한 된장이 아닌 정말 뜨끈 뜨끈  한 된장찌개가 땡겨 찾아간 ...\n",
       "3           새해복 많이 받으세용   고기는 맛이 없는데 된장찌개는 인생 최고의 집이는 사람...\n",
       "4         토시살이랑 된장이 유명한 선유도역 음식점이다  된장 꽤 맛있다  맛집이라고 멀리서 ...\n",
       "                                ...                        \n",
       "606071    사장님 완전 친절하시구요  둘이서 여기가서 꼬마김밥  만두  라면 시켜먹으면 완전 ...\n",
       "606072                                보기에도 양식의 진미가 보이네요    \n",
       "606073    분위기도 아기자기하고 카레가 느끼하지도 않고 정말 맛있었어요  카레 별로 안 좋아하...\n",
       "606074    치즈돈까스 먹었는데 치즈가 정말 듬뿍 들어있고 그렇다고 고기가 얇은 것도 아니라 정...\n",
       "606075                                학교앞에 신상맛집이 생겼네요 기대됩니다\n",
       "Name: REV_PRO_COM, Length: 606076, dtype: object"
      ]
     },
     "execution_count": 3,
     "metadata": {},
     "output_type": "execute_result"
    }
   ],
   "source": [
    "df = pd.read_csv('../data/hot6_db.csv')\n",
    "df = df['REV_PRO_COM']\n",
    "df"
   ]
  },
  {
   "cell_type": "code",
   "execution_count": 4,
   "metadata": {},
   "outputs": [],
   "source": [
    "df.to_csv('../data/final_review_train.txt', index = False)"
   ]
  },
  {
   "cell_type": "code",
   "execution_count": 5,
   "metadata": {},
   "outputs": [],
   "source": [
    "corpus_path = '../data/final_review_train.txt'\n",
    "review_only = fasttext.train_unsupervised(corpus_path, model='skipgram')\n",
    "review_only.save_model(\"D:/embedding/word-embeddings/word-embeddings/fasttext/final_review.bin\")"
   ]
  },
  {
   "cell_type": "code",
   "execution_count": 7,
   "metadata": {},
   "outputs": [],
   "source": [
    "review_only_model = models.fasttext.load_facebook_model(\"D:/embedding/word-embeddings/word-embeddings/fasttext/final_review.bin\")"
   ]
  },
  {
   "cell_type": "code",
   "execution_count": 8,
   "metadata": {},
   "outputs": [
    {
     "name": "stderr",
     "output_type": "stream",
     "text": [
      "c:\\users\\vmzbn\\appdata\\local\\programs\\python\\python36\\lib\\site-packages\\ipykernel_launcher.py:1: DeprecationWarning: Call to deprecated `most_similar` (Method will be removed in 4.0.0, use self.wv.most_similar() instead).\n",
      "  \"\"\"Entry point for launching an IPython kernel.\n"
     ]
    },
    {
     "data": {
      "text/plain": [
       "[('빠삭빠삭하고', 0.801435649394989),\n",
       " ('빠삭빠삭', 0.7670348286628723),\n",
       " ('빠삭빠삭한', 0.7568466067314148),\n",
       " ('빠삭하고', 0.7529376149177551),\n",
       " ('겉바속촉하니', 0.7523515224456787),\n",
       " ('겉바속촉이라', 0.7483476996421814),\n",
       " ('빠삭', 0.745246171951294),\n",
       " ('빠삭빠삭하게', 0.7431166172027588),\n",
       " ('파삭파삭', 0.7426348328590393),\n",
       " ('빠삭하니', 0.7407511472702026),\n",
       " ('촉촉', 0.7362619638442993),\n",
       " ('바싹하고', 0.7359985113143921),\n",
       " ('바싹하니', 0.7345250844955444),\n",
       " ('크리스피한게', 0.7302356958389282),\n",
       " ('눅눅하지않고', 0.7285027503967285),\n",
       " ('빠삭빠삭해서', 0.7278058528900146),\n",
       " ('속촉촉', 0.7277700304985046),\n",
       " ('크리스피도', 0.7248620986938477),\n",
       " ('빠삭해요', 0.7205883264541626)]"
      ]
     },
     "execution_count": 8,
     "metadata": {},
     "output_type": "execute_result"
    }
   ],
   "source": [
    "similar_list = review_only_model.most_similar('바삭바삭', topn= 100)\n",
    "res = []\n",
    "for item in similar_list:\n",
    "    if '바삭' not in str(item[0]):\n",
    "        res.append(item)\n",
    "res"
   ]
  },
  {
   "cell_type": "code",
   "execution_count": 10,
   "metadata": {},
   "outputs": [
    {
     "name": "stderr",
     "output_type": "stream",
     "text": [
      "c:\\users\\vmzbn\\appdata\\local\\programs\\python\\python36\\lib\\site-packages\\ipykernel_launcher.py:1: DeprecationWarning: Call to deprecated `most_similar` (Method will be removed in 4.0.0, use self.wv.most_similar() instead).\n",
      "  \"\"\"Entry point for launching an IPython kernel.\n"
     ]
    },
    {
     "data": {
      "text/plain": [
       "[('분위', 0.8721233606338501),\n",
       " ('분위는', 0.8080794215202332),\n",
       " ('힙함', 0.7962723970413208),\n",
       " ('분위도', 0.7956704497337341),\n",
       " ('음악좋고', 0.7944658994674683),\n",
       " ('어둑', 0.7895740866661072),\n",
       " ('인테리어', 0.7805398106575012),\n",
       " ('분위가', 0.772180438041687),\n",
       " ('갬성갬성', 0.7677160501480103),\n",
       " ('모던함', 0.7641482949256897),\n",
       " ('분위긴데', 0.7638753652572632),\n",
       " ('분위긴', 0.7608217000961304),\n",
       " ('분위가도', 0.7588932514190674),\n",
       " ('선곡과', 0.7519004940986633),\n",
       " ('분의기', 0.7517176866531372),\n",
       " ('조도', 0.7504595518112183),\n",
       " ('어둑하고', 0.7487616539001465),\n",
       " ('안락함', 0.7479791045188904),\n",
       " ('조용하고', 0.746873140335083),\n",
       " ('시끄럽지않은', 0.7466752529144287),\n",
       " ('아늑하', 0.7449232339859009),\n",
       " ('실내외', 0.7445935010910034),\n",
       " ('흥겹고', 0.7431972026824951),\n",
       " ('케주얼한', 0.743005633354187),\n",
       " ('깡패에', 0.7415227293968201),\n",
       " ('세련됨', 0.7409405708312988),\n",
       " ('실내인테리어', 0.7408185005187988),\n",
       " ('음악까지', 0.7395023107528687),\n",
       " ('재즈풍의', 0.7389229536056519)]"
      ]
     },
     "execution_count": 10,
     "metadata": {},
     "output_type": "execute_result"
    }
   ],
   "source": [
    "similar_list = review_only_model.most_similar('분위기', topn= 100)\n",
    "res = []\n",
    "for item in similar_list:\n",
    "    if '분위기' not in str(item[0]):\n",
    "        res.append(item)\n",
    "res"
   ]
  },
  {
   "cell_type": "code",
   "execution_count": 11,
   "metadata": {},
   "outputs": [
    {
     "name": "stderr",
     "output_type": "stream",
     "text": [
      "c:\\users\\vmzbn\\appdata\\local\\programs\\python\\python36\\lib\\site-packages\\ipykernel_launcher.py:1: DeprecationWarning: Call to deprecated `most_similar` (Method will be removed in 4.0.0, use self.wv.most_similar() instead).\n",
      "  \"\"\"Entry point for launching an IPython kernel.\n"
     ]
    },
    {
     "data": {
      "text/plain": [
       "[('알바만', 0.7363191843032837),\n",
       " ('퉁명', 0.734967827796936),\n",
       " ('알바생인가', 0.734306812286377),\n",
       " ('알바생만', 0.7275105714797974),\n",
       " ('무표정', 0.724105715751648),\n",
       " ('친절하지않음', 0.7231603264808655),\n",
       " ('알바생들', 0.7210347652435303),\n",
       " ('알바생의', 0.7209560871124268),\n",
       " ('알바나', 0.7203485369682312),\n",
       " ('싸가지없고', 0.7174922227859497),\n",
       " ('알바생들만', 0.7157877683639526),\n",
       " ('친절한듯', 0.7148169875144958),\n",
       " ('알바', 0.7143036723136902),\n",
       " ('퉁명스런', 0.711321234703064),\n",
       " ('알바생', 0.7103193998336792),\n",
       " ('기분나빠요', 0.7102832794189453),\n",
       " ('알바분은', 0.7099977731704712),\n",
       " ('알바생들은', 0.7089574337005615),\n",
       " ('불쾌함', 0.7057938575744629),\n",
       " ('무뚝뚝', 0.7043530941009521),\n",
       " ('친절하진않음', 0.7025632858276367),\n",
       " ('알바생한테', 0.7019325494766235),\n",
       " ('사장이고', 0.700455367565155),\n",
       " ('기분나빠', 0.6994235515594482),\n",
       " ('개싸가지', 0.6982712745666504),\n",
       " ('다신안가요', 0.6975542306900024),\n",
       " ('불쾌', 0.6961225271224976)]"
      ]
     },
     "execution_count": 11,
     "metadata": {},
     "output_type": "execute_result"
    }
   ],
   "source": [
    "similar_list = review_only_model.most_similar('불친절', topn= 100)\n",
    "res = []\n",
    "for item in similar_list:\n",
    "    if '불친절' not in str(item[0]):\n",
    "        res.append(item)\n",
    "res"
   ]
  },
  {
   "cell_type": "code",
   "execution_count": null,
   "metadata": {},
   "outputs": [],
   "source": []
  }
 ],
 "metadata": {
  "kernelspec": {
   "display_name": "PythonHome_p36",
   "language": "python",
   "name": "embedding"
  },
  "language_info": {
   "codemirror_mode": {
    "name": "ipython",
    "version": 3
   },
   "file_extension": ".py",
   "mimetype": "text/x-python",
   "name": "python",
   "nbconvert_exporter": "python",
   "pygments_lexer": "ipython3",
   "version": "3.6.5"
  }
 },
 "nbformat": 4,
 "nbformat_minor": 4
}
