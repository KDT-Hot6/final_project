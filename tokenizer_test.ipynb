{
  "nbformat": 4,
  "nbformat_minor": 0,
  "metadata": {
    "colab": {
      "name": "tokenizer_test.ipynb",
      "provenance": [],
      "collapsed_sections": []
    },
    "kernelspec": {
      "name": "python3",
      "display_name": "Python 3"
    },
    "accelerator": "GPU"
  },
  "cells": [
    {
      "cell_type": "code",
      "metadata": {
        "colab": {
          "base_uri": "https://localhost:8080/"
        },
        "id": "leKZqRJd3lmO",
        "outputId": "1656ce20-9698-4eab-e16a-15682c6eb946"
      },
      "source": [
        "!pip install surprise"
      ],
      "execution_count": 3,
      "outputs": [
        {
          "output_type": "stream",
          "text": [
            "Collecting surprise\n",
            "  Downloading https://files.pythonhosted.org/packages/61/de/e5cba8682201fcf9c3719a6fdda95693468ed061945493dea2dd37c5618b/surprise-0.1-py2.py3-none-any.whl\n",
            "Collecting scikit-surprise\n",
            "\u001b[?25l  Downloading https://files.pythonhosted.org/packages/97/37/5d334adaf5ddd65da99fc65f6507e0e4599d092ba048f4302fe8775619e8/scikit-surprise-1.1.1.tar.gz (11.8MB)\n",
            "\u001b[K     |████████████████████████████████| 11.8MB 8.0MB/s \n",
            "\u001b[?25hRequirement already satisfied: joblib>=0.11 in /usr/local/lib/python3.7/dist-packages (from scikit-surprise->surprise) (1.0.1)\n",
            "Requirement already satisfied: numpy>=1.11.2 in /usr/local/lib/python3.7/dist-packages (from scikit-surprise->surprise) (1.19.5)\n",
            "Requirement already satisfied: scipy>=1.0.0 in /usr/local/lib/python3.7/dist-packages (from scikit-surprise->surprise) (1.4.1)\n",
            "Requirement already satisfied: six>=1.10.0 in /usr/local/lib/python3.7/dist-packages (from scikit-surprise->surprise) (1.15.0)\n",
            "Building wheels for collected packages: scikit-surprise\n",
            "  Building wheel for scikit-surprise (setup.py) ... \u001b[?25l\u001b[?25hdone\n",
            "  Created wheel for scikit-surprise: filename=scikit_surprise-1.1.1-cp37-cp37m-linux_x86_64.whl size=1617579 sha256=feb6cfbca24ad3e6bfb4d661a10984e8d9949844fdda323154e5c63c860085b3\n",
            "  Stored in directory: /root/.cache/pip/wheels/78/9c/3d/41b419c9d2aff5b6e2b4c0fc8d25c538202834058f9ed110d0\n",
            "Successfully built scikit-surprise\n",
            "Installing collected packages: scikit-surprise, surprise\n",
            "Successfully installed scikit-surprise-1.1.1 surprise-0.1\n"
          ],
          "name": "stdout"
        }
      ]
    },
    {
      "cell_type": "code",
      "metadata": {
        "id": "C2nEqZSi30tt"
      },
      "source": [
        "from surprise import Dataset\n",
        "from surprise import Reader\n",
        "\n",
        "from collections import defaultdict\n",
        "import numpy as np\n",
        "import pandas as pd\n",
        "import io\n",
        "import re"
      ],
      "execution_count": 4,
      "outputs": []
    },
    {
      "cell_type": "markdown",
      "metadata": {
        "id": "5ZfoIeH35-To"
      },
      "source": [
        "\n",
        "# Menupan Crawling Data Load"
      ]
    },
    {
      "cell_type": "code",
      "metadata": {
        "colab": {
          "base_uri": "https://localhost:8080/"
        },
        "id": "668RXtUx35a-",
        "outputId": "73a38cb9-a31a-4731-ba2a-fd92aee8b040"
      },
      "source": [
        "from google.colab import drive \n",
        "drive.mount('/content/drive')"
      ],
      "execution_count": 3,
      "outputs": [
        {
          "output_type": "stream",
          "text": [
            "Drive already mounted at /content/drive; to attempt to forcibly remount, call drive.mount(\"/content/drive\", force_remount=True).\n"
          ],
          "name": "stdout"
        }
      ]
    },
    {
      "cell_type": "code",
      "metadata": {
        "colab": {
          "base_uri": "https://localhost:8080/",
          "height": 1000
        },
        "id": "nZ_T5ehG4LXW",
        "outputId": "c12b3f27-2ce2-4214-dcbf-f8e21fa7161a"
      },
      "source": [
        "data = pd.read_csv('/content/drive/MyDrive/Colab_Notebooks/menupan_crawling.csv')\n",
        "data.head()"
      ],
      "execution_count": 26,
      "outputs": [
        {
          "output_type": "execute_result",
          "data": {
            "text/html": [
              "<div>\n",
              "<style scoped>\n",
              "    .dataframe tbody tr th:only-of-type {\n",
              "        vertical-align: middle;\n",
              "    }\n",
              "\n",
              "    .dataframe tbody tr th {\n",
              "        vertical-align: top;\n",
              "    }\n",
              "\n",
              "    .dataframe thead th {\n",
              "        text-align: right;\n",
              "    }\n",
              "</style>\n",
              "<table border=\"1\" class=\"dataframe\">\n",
              "  <thead>\n",
              "    <tr style=\"text-align: right;\">\n",
              "      <th></th>\n",
              "      <th>Unnamed: 0</th>\n",
              "      <th>res_name</th>\n",
              "      <th>res_type</th>\n",
              "      <th>res_address</th>\n",
              "      <th>res_homepage</th>\n",
              "      <th>res_score</th>\n",
              "      <th>res_theme</th>\n",
              "      <th>res_hour</th>\n",
              "      <th>res_room</th>\n",
              "      <th>smoking</th>\n",
              "      <th>amenity</th>\n",
              "      <th>parking</th>\n",
              "      <th>res_info</th>\n",
              "      <th>review</th>\n",
              "      <th>rev_date</th>\n",
              "      <th>rev_score</th>\n",
              "    </tr>\n",
              "  </thead>\n",
              "  <tbody>\n",
              "    <tr>\n",
              "      <th>0</th>\n",
              "      <td>0</td>\n",
              "      <td>레빠쥬(les pages)</td>\n",
              "      <td>양식</td>\n",
              "      <td>서울 강남구 신사동 506 강남출판문화센터 1층</td>\n",
              "      <td>http://www.lespages.co.kr/</td>\n",
              "      <td>3.8</td>\n",
              "      <td>술 못마시는 친구와 함께, 일상데이트, 점심식사, 야외테라스, 스테이크, 와인, 양...</td>\n",
              "      <td>11:30 ~ 22:00BreakTime: 15:30~17:00</td>\n",
              "      <td>50석 / 방: 방없음실내 36석 / 테라스 16석</td>\n",
              "      <td>모두 금연석</td>\n",
              "      <td>Wifi</td>\n",
              "      <td>4대, 주차방법: 무료, 주차장소: 업소앞/건물 지하주차장 (1시간 무료이용)</td>\n",
              "      <td>가로수길 뒷편에 자리잡은 피자, 파스타, 샌드위치를 판매하는 이탈리안 가정식 레스토...</td>\n",
              "      <td>파스타가 괜찮은 음식점@@\\n감사합니다. 추천할께요^^@@\\n관자의 쫄길함이 살아있...</td>\n",
              "      <td>2014/04/09\\n2013/12/11\\n2015/07/27\\n2015/03/17...</td>\n",
              "      <td>3.0\\n5.0\\n3.0\\n4.0\\n5.0\\n3.0\\n3.0\\n3.0\\n5.0\\n4.0</td>\n",
              "    </tr>\n",
              "    <tr>\n",
              "      <th>1</th>\n",
              "      <td>1</td>\n",
              "      <td>듀크렘(DEUX CREMES)</td>\n",
              "      <td>카페/주점-카페</td>\n",
              "      <td>서울 강남구 신사동 545-4</td>\n",
              "      <td>Nan</td>\n",
              "      <td>3.9</td>\n",
              "      <td>술 못마시는 친구와 함께, 외국 현지 음식(for 외국인), 소개팅, 일상데이트, ...</td>\n",
              "      <td>11:00 ~ 23:00</td>\n",
              "      <td>100석 / 방: 방없음</td>\n",
              "      <td>모두 금연석</td>\n",
              "      <td>Wifi</td>\n",
              "      <td>100대, 주차방법: 유료, 주차장소: 발렛파킹/발렛비 : 2,000원</td>\n",
              "      <td>가로수길에서 타르트 맛집으로 이미 핫플레이스인 듀크렘.말 그대로 두가지 크림이라는 ...</td>\n",
              "      <td>직원들의 싸가지 없는 태도와 불친절을 넘어선 싸우자고 덤비는 진상직원들@@\\n타르트...</td>\n",
              "      <td>2014/04/02\\n2014/04/25\\n2015/04/11\\n2014/04/30...</td>\n",
              "      <td>1.3\\n3.5\\n4.0\\n4.5\\n4.5\\n3.0\\n2.5\\n1.3\\n4.0\\n4...</td>\n",
              "    </tr>\n",
              "    <tr>\n",
              "      <th>2</th>\n",
              "      <td>2</td>\n",
              "      <td>팬아시아 신사가로수길점</td>\n",
              "      <td>기타/세계-동남아음식</td>\n",
              "      <td>서울 강남구 신사동 546-23 2층</td>\n",
              "      <td>Nan</td>\n",
              "      <td>4.1</td>\n",
              "      <td>가족외식, 술 마시는 친구와 함께, 일상데이트, 브런치, 와인, 아시안 면요리, 타...</td>\n",
              "      <td>12:00 ~ 23:00</td>\n",
              "      <td>72석 / 방: 방없음</td>\n",
              "      <td>모두 금연석</td>\n",
              "      <td>Wifi</td>\n",
              "      <td>주차안됨</td>\n",
              "      <td>'잊을수 없는 경험' 이라는 신조가 팬아시아 레스토랑의 고객에 대한 마음가짐이다.팬...</td>\n",
              "      <td>보기에도 한번 가보고 싶은 곳이네요 ???@@\\n동남아음식도 좋네요''''ㅎㅎ@@\\...</td>\n",
              "      <td>2018/10/25\\n2015/03/31\\n2014/07/14\\n2014/06/11...</td>\n",
              "      <td>4.5\\n4.0\\n5.0\\n3.0\\n4.5\\n5.0\\n3.5\\n4.0\\n5.0\\n4...</td>\n",
              "    </tr>\n",
              "    <tr>\n",
              "      <th>3</th>\n",
              "      <td>3</td>\n",
              "      <td>더가든키친(The Garden Kitchen)</td>\n",
              "      <td>호텔뷔페</td>\n",
              "      <td>서울 서초구 잠원동 6-1 더리버사이드호텔 1층</td>\n",
              "      <td>http://www.riversidehotel.co.kr</td>\n",
              "      <td>4.3</td>\n",
              "      <td>가족외식, 돌잔치/회갑/생일, 어른과 함께라면, 아이와 함께라면, 일상데이트, 특별...</td>\n",
              "      <td>11:30 ~ 21:30</td>\n",
              "      <td>600석 / 방: 13개</td>\n",
              "      <td>모두 금연석</td>\n",
              "      <td>놀이방,Wifi</td>\n",
              "      <td>200대, 주차방법: 유료, 주차장소: 발렛파킹</td>\n",
              "      <td>&lt;리버사이드 더가든키친 할인이벤트&gt;주중점심 53,200 -&gt;39,900(25%)주중...</td>\n",
              "      <td>기분좋은날 더 기분좋게 해줄 음식과 장소를 찾는다면 무조건 더가든키친인것같아요^0^...</td>\n",
              "      <td>2015/10/01\\n2017/02/13\\n2016/10/11\\n2015/12/16...</td>\n",
              "      <td>4.3\\n4.5\\n4.8\\n4.0\\n4.3\\n4.3\\n3.8\\n4.0\\n4.8\\n4.5</td>\n",
              "    </tr>\n",
              "    <tr>\n",
              "      <th>4</th>\n",
              "      <td>4</td>\n",
              "      <td>시리얼고메(Serial Gourmet)</td>\n",
              "      <td>양식</td>\n",
              "      <td>서울 강남구 신사동 541-13 2층</td>\n",
              "      <td>http://blog.naver.com/gourmet01</td>\n",
              "      <td>3.4</td>\n",
              "      <td>소개팅, 특별한 날엔, 브런치, 주차공간, 스테이크, 맥주, 와인, 칵테일, 양식 ...</td>\n",
              "      <td>11:00 ~ 22:00일 11시~21시30분 / 브레이크 타임 없음</td>\n",
              "      <td>60석</td>\n",
              "      <td>모두 금연석</td>\n",
              "      <td>Nan</td>\n",
              "      <td>10대, 주차방법: 유료, 주차장소: 발렛파킹/3,000원(2시간)</td>\n",
              "      <td>스타셰프 맛집 : 레이먼킴 쉐프 (오늘뭐먹지, 올리브쇼)시리얼고메는 유명 쉐프 레이...</td>\n",
              "      <td>맛도 그닥...서비스는 최악이더군요@@\\n친구랑 같이 브런치 먹었는데 분위기도 좋고...</td>\n",
              "      <td>2016/04/02\\n2015/12/18\\n2016/03/14\\n2015/04/08...</td>\n",
              "      <td>1.0\\n4.0\\n1.0\\n4.0\\n5.0\\n5.0\\n3.0\\n4.0\\n3.0\\n4.3</td>\n",
              "    </tr>\n",
              "  </tbody>\n",
              "</table>\n",
              "</div>"
            ],
            "text/plain": [
              "   Unnamed: 0  ...                                          rev_score\n",
              "0           0  ...   3.0\\n5.0\\n3.0\\n4.0\\n5.0\\n3.0\\n3.0\\n3.0\\n5.0\\n4.0\n",
              "1           1  ...  1.3\\n3.5\\n4.0\\n4.5\\n4.5\\n3.0\\n2.5\\n1.3\\n4.0\\n4...\n",
              "2           2  ...  4.5\\n4.0\\n5.0\\n3.0\\n4.5\\n5.0\\n3.5\\n4.0\\n5.0\\n4...\n",
              "3           3  ...   4.3\\n4.5\\n4.8\\n4.0\\n4.3\\n4.3\\n3.8\\n4.0\\n4.8\\n4.5\n",
              "4           4  ...   1.0\\n4.0\\n1.0\\n4.0\\n5.0\\n5.0\\n3.0\\n4.0\\n3.0\\n4.3\n",
              "\n",
              "[5 rows x 16 columns]"
            ]
          },
          "metadata": {
            "tags": []
          },
          "execution_count": 26
        }
      ]
    },
    {
      "cell_type": "markdown",
      "metadata": {
        "id": "3M1AKcZv6Gik"
      },
      "source": [
        "# Preprocessing"
      ]
    },
    {
      "cell_type": "code",
      "metadata": {
        "colab": {
          "base_uri": "https://localhost:8080/",
          "height": 204
        },
        "id": "j4VkNzhf5UE1",
        "outputId": "a05eaa1d-ecaa-40ab-83ab-d8977ca50bae"
      },
      "source": [
        "menupan = data[['res_name','review']]\n",
        "menupan.head()"
      ],
      "execution_count": 27,
      "outputs": [
        {
          "output_type": "execute_result",
          "data": {
            "text/html": [
              "<div>\n",
              "<style scoped>\n",
              "    .dataframe tbody tr th:only-of-type {\n",
              "        vertical-align: middle;\n",
              "    }\n",
              "\n",
              "    .dataframe tbody tr th {\n",
              "        vertical-align: top;\n",
              "    }\n",
              "\n",
              "    .dataframe thead th {\n",
              "        text-align: right;\n",
              "    }\n",
              "</style>\n",
              "<table border=\"1\" class=\"dataframe\">\n",
              "  <thead>\n",
              "    <tr style=\"text-align: right;\">\n",
              "      <th></th>\n",
              "      <th>res_name</th>\n",
              "      <th>review</th>\n",
              "    </tr>\n",
              "  </thead>\n",
              "  <tbody>\n",
              "    <tr>\n",
              "      <th>0</th>\n",
              "      <td>레빠쥬(les pages)</td>\n",
              "      <td>파스타가 괜찮은 음식점@@\\n감사합니다. 추천할께요^^@@\\n관자의 쫄길함이 살아있...</td>\n",
              "    </tr>\n",
              "    <tr>\n",
              "      <th>1</th>\n",
              "      <td>듀크렘(DEUX CREMES)</td>\n",
              "      <td>직원들의 싸가지 없는 태도와 불친절을 넘어선 싸우자고 덤비는 진상직원들@@\\n타르트...</td>\n",
              "    </tr>\n",
              "    <tr>\n",
              "      <th>2</th>\n",
              "      <td>팬아시아 신사가로수길점</td>\n",
              "      <td>보기에도 한번 가보고 싶은 곳이네요 ???@@\\n동남아음식도 좋네요''''ㅎㅎ@@\\...</td>\n",
              "    </tr>\n",
              "    <tr>\n",
              "      <th>3</th>\n",
              "      <td>더가든키친(The Garden Kitchen)</td>\n",
              "      <td>기분좋은날 더 기분좋게 해줄 음식과 장소를 찾는다면 무조건 더가든키친인것같아요^0^...</td>\n",
              "    </tr>\n",
              "    <tr>\n",
              "      <th>4</th>\n",
              "      <td>시리얼고메(Serial Gourmet)</td>\n",
              "      <td>맛도 그닥...서비스는 최악이더군요@@\\n친구랑 같이 브런치 먹었는데 분위기도 좋고...</td>\n",
              "    </tr>\n",
              "  </tbody>\n",
              "</table>\n",
              "</div>"
            ],
            "text/plain": [
              "                    res_name                                             review\n",
              "0             레빠쥬(les pages)  파스타가 괜찮은 음식점@@\\n감사합니다. 추천할께요^^@@\\n관자의 쫄길함이 살아있...\n",
              "1           듀크렘(DEUX CREMES)  직원들의 싸가지 없는 태도와 불친절을 넘어선 싸우자고 덤비는 진상직원들@@\\n타르트...\n",
              "2               팬아시아 신사가로수길점  보기에도 한번 가보고 싶은 곳이네요 ???@@\\n동남아음식도 좋네요''''ㅎㅎ@@\\...\n",
              "3  더가든키친(The Garden Kitchen)  기분좋은날 더 기분좋게 해줄 음식과 장소를 찾는다면 무조건 더가든키친인것같아요^0^...\n",
              "4      시리얼고메(Serial Gourmet)  맛도 그닥...서비스는 최악이더군요@@\\n친구랑 같이 브런치 먹었는데 분위기도 좋고..."
            ]
          },
          "metadata": {
            "tags": []
          },
          "execution_count": 27
        }
      ]
    },
    {
      "cell_type": "code",
      "metadata": {
        "colab": {
          "base_uri": "https://localhost:8080/"
        },
        "id": "3uMqPtlg8sMH",
        "outputId": "b6c51c96-db6c-429e-fd3a-2b99d4f8434d"
      },
      "source": [
        "## 이모티콘 제거 compile \n",
        "## 제거 안되는 이모티콘이 있음!!!!!!!!!!!!!!!!\n",
        "def rmEmoji(inputData):\n",
        "    text = inputData.encode('utf-8', 'ignore').decode('utf-8')\n",
        "    emoji_pattern = re.compile(\"[\"\n",
        "            u\"\\U0001F600-\\U0001F64F\"  # emoticons\n",
        "            u\"\\U0001F300-\\U0001F5FF\"  # symbols & pictographs\n",
        "            u\"\\U0001F680-\\U0001F6FF\"  # transport & map symbols\n",
        "            u\"\\U0001F1E0-\\U0001F1FF\"  # flags (iOS)\n",
        "                              \"]+\", flags=re.UNICODE)\n",
        "    return emoji_pattern.sub(r'', text)\n",
        "\n",
        "print(rmEmoji('만들어주세요❤️'))"
      ],
      "execution_count": 35,
      "outputs": [
        {
          "output_type": "stream",
          "text": [
            "만들어주세요❤\n"
          ],
          "name": "stdout"
        }
      ]
    },
    {
      "cell_type": "code",
      "metadata": {
        "colab": {
          "base_uri": "https://localhost:8080/"
        },
        "id": "zVkZj4-0G9kp",
        "outputId": "e6bb80dd-c48e-4355-9d66-802cc1a0145a"
      },
      "source": [
        "## 한글만 추출\n",
        "re.compile('[ㄱ-ㅎ|ㅏ-ㅣ|가-힣]+').findall('맛있게 만들어주세요❤️')"
      ],
      "execution_count": 31,
      "outputs": [
        {
          "output_type": "execute_result",
          "data": {
            "text/plain": [
              "['맛있게', '만들어주세요']"
            ]
          },
          "metadata": {
            "tags": []
          },
          "execution_count": 31
        }
      ]
    },
    {
      "cell_type": "code",
      "metadata": {
        "colab": {
          "base_uri": "https://localhost:8080/",
          "height": 69
        },
        "id": "OMBE-sFF-_Hp",
        "outputId": "2e02a437-f73e-49e5-8f7c-2c1a5f11a4d7"
      },
      "source": [
        "menupan.loc[3965,'review']"
      ],
      "execution_count": 32,
      "outputs": [
        {
          "output_type": "execute_result",
          "data": {
            "application/vnd.google.colaboratory.intrinsic+json": {
              "type": "string"
            },
            "text/plain": [
              "\"안가본사람은 있어도 한번만 가본사람은 없는곳. 이탈리아 여행길에서 먹었던 파씨보다 쌀 젤라또가 맛있다.@@\\n입에 살살 녹는 맛~~ 크으~@@\\n아포가또 호두가 맛있어요@@\\n아포가또가 먹고싶어요@@\\n쫀득한 맛이 일품이예요!@@\\n맛있는 젤라또인건 분명한데..좀 비싼감도 있고 앉을자리가 없어서 좀 불편한정도..@@\\n감사합니다. 추천합니다.@@\\n이천쌀은 항상 필수!! 모든 메뉴 맛있기에 다른건 돌아가면서 먹어요..^^@@\\n이천쌀맛 최고예요 잠실에도 만들어주세요❤️ (장미상가는 상가세가 상대적으로 괜찮은데 요새 삼성회사가 들어오면서 장사는 엄청 잘된대요)친구들도 원하고요~ 생기면 맨날 갈거예요 !!! ❤@@\\n여ㅛ친과 가기 좋은곳''''ㅎㅎ@@\\n여기 여자친구 데려가면 센스있다고 칭찬받을수 있어요...ㅋㅋㅋㅋ@@\\n\""
            ]
          },
          "metadata": {
            "tags": []
          },
          "execution_count": 32
        }
      ]
    },
    {
      "cell_type": "code",
      "metadata": {
        "id": "qlPuRaGoDHSO"
      },
      "source": [
        "k = 0\n",
        "\n",
        "for i in menupan['review']:\n",
        "  text = re.compile('[ㄱ-ㅎ|ㅏ-ㅣ|가-힣]+').findall(i)\n",
        "  menupan.loc[k, 'review'] = ' '.join(text).strip()\n",
        "  k+=1"
      ],
      "execution_count": 44,
      "outputs": []
    },
    {
      "cell_type": "code",
      "metadata": {
        "colab": {
          "base_uri": "https://localhost:8080/",
          "height": 69
        },
        "id": "t-CYZKLuDWHP",
        "outputId": "d37e9bf0-cdd8-4a12-cf94-ed5922f71f3b"
      },
      "source": [
        "menupan.loc[3965,'review']"
      ],
      "execution_count": 45,
      "outputs": [
        {
          "output_type": "execute_result",
          "data": {
            "application/vnd.google.colaboratory.intrinsic+json": {
              "type": "string"
            },
            "text/plain": [
              "'안가본사람은 있어도 한번만 가본사람은 없는곳 이탈리아 여행길에서 먹었던 파씨보다 쌀 젤라또가 맛있다 입에 살살 녹는 맛 크으 아포가또 호두가 맛있어요 아포가또가 먹고싶어요 쫀득한 맛이 일품이예요 맛있는 젤라또인건 분명한데 좀 비싼감도 있고 앉을자리가 없어서 좀 불편한정도 감사합니다 추천합니다 이천쌀은 항상 필수 모든 메뉴 맛있기에 다른건 돌아가면서 먹어요 이천쌀맛 최고예요 잠실에도 만들어주세요 장미상가는 상가세가 상대적으로 괜찮은데 요새 삼성회사가 들어오면서 장사는 엄청 잘된대요 친구들도 원하고요 생기면 맨날 갈거예요 여ㅛ친과 가기 좋은곳 ㅎㅎ 여기 여자친구 데려가면 센스있다고 칭찬받을수 있어요 ㅋㅋㅋㅋ'"
            ]
          },
          "metadata": {
            "tags": []
          },
          "execution_count": 45
        }
      ]
    },
    {
      "cell_type": "code",
      "metadata": {
        "colab": {
          "base_uri": "https://localhost:8080/"
        },
        "id": "sy_dwTHC5snD",
        "outputId": "380f15a7-2268-406b-a808-2dc7c200414d"
      },
      "source": [
        "menupan.info()"
      ],
      "execution_count": 46,
      "outputs": [
        {
          "output_type": "stream",
          "text": [
            "<class 'pandas.core.frame.DataFrame'>\n",
            "Int64Index: 4177 entries, 0 to 4176\n",
            "Data columns (total 2 columns):\n",
            " #   Column    Non-Null Count  Dtype \n",
            "---  ------    --------------  ----- \n",
            " 0   res_name  4177 non-null   object\n",
            " 1   review    4177 non-null   object\n",
            "dtypes: object(2)\n",
            "memory usage: 257.9+ KB\n"
          ],
          "name": "stdout"
        }
      ]
    },
    {
      "cell_type": "code",
      "metadata": {
        "colab": {
          "base_uri": "https://localhost:8080/",
          "height": 204
        },
        "id": "JwnZiVjf6zs_",
        "outputId": "56e0de4b-dbfb-4e04-8d1c-e86bcb0981a8"
      },
      "source": [
        "## review 특수문자 제거\n",
        "menupan['review'] = menupan['review'].str.replace(pat=r'[^\\w]', repl=r' ', regex=True)\n",
        "menupan.head()"
      ],
      "execution_count": 47,
      "outputs": [
        {
          "output_type": "execute_result",
          "data": {
            "text/html": [
              "<div>\n",
              "<style scoped>\n",
              "    .dataframe tbody tr th:only-of-type {\n",
              "        vertical-align: middle;\n",
              "    }\n",
              "\n",
              "    .dataframe tbody tr th {\n",
              "        vertical-align: top;\n",
              "    }\n",
              "\n",
              "    .dataframe thead th {\n",
              "        text-align: right;\n",
              "    }\n",
              "</style>\n",
              "<table border=\"1\" class=\"dataframe\">\n",
              "  <thead>\n",
              "    <tr style=\"text-align: right;\">\n",
              "      <th></th>\n",
              "      <th>res_name</th>\n",
              "      <th>review</th>\n",
              "    </tr>\n",
              "  </thead>\n",
              "  <tbody>\n",
              "    <tr>\n",
              "      <th>0</th>\n",
              "      <td>레빠쥬(les pages)</td>\n",
              "      <td>파스타가 괜찮은 음식점 감사합니다 추천할께요 관자의 쫄길함이 살아있다 이곳 파스타가...</td>\n",
              "    </tr>\n",
              "    <tr>\n",
              "      <th>1</th>\n",
              "      <td>듀크렘(DEUX CREMES)</td>\n",
              "      <td>직원들의 싸가지 없는 태도와 불친절을 넘어선 싸우자고 덤비는 진상직원들 타르트가 촉...</td>\n",
              "    </tr>\n",
              "    <tr>\n",
              "      <th>2</th>\n",
              "      <td>팬아시아 신사가로수길점</td>\n",
              "      <td>보기에도 한번 가보고 싶은 곳이네요 동남아음식도 좋네요 ㅎㅎ 동남아음식에 대한 거부...</td>\n",
              "    </tr>\n",
              "    <tr>\n",
              "      <th>3</th>\n",
              "      <td>더가든키친(The Garden Kitchen)</td>\n",
              "      <td>기분좋은날 더 기분좋게 해줄 음식과 장소를 찾는다면 무조건 더가든키친인것같아요 맛있...</td>\n",
              "    </tr>\n",
              "    <tr>\n",
              "      <th>4</th>\n",
              "      <td>시리얼고메(Serial Gourmet)</td>\n",
              "      <td>맛도 그닥 서비스는 최악이더군요 친구랑 같이 브런치 먹었는데 분위기도 좋고 맛있었어...</td>\n",
              "    </tr>\n",
              "  </tbody>\n",
              "</table>\n",
              "</div>"
            ],
            "text/plain": [
              "                    res_name                                             review\n",
              "0             레빠쥬(les pages)  파스타가 괜찮은 음식점 감사합니다 추천할께요 관자의 쫄길함이 살아있다 이곳 파스타가...\n",
              "1           듀크렘(DEUX CREMES)  직원들의 싸가지 없는 태도와 불친절을 넘어선 싸우자고 덤비는 진상직원들 타르트가 촉...\n",
              "2               팬아시아 신사가로수길점  보기에도 한번 가보고 싶은 곳이네요 동남아음식도 좋네요 ㅎㅎ 동남아음식에 대한 거부...\n",
              "3  더가든키친(The Garden Kitchen)  기분좋은날 더 기분좋게 해줄 음식과 장소를 찾는다면 무조건 더가든키친인것같아요 맛있...\n",
              "4      시리얼고메(Serial Gourmet)  맛도 그닥 서비스는 최악이더군요 친구랑 같이 브런치 먹었는데 분위기도 좋고 맛있었어..."
            ]
          },
          "metadata": {
            "tags": []
          },
          "execution_count": 47
        }
      ]
    },
    {
      "cell_type": "code",
      "metadata": {
        "colab": {
          "base_uri": "https://localhost:8080/"
        },
        "id": "0lW5Kmwr293R",
        "outputId": "b26a3364-9112-4565-d7a9-43c901acd619"
      },
      "source": [
        "## 리뷰없는 식당 삭제\n",
        "print(len(menupan))\n",
        "drop_index = menupan[menupan['review'] == ''].index\n",
        "menupan = menupan.drop(drop_index)\n",
        "print(len(menupan))"
      ],
      "execution_count": 50,
      "outputs": [
        {
          "output_type": "stream",
          "text": [
            "4119\n",
            "4119\n"
          ],
          "name": "stdout"
        }
      ]
    },
    {
      "cell_type": "code",
      "metadata": {
        "colab": {
          "base_uri": "https://localhost:8080/",
          "height": 221
        },
        "id": "iZKFqiPoF9gl",
        "outputId": "6b1fc989-1309-4ac3-f53c-cc8df488f872"
      },
      "source": [
        "# ## 가게 1000개만 추려서 저!장!\n",
        "# menupan1000 = menupan.loc[:999,:]\n",
        "# print(menupan1000.shape)\n",
        "# menupan1000.head()"
      ],
      "execution_count": 9,
      "outputs": [
        {
          "output_type": "stream",
          "text": [
            "(10, 2)\n"
          ],
          "name": "stdout"
        },
        {
          "output_type": "execute_result",
          "data": {
            "text/html": [
              "<div>\n",
              "<style scoped>\n",
              "    .dataframe tbody tr th:only-of-type {\n",
              "        vertical-align: middle;\n",
              "    }\n",
              "\n",
              "    .dataframe tbody tr th {\n",
              "        vertical-align: top;\n",
              "    }\n",
              "\n",
              "    .dataframe thead th {\n",
              "        text-align: right;\n",
              "    }\n",
              "</style>\n",
              "<table border=\"1\" class=\"dataframe\">\n",
              "  <thead>\n",
              "    <tr style=\"text-align: right;\">\n",
              "      <th></th>\n",
              "      <th>res_name</th>\n",
              "      <th>review</th>\n",
              "    </tr>\n",
              "  </thead>\n",
              "  <tbody>\n",
              "    <tr>\n",
              "      <th>0</th>\n",
              "      <td>레빠쥬(les pages)</td>\n",
              "      <td>파스타가 괜찮은 음식점   감사합니다  추천할께요     관자의 쫄길함이 살아있다 ...</td>\n",
              "    </tr>\n",
              "    <tr>\n",
              "      <th>1</th>\n",
              "      <td>듀크렘(DEUX CREMES)</td>\n",
              "      <td>직원들의 싸가지 없는 태도와 불친절을 넘어선 싸우자고 덤비는 진상직원들   타르트가...</td>\n",
              "    </tr>\n",
              "    <tr>\n",
              "      <th>2</th>\n",
              "      <td>팬아시아 신사가로수길점</td>\n",
              "      <td>보기에도 한번 가보고 싶은 곳이네요       동남아음식도 좋네요    ㅎㅎ   동...</td>\n",
              "    </tr>\n",
              "    <tr>\n",
              "      <th>3</th>\n",
              "      <td>더가든키친(The Garden Kitchen)</td>\n",
              "      <td>기분좋은날 더 기분좋게 해줄 음식과 장소를 찾는다면 무조건 더가든키친인것같아요 0 ...</td>\n",
              "    </tr>\n",
              "    <tr>\n",
              "      <th>4</th>\n",
              "      <td>시리얼고메(Serial Gourmet)</td>\n",
              "      <td>맛도 그닥   서비스는 최악이더군요   친구랑 같이 브런치 먹었는데 분위기도 좋고 ...</td>\n",
              "    </tr>\n",
              "  </tbody>\n",
              "</table>\n",
              "</div>"
            ],
            "text/plain": [
              "                    res_name                                             review\n",
              "0             레빠쥬(les pages)  파스타가 괜찮은 음식점   감사합니다  추천할께요     관자의 쫄길함이 살아있다 ...\n",
              "1           듀크렘(DEUX CREMES)  직원들의 싸가지 없는 태도와 불친절을 넘어선 싸우자고 덤비는 진상직원들   타르트가...\n",
              "2               팬아시아 신사가로수길점  보기에도 한번 가보고 싶은 곳이네요       동남아음식도 좋네요    ㅎㅎ   동...\n",
              "3  더가든키친(The Garden Kitchen)  기분좋은날 더 기분좋게 해줄 음식과 장소를 찾는다면 무조건 더가든키친인것같아요 0 ...\n",
              "4      시리얼고메(Serial Gourmet)  맛도 그닥   서비스는 최악이더군요   친구랑 같이 브런치 먹었는데 분위기도 좋고 ..."
            ]
          },
          "metadata": {
            "tags": []
          },
          "execution_count": 9
        }
      ]
    },
    {
      "cell_type": "code",
      "metadata": {
        "id": "J2qgfadDGbx2"
      },
      "source": [
        "menupan = menupan.set_index('res_name')"
      ],
      "execution_count": 52,
      "outputs": []
    },
    {
      "cell_type": "code",
      "metadata": {
        "colab": {
          "base_uri": "https://localhost:8080/",
          "height": 235
        },
        "id": "pWcRuNfYGvai",
        "outputId": "da56a5cd-aad6-4e1e-803f-1befdeb921c3"
      },
      "source": [
        "menupan.head()"
      ],
      "execution_count": 53,
      "outputs": [
        {
          "output_type": "execute_result",
          "data": {
            "text/html": [
              "<div>\n",
              "<style scoped>\n",
              "    .dataframe tbody tr th:only-of-type {\n",
              "        vertical-align: middle;\n",
              "    }\n",
              "\n",
              "    .dataframe tbody tr th {\n",
              "        vertical-align: top;\n",
              "    }\n",
              "\n",
              "    .dataframe thead th {\n",
              "        text-align: right;\n",
              "    }\n",
              "</style>\n",
              "<table border=\"1\" class=\"dataframe\">\n",
              "  <thead>\n",
              "    <tr style=\"text-align: right;\">\n",
              "      <th></th>\n",
              "      <th>review</th>\n",
              "    </tr>\n",
              "    <tr>\n",
              "      <th>res_name</th>\n",
              "      <th></th>\n",
              "    </tr>\n",
              "  </thead>\n",
              "  <tbody>\n",
              "    <tr>\n",
              "      <th>레빠쥬(les pages)</th>\n",
              "      <td>파스타가 괜찮은 음식점 감사합니다 추천할께요 관자의 쫄길함이 살아있다 이곳 파스타가...</td>\n",
              "    </tr>\n",
              "    <tr>\n",
              "      <th>듀크렘(DEUX CREMES)</th>\n",
              "      <td>직원들의 싸가지 없는 태도와 불친절을 넘어선 싸우자고 덤비는 진상직원들 타르트가 촉...</td>\n",
              "    </tr>\n",
              "    <tr>\n",
              "      <th>팬아시아 신사가로수길점</th>\n",
              "      <td>보기에도 한번 가보고 싶은 곳이네요 동남아음식도 좋네요 ㅎㅎ 동남아음식에 대한 거부...</td>\n",
              "    </tr>\n",
              "    <tr>\n",
              "      <th>더가든키친(The Garden Kitchen)</th>\n",
              "      <td>기분좋은날 더 기분좋게 해줄 음식과 장소를 찾는다면 무조건 더가든키친인것같아요 맛있...</td>\n",
              "    </tr>\n",
              "    <tr>\n",
              "      <th>시리얼고메(Serial Gourmet)</th>\n",
              "      <td>맛도 그닥 서비스는 최악이더군요 친구랑 같이 브런치 먹었는데 분위기도 좋고 맛있었어...</td>\n",
              "    </tr>\n",
              "  </tbody>\n",
              "</table>\n",
              "</div>"
            ],
            "text/plain": [
              "                                                                      review\n",
              "res_name                                                                    \n",
              "레빠쥬(les pages)             파스타가 괜찮은 음식점 감사합니다 추천할께요 관자의 쫄길함이 살아있다 이곳 파스타가...\n",
              "듀크렘(DEUX CREMES)           직원들의 싸가지 없는 태도와 불친절을 넘어선 싸우자고 덤비는 진상직원들 타르트가 촉...\n",
              "팬아시아 신사가로수길점               보기에도 한번 가보고 싶은 곳이네요 동남아음식도 좋네요 ㅎㅎ 동남아음식에 대한 거부...\n",
              "더가든키친(The Garden Kitchen)  기분좋은날 더 기분좋게 해줄 음식과 장소를 찾는다면 무조건 더가든키친인것같아요 맛있...\n",
              "시리얼고메(Serial Gourmet)      맛도 그닥 서비스는 최악이더군요 친구랑 같이 브런치 먹었는데 분위기도 좋고 맛있었어..."
            ]
          },
          "metadata": {
            "tags": []
          },
          "execution_count": 53
        }
      ]
    },
    {
      "cell_type": "code",
      "metadata": {
        "colab": {
          "base_uri": "https://localhost:8080/"
        },
        "id": "PdjxOlSb_cLu",
        "outputId": "9f1d6476-601e-49d7-a9b0-4b72dc0e84bb"
      },
      "source": [
        "## tokenizer import\n",
        "!pip install konlpy  \n",
        "from konlpy.tag import Hannanum, Kkma, Komoran, Mecab, Okt"
      ],
      "execution_count": 54,
      "outputs": [
        {
          "output_type": "stream",
          "text": [
            "Collecting konlpy\n",
            "\u001b[?25l  Downloading https://files.pythonhosted.org/packages/85/0e/f385566fec837c0b83f216b2da65db9997b35dd675e107752005b7d392b1/konlpy-0.5.2-py2.py3-none-any.whl (19.4MB)\n",
            "\u001b[K     |████████████████████████████████| 19.4MB 26.3MB/s \n",
            "\u001b[?25hCollecting JPype1>=0.7.0\n",
            "\u001b[?25l  Downloading https://files.pythonhosted.org/packages/cd/a5/9781e2ef4ca92d09912c4794642c1653aea7607f473e156cf4d423a881a1/JPype1-1.2.1-cp37-cp37m-manylinux2010_x86_64.whl (457kB)\n",
            "\u001b[K     |████████████████████████████████| 460kB 46.7MB/s \n",
            "\u001b[?25hCollecting beautifulsoup4==4.6.0\n",
            "\u001b[?25l  Downloading https://files.pythonhosted.org/packages/9e/d4/10f46e5cfac773e22707237bfcd51bbffeaf0a576b0a847ec7ab15bd7ace/beautifulsoup4-4.6.0-py3-none-any.whl (86kB)\n",
            "\u001b[K     |████████████████████████████████| 92kB 8.5MB/s \n",
            "\u001b[?25hRequirement already satisfied: numpy>=1.6 in /usr/local/lib/python3.7/dist-packages (from konlpy) (1.19.5)\n",
            "Requirement already satisfied: lxml>=4.1.0 in /usr/local/lib/python3.7/dist-packages (from konlpy) (4.2.6)\n",
            "Requirement already satisfied: tweepy>=3.7.0 in /usr/local/lib/python3.7/dist-packages (from konlpy) (3.10.0)\n",
            "Collecting colorama\n",
            "  Downloading https://files.pythonhosted.org/packages/44/98/5b86278fbbf250d239ae0ecb724f8572af1c91f4a11edf4d36a206189440/colorama-0.4.4-py2.py3-none-any.whl\n",
            "Requirement already satisfied: typing-extensions; python_version < \"3.8\" in /usr/local/lib/python3.7/dist-packages (from JPype1>=0.7.0->konlpy) (3.7.4.3)\n",
            "Requirement already satisfied: six>=1.10.0 in /usr/local/lib/python3.7/dist-packages (from tweepy>=3.7.0->konlpy) (1.15.0)\n",
            "Requirement already satisfied: requests-oauthlib>=0.7.0 in /usr/local/lib/python3.7/dist-packages (from tweepy>=3.7.0->konlpy) (1.3.0)\n",
            "Requirement already satisfied: requests[socks]>=2.11.1 in /usr/local/lib/python3.7/dist-packages (from tweepy>=3.7.0->konlpy) (2.23.0)\n",
            "Requirement already satisfied: oauthlib>=3.0.0 in /usr/local/lib/python3.7/dist-packages (from requests-oauthlib>=0.7.0->tweepy>=3.7.0->konlpy) (3.1.0)\n",
            "Requirement already satisfied: certifi>=2017.4.17 in /usr/local/lib/python3.7/dist-packages (from requests[socks]>=2.11.1->tweepy>=3.7.0->konlpy) (2020.12.5)\n",
            "Requirement already satisfied: chardet<4,>=3.0.2 in /usr/local/lib/python3.7/dist-packages (from requests[socks]>=2.11.1->tweepy>=3.7.0->konlpy) (3.0.4)\n",
            "Requirement already satisfied: idna<3,>=2.5 in /usr/local/lib/python3.7/dist-packages (from requests[socks]>=2.11.1->tweepy>=3.7.0->konlpy) (2.10)\n",
            "Requirement already satisfied: urllib3!=1.25.0,!=1.25.1,<1.26,>=1.21.1 in /usr/local/lib/python3.7/dist-packages (from requests[socks]>=2.11.1->tweepy>=3.7.0->konlpy) (1.24.3)\n",
            "Requirement already satisfied: PySocks!=1.5.7,>=1.5.6; extra == \"socks\" in /usr/local/lib/python3.7/dist-packages (from requests[socks]>=2.11.1->tweepy>=3.7.0->konlpy) (1.7.1)\n",
            "Installing collected packages: JPype1, beautifulsoup4, colorama, konlpy\n",
            "  Found existing installation: beautifulsoup4 4.6.3\n",
            "    Uninstalling beautifulsoup4-4.6.3:\n",
            "      Successfully uninstalled beautifulsoup4-4.6.3\n",
            "Successfully installed JPype1-1.2.1 beautifulsoup4-4.6.0 colorama-0.4.4 konlpy-0.5.2\n"
          ],
          "name": "stdout"
        }
      ]
    },
    {
      "cell_type": "markdown",
      "metadata": {
        "id": "9AX-M_vGHvq7"
      },
      "source": [
        "# review 토큰화"
      ]
    },
    {
      "cell_type": "code",
      "metadata": {
        "id": "CcoYnp0FAII8"
      },
      "source": [
        "## 토큰화 함수 : 토큰 type 변경하고 싶으면 return 부분 수정\n",
        "hannanum = Hannanum()\n",
        "kkma = Kkma()\n",
        "komoran = Komoran()\n",
        "okt = Okt()\n",
        "\n",
        "def tokenizer(row):\n",
        "  return hannanum.morphs(row)"
      ],
      "execution_count": 90,
      "outputs": []
    },
    {
      "cell_type": "code",
      "metadata": {
        "colab": {
          "base_uri": "https://localhost:8080/",
          "height": 235
        },
        "id": "0fbTzwdOBA1e",
        "outputId": "63d86351-20dd-43da-ccfb-bbf7bc2edfac"
      },
      "source": [
        "menupan['rev_token'] = menupan['review'].apply(tokenizer)\n",
        "menupan.head()"
      ],
      "execution_count": 91,
      "outputs": [
        {
          "output_type": "execute_result",
          "data": {
            "text/html": [
              "<div>\n",
              "<style scoped>\n",
              "    .dataframe tbody tr th:only-of-type {\n",
              "        vertical-align: middle;\n",
              "    }\n",
              "\n",
              "    .dataframe tbody tr th {\n",
              "        vertical-align: top;\n",
              "    }\n",
              "\n",
              "    .dataframe thead th {\n",
              "        text-align: right;\n",
              "    }\n",
              "</style>\n",
              "<table border=\"1\" class=\"dataframe\">\n",
              "  <thead>\n",
              "    <tr style=\"text-align: right;\">\n",
              "      <th></th>\n",
              "      <th>review</th>\n",
              "      <th>rev_token</th>\n",
              "    </tr>\n",
              "    <tr>\n",
              "      <th>res_name</th>\n",
              "      <th></th>\n",
              "      <th></th>\n",
              "    </tr>\n",
              "  </thead>\n",
              "  <tbody>\n",
              "    <tr>\n",
              "      <th>레빠쥬(les pages)</th>\n",
              "      <td>파스타가 괜찮은 음식점 감사합니다 추천할께요 관자의 쫄길함이 살아있다 이곳 파스타가...</td>\n",
              "      <td>[파스타, 가, 괜찮은, 음식점, 감사합니다, 추천, 할께요, 관자, 의, 쫄길함,...</td>\n",
              "    </tr>\n",
              "    <tr>\n",
              "      <th>듀크렘(DEUX CREMES)</th>\n",
              "      <td>직원들의 싸가지 없는 태도와 불친절을 넘어선 싸우자고 덤비는 진상직원들 타르트가 촉...</td>\n",
              "      <td>[직원, 들, 의, 싸가지, 없는, 태도, 와, 불친절, 을, 넘어선, 싸우자고, ...</td>\n",
              "    </tr>\n",
              "    <tr>\n",
              "      <th>팬아시아 신사가로수길점</th>\n",
              "      <td>보기에도 한번 가보고 싶은 곳이네요 동남아음식도 좋네요 ㅎㅎ 동남아음식에 대한 거부...</td>\n",
              "      <td>[보기, 에도, 한번, 가보고, 싶은, 곳, 이네, 요, 동남아, 음식, 도, 좋네...</td>\n",
              "    </tr>\n",
              "    <tr>\n",
              "      <th>더가든키친(The Garden Kitchen)</th>\n",
              "      <td>기분좋은날 더 기분좋게 해줄 음식과 장소를 찾는다면 무조건 더가든키친인것같아요 맛있...</td>\n",
              "      <td>[기분좋은날, 더, 기분, 좋게, 해줄, 음식, 과, 장소, 를, 찾는다면, 무조건...</td>\n",
              "    </tr>\n",
              "    <tr>\n",
              "      <th>시리얼고메(Serial Gourmet)</th>\n",
              "      <td>맛도 그닥 서비스는 최악이더군요 친구랑 같이 브런치 먹었는데 분위기도 좋고 맛있었어...</td>\n",
              "      <td>[맛, 도, 그닥, 서비스, 는, 최악, 이, 더군요, 친구, 랑, 같이, 브런치,...</td>\n",
              "    </tr>\n",
              "  </tbody>\n",
              "</table>\n",
              "</div>"
            ],
            "text/plain": [
              "                                                                      review                                          rev_token\n",
              "res_name                                                                                                                       \n",
              "레빠쥬(les pages)             파스타가 괜찮은 음식점 감사합니다 추천할께요 관자의 쫄길함이 살아있다 이곳 파스타가...  [파스타, 가, 괜찮은, 음식점, 감사합니다, 추천, 할께요, 관자, 의, 쫄길함,...\n",
              "듀크렘(DEUX CREMES)           직원들의 싸가지 없는 태도와 불친절을 넘어선 싸우자고 덤비는 진상직원들 타르트가 촉...  [직원, 들, 의, 싸가지, 없는, 태도, 와, 불친절, 을, 넘어선, 싸우자고, ...\n",
              "팬아시아 신사가로수길점               보기에도 한번 가보고 싶은 곳이네요 동남아음식도 좋네요 ㅎㅎ 동남아음식에 대한 거부...  [보기, 에도, 한번, 가보고, 싶은, 곳, 이네, 요, 동남아, 음식, 도, 좋네...\n",
              "더가든키친(The Garden Kitchen)  기분좋은날 더 기분좋게 해줄 음식과 장소를 찾는다면 무조건 더가든키친인것같아요 맛있...  [기분좋은날, 더, 기분, 좋게, 해줄, 음식, 과, 장소, 를, 찾는다면, 무조건...\n",
              "시리얼고메(Serial Gourmet)      맛도 그닥 서비스는 최악이더군요 친구랑 같이 브런치 먹었는데 분위기도 좋고 맛있었어...  [맛, 도, 그닥, 서비스, 는, 최악, 이, 더군요, 친구, 랑, 같이, 브런치,..."
            ]
          },
          "metadata": {
            "tags": []
          },
          "execution_count": 91
        }
      ]
    },
    {
      "cell_type": "code",
      "metadata": {
        "colab": {
          "base_uri": "https://localhost:8080/",
          "height": 235
        },
        "id": "O5-oe43rBbk5",
        "outputId": "49a24bb4-cef0-4aac-d821-adc1e917ac1d"
      },
      "source": [
        "menupan_token = menupan[['rev_token']]\n",
        "menupan_token.head()"
      ],
      "execution_count": 92,
      "outputs": [
        {
          "output_type": "execute_result",
          "data": {
            "text/html": [
              "<div>\n",
              "<style scoped>\n",
              "    .dataframe tbody tr th:only-of-type {\n",
              "        vertical-align: middle;\n",
              "    }\n",
              "\n",
              "    .dataframe tbody tr th {\n",
              "        vertical-align: top;\n",
              "    }\n",
              "\n",
              "    .dataframe thead th {\n",
              "        text-align: right;\n",
              "    }\n",
              "</style>\n",
              "<table border=\"1\" class=\"dataframe\">\n",
              "  <thead>\n",
              "    <tr style=\"text-align: right;\">\n",
              "      <th></th>\n",
              "      <th>rev_token</th>\n",
              "    </tr>\n",
              "    <tr>\n",
              "      <th>res_name</th>\n",
              "      <th></th>\n",
              "    </tr>\n",
              "  </thead>\n",
              "  <tbody>\n",
              "    <tr>\n",
              "      <th>레빠쥬(les pages)</th>\n",
              "      <td>[파스타, 가, 괜찮은, 음식점, 감사합니다, 추천, 할께요, 관자, 의, 쫄길함,...</td>\n",
              "    </tr>\n",
              "    <tr>\n",
              "      <th>듀크렘(DEUX CREMES)</th>\n",
              "      <td>[직원, 들, 의, 싸가지, 없는, 태도, 와, 불친절, 을, 넘어선, 싸우자고, ...</td>\n",
              "    </tr>\n",
              "    <tr>\n",
              "      <th>팬아시아 신사가로수길점</th>\n",
              "      <td>[보기, 에도, 한번, 가보고, 싶은, 곳, 이네, 요, 동남아, 음식, 도, 좋네...</td>\n",
              "    </tr>\n",
              "    <tr>\n",
              "      <th>더가든키친(The Garden Kitchen)</th>\n",
              "      <td>[기분좋은날, 더, 기분, 좋게, 해줄, 음식, 과, 장소, 를, 찾는다면, 무조건...</td>\n",
              "    </tr>\n",
              "    <tr>\n",
              "      <th>시리얼고메(Serial Gourmet)</th>\n",
              "      <td>[맛, 도, 그닥, 서비스, 는, 최악, 이, 더군요, 친구, 랑, 같이, 브런치,...</td>\n",
              "    </tr>\n",
              "  </tbody>\n",
              "</table>\n",
              "</div>"
            ],
            "text/plain": [
              "                                                                   rev_token\n",
              "res_name                                                                    \n",
              "레빠쥬(les pages)             [파스타, 가, 괜찮은, 음식점, 감사합니다, 추천, 할께요, 관자, 의, 쫄길함,...\n",
              "듀크렘(DEUX CREMES)           [직원, 들, 의, 싸가지, 없는, 태도, 와, 불친절, 을, 넘어선, 싸우자고, ...\n",
              "팬아시아 신사가로수길점               [보기, 에도, 한번, 가보고, 싶은, 곳, 이네, 요, 동남아, 음식, 도, 좋네...\n",
              "더가든키친(The Garden Kitchen)  [기분좋은날, 더, 기분, 좋게, 해줄, 음식, 과, 장소, 를, 찾는다면, 무조건...\n",
              "시리얼고메(Serial Gourmet)      [맛, 도, 그닥, 서비스, 는, 최악, 이, 더군요, 친구, 랑, 같이, 브런치,..."
            ]
          },
          "metadata": {
            "tags": []
          },
          "execution_count": 92
        }
      ]
    },
    {
      "cell_type": "code",
      "metadata": {
        "colab": {
          "base_uri": "https://localhost:8080/"
        },
        "id": "Jnv4uggHMpM-",
        "outputId": "9e95ea2d-1443-4982-a363-21e83d3b5c9b"
      },
      "source": [
        "## 리뷰들 중 최대/평균 토큰 개수\n",
        "print('최대 토큰 개수 :', (max(len(i) for i in menupan_token['rev_token'])))\n",
        "print('평균 토큰 개수 :', sum(map(len, menupan_token['rev_token']))/len(menupan_token['rev_token']))"
      ],
      "execution_count": 93,
      "outputs": [
        {
          "output_type": "stream",
          "text": [
            "최대 토큰 개수 : 1759\n",
            "평균 토큰 개수 : 156.39985433357612\n"
          ],
          "name": "stdout"
        }
      ]
    },
    {
      "cell_type": "markdown",
      "metadata": {
        "id": "q1ZY2y-uHiaR"
      },
      "source": [
        "# 단어 임베딩(word2vec)"
      ]
    },
    {
      "cell_type": "code",
      "metadata": {
        "id": "C0XeJxQLH6wn"
      },
      "source": [
        "from gensim.models import Word2Vec\n",
        "model = Word2Vec(sentences = menupan_token['rev_token'], size = 100, window = 5, min_count = 5, workers = 4, sg = 0)"
      ],
      "execution_count": 94,
      "outputs": []
    },
    {
      "cell_type": "code",
      "metadata": {
        "colab": {
          "base_uri": "https://localhost:8080/"
        },
        "id": "BL_ZHjPwPSTl",
        "outputId": "a8cf15cd-79a8-4168-ebce-8b29820d91e1"
      },
      "source": [
        "## embedding matrix size\n",
        "model.wv.vectors.shape"
      ],
      "execution_count": 95,
      "outputs": [
        {
          "output_type": "execute_result",
          "data": {
            "text/plain": [
              "(8179, 100)"
            ]
          },
          "metadata": {
            "tags": []
          },
          "execution_count": 95
        }
      ]
    },
    {
      "cell_type": "code",
      "metadata": {
        "colab": {
          "base_uri": "https://localhost:8080/"
        },
        "id": "4uskIimZPrIG",
        "outputId": "9502bbca-0a20-4184-899d-c429aa42a48d"
      },
      "source": [
        "## 키워드 입력시 유사한 단어 10개 출력\n",
        "model_result = model.wv.most_similar('바삭바삭')\n",
        "print(model_result)"
      ],
      "execution_count": 107,
      "outputs": [
        {
          "output_type": "stream",
          "text": [
            "[('실하고', 0.9648128747940063), ('바삭바삭해서', 0.9508832693099976), ('꼬들꼬들', 0.9490357637405396), ('좋았어여', 0.9447538256645203), ('나면서', 0.9425910711288452), ('촉촉해요', 0.9419444799423218), ('진한데', 0.9410488605499268), ('얇고', 0.9398005604743958), ('면도', 0.9386825561523438), ('촉촉하고', 0.9386301040649414)]\n"
          ],
          "name": "stdout"
        }
      ]
    },
    {
      "cell_type": "code",
      "metadata": {
        "id": "GXUiOZAIQ_AJ"
      },
      "source": [
        ""
      ],
      "execution_count": null,
      "outputs": []
    }
  ]
}