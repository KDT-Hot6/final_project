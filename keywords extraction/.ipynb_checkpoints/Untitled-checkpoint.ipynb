{
 "cells": [
  {
   "cell_type": "code",
   "execution_count": 18,
   "id": "brazilian-mason",
   "metadata": {},
   "outputs": [],
   "source": [
    "from krwordrank.word import KRWordRank\n",
    "import pandas as pd\n",
    "import re"
   ]
  },
  {
   "cell_type": "code",
   "execution_count": 11,
   "id": "continued-defendant",
   "metadata": {},
   "outputs": [],
   "source": [
    "min_count = 5   # 단어의 최소 출현 빈도수 (그래프 생성 시)\n",
    "max_length = 10 # 단어의 최대 길이\n",
    "wordrank_extractor = KRWordRank(min_count, max_length)"
   ]
  },
  {
   "cell_type": "code",
   "execution_count": 12,
   "id": "least-puzzle",
   "metadata": {},
   "outputs": [
    {
     "ename": "ValueError",
     "evalue": "('The graph should consist of at least two nodes\\n', 'The node size of inserted graph is 0')",
     "output_type": "error",
     "traceback": [
      "\u001b[1;31m---------------------------------------------------------------------------\u001b[0m",
      "\u001b[1;31mValueError\u001b[0m                                Traceback (most recent call last)",
      "\u001b[1;32m<ipython-input-12-7deb79147dec>\u001b[0m in \u001b[0;36m<module>\u001b[1;34m\u001b[0m\n\u001b[0;32m      3\u001b[0m \u001b[0mverbose\u001b[0m \u001b[1;33m=\u001b[0m \u001b[1;32mTrue\u001b[0m\u001b[1;33m\u001b[0m\u001b[1;33m\u001b[0m\u001b[0m\n\u001b[0;32m      4\u001b[0m \u001b[0mtexts\u001b[0m \u001b[1;33m=\u001b[0m \u001b[1;33m[\u001b[0m\u001b[1;34m'예시 문장 입니다'\u001b[0m\u001b[1;33m,\u001b[0m \u001b[1;34m'여러 문장의 list of str 입니다'\u001b[0m\u001b[1;33m,\u001b[0m \u001b[1;34m'재미있다'\u001b[0m\u001b[1;33m]\u001b[0m\u001b[1;33m\u001b[0m\u001b[1;33m\u001b[0m\u001b[0m\n\u001b[1;32m----> 5\u001b[1;33m \u001b[0mkeywords\u001b[0m\u001b[1;33m,\u001b[0m \u001b[0mrank\u001b[0m\u001b[1;33m,\u001b[0m \u001b[0mgraph\u001b[0m \u001b[1;33m=\u001b[0m \u001b[0mwordrank_extractor\u001b[0m\u001b[1;33m.\u001b[0m\u001b[0mextract\u001b[0m\u001b[1;33m(\u001b[0m\u001b[0mtexts\u001b[0m\u001b[1;33m,\u001b[0m \u001b[0mbeta\u001b[0m\u001b[1;33m,\u001b[0m \u001b[0mmax_iter\u001b[0m\u001b[1;33m,\u001b[0m \u001b[0mverbose\u001b[0m\u001b[1;33m)\u001b[0m\u001b[1;33m\u001b[0m\u001b[1;33m\u001b[0m\u001b[0m\n\u001b[0m",
      "\u001b[1;32mc:\\users\\kem\\appdata\\local\\programs\\python\\python37\\lib\\site-packages\\krwordrank\\word\\_word.py\u001b[0m in \u001b[0;36mextract\u001b[1;34m(self, docs, beta, max_iter, num_keywords, num_rset, vocabulary, bias, rset)\u001b[0m\n\u001b[0;32m    209\u001b[0m         \"\"\"\n\u001b[0;32m    210\u001b[0m \u001b[1;33m\u001b[0m\u001b[0m\n\u001b[1;32m--> 211\u001b[1;33m         \u001b[0mrank\u001b[0m\u001b[1;33m,\u001b[0m \u001b[0mgraph\u001b[0m \u001b[1;33m=\u001b[0m \u001b[0mself\u001b[0m\u001b[1;33m.\u001b[0m\u001b[0mtrain\u001b[0m\u001b[1;33m(\u001b[0m\u001b[0mdocs\u001b[0m\u001b[1;33m,\u001b[0m \u001b[0mbeta\u001b[0m\u001b[1;33m,\u001b[0m \u001b[0mmax_iter\u001b[0m\u001b[1;33m,\u001b[0m \u001b[0mvocabulary\u001b[0m\u001b[1;33m,\u001b[0m \u001b[0mbias\u001b[0m\u001b[1;33m)\u001b[0m\u001b[1;33m\u001b[0m\u001b[1;33m\u001b[0m\u001b[0m\n\u001b[0m\u001b[0;32m    212\u001b[0m \u001b[1;33m\u001b[0m\u001b[0m\n\u001b[0;32m    213\u001b[0m         \u001b[0mlset\u001b[0m \u001b[1;33m=\u001b[0m \u001b[1;33m{\u001b[0m\u001b[0mself\u001b[0m\u001b[1;33m.\u001b[0m\u001b[0mint2token\u001b[0m\u001b[1;33m(\u001b[0m\u001b[0midx\u001b[0m\u001b[1;33m)\u001b[0m\u001b[1;33m[\u001b[0m\u001b[1;36m0\u001b[0m\u001b[1;33m]\u001b[0m\u001b[1;33m:\u001b[0m\u001b[0mr\u001b[0m \u001b[1;32mfor\u001b[0m \u001b[0midx\u001b[0m\u001b[1;33m,\u001b[0m \u001b[0mr\u001b[0m \u001b[1;32min\u001b[0m \u001b[0mrank\u001b[0m\u001b[1;33m.\u001b[0m\u001b[0mitems\u001b[0m\u001b[1;33m(\u001b[0m\u001b[1;33m)\u001b[0m \u001b[1;32mif\u001b[0m \u001b[0mself\u001b[0m\u001b[1;33m.\u001b[0m\u001b[0mint2token\u001b[0m\u001b[1;33m(\u001b[0m\u001b[0midx\u001b[0m\u001b[1;33m)\u001b[0m\u001b[1;33m[\u001b[0m\u001b[1;36m1\u001b[0m\u001b[1;33m]\u001b[0m \u001b[1;33m==\u001b[0m \u001b[1;34m'L'\u001b[0m\u001b[1;33m}\u001b[0m\u001b[1;33m\u001b[0m\u001b[1;33m\u001b[0m\u001b[0m\n",
      "\u001b[1;32mc:\\users\\kem\\appdata\\local\\programs\\python\\python37\\lib\\site-packages\\krwordrank\\word\\_word.py\u001b[0m in \u001b[0;36mtrain\u001b[1;34m(self, docs, beta, max_iter, vocabulary, bias)\u001b[0m\n\u001b[0;32m    327\u001b[0m                     \u001b[0msum_weight\u001b[0m\u001b[1;33m=\u001b[0m\u001b[0mself\u001b[0m\u001b[1;33m.\u001b[0m\u001b[0msum_weight\u001b[0m\u001b[1;33m,\u001b[0m\u001b[1;33m\u001b[0m\u001b[1;33m\u001b[0m\u001b[0m\n\u001b[0;32m    328\u001b[0m                     \u001b[0mnumber_of_nodes\u001b[0m\u001b[1;33m=\u001b[0m\u001b[0mlen\u001b[0m\u001b[1;33m(\u001b[0m\u001b[0mself\u001b[0m\u001b[1;33m.\u001b[0m\u001b[0mvocabulary\u001b[0m\u001b[1;33m)\u001b[0m\u001b[1;33m,\u001b[0m\u001b[1;33m\u001b[0m\u001b[1;33m\u001b[0m\u001b[0m\n\u001b[1;32m--> 329\u001b[1;33m                     \u001b[0mverbose\u001b[0m\u001b[1;33m=\u001b[0m\u001b[0mself\u001b[0m\u001b[1;33m.\u001b[0m\u001b[0mverbose\u001b[0m\u001b[1;33m\u001b[0m\u001b[1;33m\u001b[0m\u001b[0m\n\u001b[0m\u001b[0;32m    330\u001b[0m                     )\n\u001b[0;32m    331\u001b[0m \u001b[1;33m\u001b[0m\u001b[0m\n",
      "\u001b[1;32mc:\\users\\kem\\appdata\\local\\programs\\python\\python37\\lib\\site-packages\\krwordrank\\graph\\_rank.py\u001b[0m in \u001b[0;36mhits\u001b[1;34m(graph, beta, max_iter, bias, verbose, sum_weight, number_of_nodes, converge)\u001b[0m\n\u001b[0;32m     38\u001b[0m         raise ValueError(\n\u001b[0;32m     39\u001b[0m             \u001b[1;34m'The graph should consist of at least two nodes\\n'\u001b[0m\u001b[1;33m,\u001b[0m\u001b[1;33m\u001b[0m\u001b[1;33m\u001b[0m\u001b[0m\n\u001b[1;32m---> 40\u001b[1;33m             \u001b[1;34m'The node size of inserted graph is %d'\u001b[0m \u001b[1;33m%\u001b[0m \u001b[0mnumber_of_nodes\u001b[0m\u001b[1;33m\u001b[0m\u001b[1;33m\u001b[0m\u001b[0m\n\u001b[0m\u001b[0;32m     41\u001b[0m         )\n\u001b[0;32m     42\u001b[0m \u001b[1;33m\u001b[0m\u001b[0m\n",
      "\u001b[1;31mValueError\u001b[0m: ('The graph should consist of at least two nodes\\n', 'The node size of inserted graph is 0')"
     ]
    }
   ],
   "source": [
    "beta = 0.85    # PageRank의 decaying factor beta\n",
    "max_iter = 10\n",
    "verbose = True\n",
    "texts = ['예시 문장 입니다', '여러 문장의 list of str 입니다', '재미있다']\n",
    "keywords, rank, graph = wordrank_extractor.extract(texts, beta, max_iter, verbose)"
   ]
  },
  {
   "cell_type": "code",
   "execution_count": 37,
   "id": "russian-collins",
   "metadata": {},
   "outputs": [],
   "source": [
    "def get_hangle(data, column):\n",
    "    data = data[column].str.replace('[^ ㄱ-ㅣ가-힣]', '')\n",
    "    return data"
   ]
  },
  {
   "cell_type": "code",
   "execution_count": null,
   "id": "swedish-staff",
   "metadata": {},
   "outputs": [],
   "source": [
    "def get_data(fname):\n",
    "    data = pd.read_csv('./' + fname + '.csv')"
   ]
  },
  {
   "cell_type": "code",
   "execution_count": 30,
   "id": "favorite-williams",
   "metadata": {},
   "outputs": [],
   "source": [
    "df = pd.read_csv('./review_final2.csv')\n",
    "df = df[['식당이름','주소', '리뷰']]"
   ]
  },
  {
   "cell_type": "code",
   "execution_count": 22,
   "id": "ignored-commerce",
   "metadata": {},
   "outputs": [
    {
     "data": {
      "text/plain": [
       "array(['육회자매집', '순희네 빈대떡', '부촌육회', ..., '심야식당 시즌2 주바리 프로젝트',\n",
       "       '브릭 오븐 뉴욕 피자', '원스인어블루문'], dtype=object)"
      ]
     },
     "execution_count": 22,
     "metadata": {},
     "output_type": "execute_result"
    }
   ],
   "source": [
    "restaurant = df['식당이름'].unique()\n",
    "restaurant"
   ]
  },
  {
   "cell_type": "code",
   "execution_count": 23,
   "id": "dietary-attitude",
   "metadata": {},
   "outputs": [
    {
     "data": {
      "text/plain": [
       "18750"
      ]
     },
     "execution_count": 23,
     "metadata": {},
     "output_type": "execute_result"
    }
   ],
   "source": [
    "len(restaurant)"
   ]
  },
  {
   "cell_type": "code",
   "execution_count": 31,
   "id": "light-manhattan",
   "metadata": {},
   "outputs": [
    {
     "data": {
      "text/plain": [
       "array(['육회자매집', '순희네 빈대떡', '부촌육회', ..., '심야식당 시즌 주바리 프로젝트', '브릭 오븐 뉴욕 피자',\n",
       "       '원스인어블루문'], dtype=object)"
      ]
     },
     "execution_count": 31,
     "metadata": {},
     "output_type": "execute_result"
    }
   ],
   "source": [
    "hangle = re.compile('[^ ㄱ-ㅣ가-힣]')\n",
    "for i, r in enumerate(restaurant):\n",
    "    restaurant[i] = hangle.sub('', r)\n",
    "\n",
    "restaurant"
   ]
  },
  {
   "cell_type": "code",
   "execution_count": 33,
   "id": "cognitive-kinase",
   "metadata": {},
   "outputs": [
    {
     "data": {
      "text/html": [
       "<div>\n",
       "<style scoped>\n",
       "    .dataframe tbody tr th:only-of-type {\n",
       "        vertical-align: middle;\n",
       "    }\n",
       "\n",
       "    .dataframe tbody tr th {\n",
       "        vertical-align: top;\n",
       "    }\n",
       "\n",
       "    .dataframe thead th {\n",
       "        text-align: right;\n",
       "    }\n",
       "</style>\n",
       "<table border=\"1\" class=\"dataframe\">\n",
       "  <thead>\n",
       "    <tr style=\"text-align: right;\">\n",
       "      <th></th>\n",
       "      <th>식당이름</th>\n",
       "      <th>주소</th>\n",
       "      <th>리뷰</th>\n",
       "    </tr>\n",
       "  </thead>\n",
       "  <tbody>\n",
       "    <tr>\n",
       "      <th>0</th>\n",
       "      <td>육회자매집</td>\n",
       "      <td>서울특별시 종로구 종로4가 177</td>\n",
       "      <td>토요일 저녁 피크 시간에 갔는데 15분 정도 기다리고 먹은 것 같아요 3호점은 안 ...</td>\n",
       "    </tr>\n",
       "    <tr>\n",
       "      <th>1</th>\n",
       "      <td>육회자매집</td>\n",
       "      <td>서울특별시 종로구 종로4가 177</td>\n",
       "      <td>1호점은 화장실이 없고 화장실은 2호점에 있음. 음식이 빨리 제공되며 맛은 일품.가...</td>\n",
       "    </tr>\n",
       "    <tr>\n",
       "      <th>2</th>\n",
       "      <td>육회자매집</td>\n",
       "      <td>서울특별시 종로구 종로4가 177</td>\n",
       "      <td>광장시장내 육회집이구요생각보다 사람정말많아요육회는정말맛있어요 강추입니다</td>\n",
       "    </tr>\n",
       "    <tr>\n",
       "      <th>3</th>\n",
       "      <td>육회자매집</td>\n",
       "      <td>서울특별시 종로구 종로4가 177</td>\n",
       "      <td>-아마 서울에서 육회로 가장 유명한 곳 중 하나가 아닐까?- 오랜만에 광장시장에 방...</td>\n",
       "    </tr>\n",
       "    <tr>\n",
       "      <th>4</th>\n",
       "      <td>육회자매집</td>\n",
       "      <td>서울특별시 종로구 종로4가 177</td>\n",
       "      <td>몇년전에 줄서서 먹었던 기억이 있어 다시 갔는데 그 때보단 맛있게 먹진 않았어요. ...</td>\n",
       "    </tr>\n",
       "    <tr>\n",
       "      <th>...</th>\n",
       "      <td>...</td>\n",
       "      <td>...</td>\n",
       "      <td>...</td>\n",
       "    </tr>\n",
       "    <tr>\n",
       "      <th>344682</th>\n",
       "      <td>원스인어블루문</td>\n",
       "      <td>NaN</td>\n",
       "      <td>이것은 뉴욕 스타일 재즈 클럽도 뉴욕 가격. 좋은  단단한 음식과 좋은 와인과 재...</td>\n",
       "    </tr>\n",
       "    <tr>\n",
       "      <th>344683</th>\n",
       "      <td>원스인어블루문</td>\n",
       "      <td>NaN</td>\n",
       "      <td>우리는 기회를 여러 라이브 공연 에서는 재즈 바 년 중 최고였어요. 로컬 음식도 ...</td>\n",
       "    </tr>\n",
       "    <tr>\n",
       "      <th>344684</th>\n",
       "      <td>원스인어블루문</td>\n",
       "      <td>NaN</td>\n",
       "      <td>여기에 가서 데이트 나의 약혼녀. 은  위대한 재즈 음악  맛있는 이탈리아 음식 ...</td>\n",
       "    </tr>\n",
       "    <tr>\n",
       "      <th>344685</th>\n",
       "      <td>원스인어블루문</td>\n",
       "      <td>NaN</td>\n",
       "      <td>블루 재즈 바 / 레스토랑 에 잘 모르 는 문 남쪽 의 Aphujeong 로데오 ...</td>\n",
       "    </tr>\n",
       "    <tr>\n",
       "      <th>344686</th>\n",
       "      <td>원스인어블루문</td>\n",
       "      <td>NaN</td>\n",
       "      <td>이것 이 두번째 이 재즈 바. 라이브 음악 은. 서비스 는 좋 았습니다. 음료수가...</td>\n",
       "    </tr>\n",
       "  </tbody>\n",
       "</table>\n",
       "<p>344687 rows × 3 columns</p>\n",
       "</div>"
      ],
      "text/plain": [
       "           식당이름                  주소  \\\n",
       "0         육회자매집  서울특별시 종로구 종로4가 177   \n",
       "1         육회자매집  서울특별시 종로구 종로4가 177   \n",
       "2         육회자매집  서울특별시 종로구 종로4가 177   \n",
       "3         육회자매집  서울특별시 종로구 종로4가 177   \n",
       "4         육회자매집  서울특별시 종로구 종로4가 177   \n",
       "...         ...                 ...   \n",
       "344682  원스인어블루문                 NaN   \n",
       "344683  원스인어블루문                 NaN   \n",
       "344684  원스인어블루문                 NaN   \n",
       "344685  원스인어블루문                 NaN   \n",
       "344686  원스인어블루문                 NaN   \n",
       "\n",
       "                                                       리뷰  \n",
       "0       토요일 저녁 피크 시간에 갔는데 15분 정도 기다리고 먹은 것 같아요 3호점은 안 ...  \n",
       "1       1호점은 화장실이 없고 화장실은 2호점에 있음. 음식이 빨리 제공되며 맛은 일품.가...  \n",
       "2                 광장시장내 육회집이구요생각보다 사람정말많아요육회는정말맛있어요 강추입니다  \n",
       "3       -아마 서울에서 육회로 가장 유명한 곳 중 하나가 아닐까?- 오랜만에 광장시장에 방...  \n",
       "4       몇년전에 줄서서 먹었던 기억이 있어 다시 갔는데 그 때보단 맛있게 먹진 않았어요. ...  \n",
       "...                                                   ...  \n",
       "344682   이것은 뉴욕 스타일 재즈 클럽도 뉴욕 가격. 좋은  단단한 음식과 좋은 와인과 재...  \n",
       "344683   우리는 기회를 여러 라이브 공연 에서는 재즈 바 년 중 최고였어요. 로컬 음식도 ...  \n",
       "344684   여기에 가서 데이트 나의 약혼녀. 은  위대한 재즈 음악  맛있는 이탈리아 음식 ...  \n",
       "344685   블루 재즈 바 / 레스토랑 에 잘 모르 는 문 남쪽 의 Aphujeong 로데오 ...  \n",
       "344686   이것 이 두번째 이 재즈 바. 라이브 음악 은. 서비스 는 좋 았습니다. 음료수가...  \n",
       "\n",
       "[344687 rows x 3 columns]"
      ]
     },
     "execution_count": 33,
     "metadata": {},
     "output_type": "execute_result"
    }
   ],
   "source": [
    "df"
   ]
  },
  {
   "cell_type": "code",
   "execution_count": 38,
   "id": "distinct-comment",
   "metadata": {},
   "outputs": [
    {
     "name": "stderr",
     "output_type": "stream",
     "text": [
      "c:\\users\\kem\\appdata\\local\\programs\\python\\python37\\lib\\site-packages\\ipykernel_launcher.py:2: FutureWarning: The default value of regex will change from True to False in a future version.\n",
      "  \n"
     ]
    },
    {
     "data": {
      "text/html": [
       "<div>\n",
       "<style scoped>\n",
       "    .dataframe tbody tr th:only-of-type {\n",
       "        vertical-align: middle;\n",
       "    }\n",
       "\n",
       "    .dataframe tbody tr th {\n",
       "        vertical-align: top;\n",
       "    }\n",
       "\n",
       "    .dataframe thead th {\n",
       "        text-align: right;\n",
       "    }\n",
       "</style>\n",
       "<table border=\"1\" class=\"dataframe\">\n",
       "  <thead>\n",
       "    <tr style=\"text-align: right;\">\n",
       "      <th></th>\n",
       "      <th>식당이름</th>\n",
       "      <th>주소</th>\n",
       "      <th>리뷰</th>\n",
       "    </tr>\n",
       "  </thead>\n",
       "  <tbody>\n",
       "    <tr>\n",
       "      <th>0</th>\n",
       "      <td>육회자매집</td>\n",
       "      <td>서울특별시 종로구 종로4가 177</td>\n",
       "      <td>토요일 저녁 피크 시간에 갔는데 15분 정도 기다리고 먹은 것 같아요 3호점은 안 ...</td>\n",
       "    </tr>\n",
       "    <tr>\n",
       "      <th>1</th>\n",
       "      <td>육회자매집</td>\n",
       "      <td>서울특별시 종로구 종로4가 177</td>\n",
       "      <td>1호점은 화장실이 없고 화장실은 2호점에 있음. 음식이 빨리 제공되며 맛은 일품.가...</td>\n",
       "    </tr>\n",
       "    <tr>\n",
       "      <th>2</th>\n",
       "      <td>육회자매집</td>\n",
       "      <td>서울특별시 종로구 종로4가 177</td>\n",
       "      <td>광장시장내 육회집이구요생각보다 사람정말많아요육회는정말맛있어요 강추입니다</td>\n",
       "    </tr>\n",
       "    <tr>\n",
       "      <th>3</th>\n",
       "      <td>육회자매집</td>\n",
       "      <td>서울특별시 종로구 종로4가 177</td>\n",
       "      <td>-아마 서울에서 육회로 가장 유명한 곳 중 하나가 아닐까?- 오랜만에 광장시장에 방...</td>\n",
       "    </tr>\n",
       "    <tr>\n",
       "      <th>4</th>\n",
       "      <td>육회자매집</td>\n",
       "      <td>서울특별시 종로구 종로4가 177</td>\n",
       "      <td>몇년전에 줄서서 먹었던 기억이 있어 다시 갔는데 그 때보단 맛있게 먹진 않았어요. ...</td>\n",
       "    </tr>\n",
       "    <tr>\n",
       "      <th>...</th>\n",
       "      <td>...</td>\n",
       "      <td>...</td>\n",
       "      <td>...</td>\n",
       "    </tr>\n",
       "    <tr>\n",
       "      <th>344682</th>\n",
       "      <td>원스인어블루문</td>\n",
       "      <td>NaN</td>\n",
       "      <td>이것은 뉴욕 스타일 재즈 클럽도 뉴욕 가격. 좋은  단단한 음식과 좋은 와인과 재...</td>\n",
       "    </tr>\n",
       "    <tr>\n",
       "      <th>344683</th>\n",
       "      <td>원스인어블루문</td>\n",
       "      <td>NaN</td>\n",
       "      <td>우리는 기회를 여러 라이브 공연 에서는 재즈 바 년 중 최고였어요. 로컬 음식도 ...</td>\n",
       "    </tr>\n",
       "    <tr>\n",
       "      <th>344684</th>\n",
       "      <td>원스인어블루문</td>\n",
       "      <td>NaN</td>\n",
       "      <td>여기에 가서 데이트 나의 약혼녀. 은  위대한 재즈 음악  맛있는 이탈리아 음식 ...</td>\n",
       "    </tr>\n",
       "    <tr>\n",
       "      <th>344685</th>\n",
       "      <td>원스인어블루문</td>\n",
       "      <td>NaN</td>\n",
       "      <td>블루 재즈 바 / 레스토랑 에 잘 모르 는 문 남쪽 의 Aphujeong 로데오 ...</td>\n",
       "    </tr>\n",
       "    <tr>\n",
       "      <th>344686</th>\n",
       "      <td>원스인어블루문</td>\n",
       "      <td>NaN</td>\n",
       "      <td>이것 이 두번째 이 재즈 바. 라이브 음악 은. 서비스 는 좋 았습니다. 음료수가...</td>\n",
       "    </tr>\n",
       "  </tbody>\n",
       "</table>\n",
       "<p>344687 rows × 3 columns</p>\n",
       "</div>"
      ],
      "text/plain": [
       "           식당이름                  주소  \\\n",
       "0         육회자매집  서울특별시 종로구 종로4가 177   \n",
       "1         육회자매집  서울특별시 종로구 종로4가 177   \n",
       "2         육회자매집  서울특별시 종로구 종로4가 177   \n",
       "3         육회자매집  서울특별시 종로구 종로4가 177   \n",
       "4         육회자매집  서울특별시 종로구 종로4가 177   \n",
       "...         ...                 ...   \n",
       "344682  원스인어블루문                 NaN   \n",
       "344683  원스인어블루문                 NaN   \n",
       "344684  원스인어블루문                 NaN   \n",
       "344685  원스인어블루문                 NaN   \n",
       "344686  원스인어블루문                 NaN   \n",
       "\n",
       "                                                       리뷰  \n",
       "0       토요일 저녁 피크 시간에 갔는데 15분 정도 기다리고 먹은 것 같아요 3호점은 안 ...  \n",
       "1       1호점은 화장실이 없고 화장실은 2호점에 있음. 음식이 빨리 제공되며 맛은 일품.가...  \n",
       "2                 광장시장내 육회집이구요생각보다 사람정말많아요육회는정말맛있어요 강추입니다  \n",
       "3       -아마 서울에서 육회로 가장 유명한 곳 중 하나가 아닐까?- 오랜만에 광장시장에 방...  \n",
       "4       몇년전에 줄서서 먹었던 기억이 있어 다시 갔는데 그 때보단 맛있게 먹진 않았어요. ...  \n",
       "...                                                   ...  \n",
       "344682   이것은 뉴욕 스타일 재즈 클럽도 뉴욕 가격. 좋은  단단한 음식과 좋은 와인과 재...  \n",
       "344683   우리는 기회를 여러 라이브 공연 에서는 재즈 바 년 중 최고였어요. 로컬 음식도 ...  \n",
       "344684   여기에 가서 데이트 나의 약혼녀. 은  위대한 재즈 음악  맛있는 이탈리아 음식 ...  \n",
       "344685   블루 재즈 바 / 레스토랑 에 잘 모르 는 문 남쪽 의 Aphujeong 로데오 ...  \n",
       "344686   이것 이 두번째 이 재즈 바. 라이브 음악 은. 서비스 는 좋 았습니다. 음료수가...  \n",
       "\n",
       "[344687 rows x 3 columns]"
      ]
     },
     "execution_count": 38,
     "metadata": {},
     "output_type": "execute_result"
    }
   ],
   "source": [
    "get_hangle(df, '리뷰')\n",
    "df"
   ]
  },
  {
   "cell_type": "code",
   "execution_count": null,
   "id": "statutory-atmosphere",
   "metadata": {},
   "outputs": [],
   "source": []
  }
 ],
 "metadata": {
  "kernelspec": {
   "display_name": "Python 3",
   "language": "python",
   "name": "python3"
  },
  "language_info": {
   "codemirror_mode": {
    "name": "ipython",
    "version": 3
   },
   "file_extension": ".py",
   "mimetype": "text/x-python",
   "name": "python",
   "nbconvert_exporter": "python",
   "pygments_lexer": "ipython3",
   "version": "3.7.9"
  }
 },
 "nbformat": 4,
 "nbformat_minor": 5
}
