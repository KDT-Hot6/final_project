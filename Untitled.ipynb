{
 "cells": [
  {
   "cell_type": "code",
   "execution_count": 2,
   "metadata": {},
   "outputs": [],
   "source": [
    "main_form = {\n",
    "                \"query\": {\n",
    "                    \"bool\":{\n",
    "                        \"must\":[\n",
    "\n",
    "                        ]\n",
    "                    }\n",
    "                }\n",
    "            }"
   ]
  },
  {
   "cell_type": "code",
   "execution_count": 3,
   "metadata": {},
   "outputs": [],
   "source": [
    "and_form = {\n",
    "    \"bool\":{\n",
    "        \"should\":[\n",
    "            \n",
    "        ]\n",
    "    }\n",
    "}"
   ]
  },
  {
   "cell_type": "code",
   "execution_count": 4,
   "metadata": {},
   "outputs": [],
   "source": [
    "or_form = {\n",
    "    \"wildcard\":{\"comment\": \"\"}\n",
    "}"
   ]
  },
  {
   "cell_type": "code",
   "execution_count": 6,
   "metadata": {},
   "outputs": [
    {
     "data": {
      "text/plain": [
       "{'bool': {'should': [{'wildcard': {'comment': '*증정*'}},\n",
       "   {'wildcard': {'comment': '*증정*'}}]}}"
      ]
     },
     "execution_count": 6,
     "metadata": {},
     "output_type": "execute_result"
    }
   ],
   "source": [
    "or_form['wildcard']['comment'] = \"*증정*\"\n",
    "and_form['bool']['should'].append(or_form)\n",
    "and_form['bool']['should'].append(or_form)\n",
    "and_form"
   ]
  },
  {
   "cell_type": "code",
   "execution_count": 8,
   "metadata": {},
   "outputs": [
    {
     "data": {
      "text/plain": [
       "{'query': {'bool': {'must': [{'bool': {'should': [{'wildcard': {'comment': '*증정*'}},\n",
       "       {'wildcard': {'comment': '*증정*'}}]}},\n",
       "    {'bool': {'should': [{'wildcard': {'comment': '*증정*'}},\n",
       "       {'wildcard': {'comment': '*증정*'}}]}}]}}}"
      ]
     },
     "execution_count": 8,
     "metadata": {},
     "output_type": "execute_result"
    }
   ],
   "source": [
    "main_form['query']['bool']['must'].append(and_form)\n",
    "main_form['query']['bool']['must'].append(and_form)\n",
    "main_form"
   ]
  },
  {
   "cell_type": "code",
   "execution_count": 9,
   "metadata": {},
   "outputs": [
    {
     "data": {
      "text/plain": [
       "'{\"query\": {\"bool\": {\"must\": [{\"bool\": {\"should\": [{\"wildcard\": {\"comment\": \"*증정*\"}}, {\"wildcard\": {\"comment\": \"*증정*\"}}]}}, {\"bool\": {\"should\": [{\"wildcard\": {\"comment\": \"*증정*\"}}, {\"wildcard\": {\"comment\": \"*증정*\"}}]}}]}}}'"
      ]
     },
     "execution_count": 9,
     "metadata": {},
     "output_type": "execute_result"
    }
   ],
   "source": [
    "str(main_form).replace('\\'','\"')"
   ]
  },
  {
   "cell_type": "code",
   "execution_count": 22,
   "metadata": {},
   "outputs": [],
   "source": [
    "def make_query(word_list):\n",
    "    main_form = {\n",
    "                \"query\": {\n",
    "                    \"bool\":{\n",
    "                        \"must\":[\n",
    "\n",
    "                        ]\n",
    "                    }\n",
    "                }\n",
    "            }\n",
    "    for words in word_list:\n",
    "        and_form = {\n",
    "        \"bool\":{\n",
    "            \"should\":[\n",
    "\n",
    "                ]\n",
    "            }\n",
    "        }\n",
    "        for word in words:\n",
    "            or_form = {\n",
    "                \"wildcard\":{\"comment\": \"\"}\n",
    "            }\n",
    "            or_form['wildcard']['comment'] = \"*\"+word+\"*\"\n",
    "            and_form['bool']['should'].append(or_form)\n",
    "        main_form['query']['bool']['must'].append(and_form)\n",
    "    return main_form         "
   ]
  },
  {
   "cell_type": "code",
   "execution_count": 23,
   "metadata": {},
   "outputs": [
    {
     "data": {
      "text/plain": [
       "{'query': {'bool': {'must': [{'bool': {'should': [{'wildcard': {'comment': '*된장*'}},\n",
       "       {'wildcard': {'comment': '*찌개*'}}]}},\n",
       "    {'bool': {'should': [{'wildcard': {'comment': '*고기*'}},\n",
       "       {'wildcard': {'comment': '*토시*'}}]}}]}}}"
      ]
     },
     "execution_count": 23,
     "metadata": {},
     "output_type": "execute_result"
    }
   ],
   "source": [
    "make_query([['된장','찌개'],['고기','토시']])"
   ]
  },
  {
   "cell_type": "code",
   "execution_count": null,
   "metadata": {},
   "outputs": [],
   "source": []
  }
 ],
 "metadata": {
  "kernelspec": {
   "display_name": "PythonHome_p36",
   "language": "python",
   "name": "embedding"
  },
  "language_info": {
   "codemirror_mode": {
    "name": "ipython",
    "version": 3
   },
   "file_extension": ".py",
   "mimetype": "text/x-python",
   "name": "python",
   "nbconvert_exporter": "python",
   "pygments_lexer": "ipython3",
   "version": "3.6.5"
  }
 },
 "nbformat": 4,
 "nbformat_minor": 4
}
