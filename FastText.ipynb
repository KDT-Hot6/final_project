{
 "cells": [
  {
   "cell_type": "markdown",
   "id": "temporal-parent",
   "metadata": {},
   "source": [
    "# FastText 유사도 측정 라이브러리\n",
    "- Facebook에서 개발한 라이브러리로 약 157개국 언어에 대해 common crawler와 wikipedia 데이터를 사전학습한 모델을 제공 (한국어 제공!!)\n",
    "- gensim 파이썬 패키지에 포함되어 있음\n",
    "- 홈페이지 : https://fasttext.cc/docs/en/crawl-vectors.html"
   ]
  },
  {
   "cell_type": "code",
   "execution_count": 1,
   "id": "valid-consequence",
   "metadata": {},
   "outputs": [
    {
     "name": "stdout",
     "output_type": "stream",
     "text": [
      "Collecting fasttext\n",
      "\u001b[?25l  Downloading https://files.pythonhosted.org/packages/f8/85/e2b368ab6d3528827b147fdb814f8189acc981a4bc2f99ab894650e05c40/fasttext-0.9.2.tar.gz (68kB)\n",
      "\u001b[K    100% |████████████████████████████████| 71kB 294kB/s ta 0:00:01\n",
      "\u001b[?25hRequirement already satisfied: pybind11>=2.2 in /opt/anaconda3/envs/fast/lib/python3.5/site-packages (from fasttext) (2.6.2)\n",
      "Requirement already satisfied: setuptools>=0.7.0 in /opt/anaconda3/envs/fast/lib/python3.5/site-packages (from fasttext) (40.2.0)\n",
      "Collecting numpy (from fasttext)\n",
      "\u001b[?25l  Downloading https://files.pythonhosted.org/packages/85/93/2d19421e0f70b2fd4a1b6f86ff739dd2ce3cea6cab50b2b5f792045388b4/numpy-1.18.5-cp35-cp35m-macosx_10_9_intel.whl (14.8MB)\n",
      "\u001b[K    100% |████████████████████████████████| 14.8MB 947kB/s ta 0:00:011\n",
      "\u001b[?25hBuilding wheels for collected packages: fasttext\n",
      "  Running setup.py bdist_wheel for fasttext ... \u001b[?25ldone\n",
      "\u001b[?25h  Stored in directory: /Users/leeseokyoung/Library/Caches/pip/wheels/98/ba/7f/b154944a1cf5a8cee91c154b75231136cc3a3321ab0e30f592\n",
      "Successfully built fasttext\n",
      "Installing collected packages: numpy, fasttext\n",
      "Successfully installed fasttext-0.9.2 numpy-1.18.5\n",
      "\u001b[33mYou are using pip version 10.0.1, however version 20.3.4 is available.\n",
      "You should consider upgrading via the 'pip install --upgrade pip' command.\u001b[0m\n"
     ]
    }
   ],
   "source": [
    "!pip install fasttext"
   ]
  },
  {
   "cell_type": "code",
   "execution_count": 3,
   "id": "continuous-shock",
   "metadata": {},
   "outputs": [
    {
     "name": "stdout",
     "output_type": "stream",
     "text": [
      "Collecting gensim\n",
      "\u001b[?25l  Downloading https://files.pythonhosted.org/packages/24/2a/bf98f2db5fb2fbb4c0f227513e7651bee77216df9da8b78c76124d1ce235/gensim-3.8.3-cp35-cp35m-macosx_10_9_intel.whl (24.6MB)\n",
      "\u001b[K    100% |████████████████████████████████| 24.6MB 974kB/s ta 0:00:011\n",
      "\u001b[?25hRequirement already satisfied: six>=1.5.0 in /opt/anaconda3/envs/fast/lib/python3.5/site-packages (from gensim) (1.15.0)\n",
      "Collecting scipy>=0.18.1 (from gensim)\n",
      "\u001b[?25l  Downloading https://files.pythonhosted.org/packages/56/49/c75be5bb62a53eeee87ef1b4a6decdd0dac2d0a0ba3408fcc309dea6a060/scipy-1.4.1-cp35-cp35m-macosx_10_6_intel.whl (28.3MB)\n",
      "\u001b[K    100% |████████████████████████████████| 28.3MB 423kB/s ta 0:00:012  27% |█████████                       | 7.9MB 1.7MB/s eta 0:00:13\n",
      "\u001b[?25hRequirement already satisfied: numpy>=1.11.3 in /opt/anaconda3/envs/fast/lib/python3.5/site-packages (from gensim) (1.18.5)\n",
      "Collecting smart-open>=1.8.1 (from gensim)\n",
      "\u001b[?25l  Downloading https://files.pythonhosted.org/packages/11/9a/ba2d5f67f25e8d5bbf2fcec7a99b1e38428e83cb715f64dd179ca43a11bb/smart_open-3.0.0.tar.gz (113kB)\n",
      "\u001b[K    100% |████████████████████████████████| 122kB 1.2MB/s ta 0:00:01\n",
      "\u001b[?25hCollecting requests (from smart-open>=1.8.1->gensim)\n",
      "  Using cached https://files.pythonhosted.org/packages/29/c1/24814557f1d22c56d50280771a17307e6bf87b70727d975fd6b2ce6b014a/requests-2.25.1-py2.py3-none-any.whl\n",
      "Collecting chardet<5,>=3.0.2 (from requests->smart-open>=1.8.1->gensim)\n",
      "  Using cached https://files.pythonhosted.org/packages/19/c7/fa589626997dd07bd87d9269342ccb74b1720384a4d739a1872bd84fbe68/chardet-4.0.0-py2.py3-none-any.whl\n",
      "Collecting idna<3,>=2.5 (from requests->smart-open>=1.8.1->gensim)\n",
      "  Using cached https://files.pythonhosted.org/packages/a2/38/928ddce2273eaa564f6f50de919327bf3a00f091b5baba8dfa9460f3a8a8/idna-2.10-py2.py3-none-any.whl\n",
      "Collecting urllib3<1.27,>=1.21.1 (from requests->smart-open>=1.8.1->gensim)\n",
      "  Using cached https://files.pythonhosted.org/packages/23/fc/8a49991f7905261f9ca9df5aa9b58363c3c821ce3e7f671895442b7100f2/urllib3-1.26.3-py2.py3-none-any.whl\n",
      "Requirement already satisfied: certifi>=2017.4.17 in /opt/anaconda3/envs/fast/lib/python3.5/site-packages (from requests->smart-open>=1.8.1->gensim) (2020.6.20)\n",
      "Building wheels for collected packages: smart-open\n",
      "  Running setup.py bdist_wheel for smart-open ... \u001b[?25ldone\n",
      "\u001b[?25h  Stored in directory: /Users/leeseokyoung/Library/Caches/pip/wheels/18/88/7c/f06dabd5e9cabe02d2269167bcacbbf9b47d0c0ff7d6ebcb78\n",
      "Successfully built smart-open\n",
      "Installing collected packages: scipy, chardet, idna, urllib3, requests, smart-open, gensim\n",
      "Successfully installed chardet-4.0.0 gensim-3.8.3 idna-2.10 requests-2.25.1 scipy-1.4.1 smart-open-3.0.0 urllib3-1.26.3\n",
      "\u001b[33mYou are using pip version 10.0.1, however version 20.3.4 is available.\n",
      "You should consider upgrading via the 'pip install --upgrade pip' command.\u001b[0m\n"
     ]
    }
   ],
   "source": [
    "!pip install gensim"
   ]
  },
  {
   "cell_type": "code",
   "execution_count": 5,
   "id": "armed-video",
   "metadata": {},
   "outputs": [],
   "source": [
    "from gensim import models\n",
    "import fasttext\n",
    "import fasttext.util\n",
    "# from tqdm import tqdm\n",
    "# from gensim.models import FastText\n",
    "from gensim.models import KeyedVectors"
   ]
  },
  {
   "cell_type": "markdown",
   "id": "basic-logan",
   "metadata": {},
   "source": [
    "# FastText 한국어 사전학습 모델 load"
   ]
  },
  {
   "cell_type": "code",
   "execution_count": 27,
   "id": "southeast-utility",
   "metadata": {},
   "outputs": [],
   "source": [
    "ko_model = models.fasttext.load_facebook_model('cc.ko.300.bin')"
   ]
  },
  {
   "cell_type": "markdown",
   "id": "extraordinary-uzbekistan",
   "metadata": {},
   "source": [
    "# Key extraction"
   ]
  },
  {
   "cell_type": "code",
   "execution_count": 81,
   "id": "undefined-friday",
   "metadata": {},
   "outputs": [
    {
     "name": "stderr",
     "output_type": "stream",
     "text": [
      "/opt/anaconda3/envs/fast/lib/python3.5/site-packages/ipykernel_launcher.py:1: DeprecationWarning: Call to deprecated `most_similar` (Method will be removed in 4.0.0, use self.wv.most_similar() instead).\n",
      "  \"\"\"Entry point for launching an IPython kernel.\n"
     ]
    },
    {
     "data": {
      "text/plain": [
       "[('쫄깃하고', 0.6624599695205688),\n",
       " ('아삭한', 0.6571614146232605),\n",
       " ('바삭바삭하게', 0.6548091769218445),\n",
       " ('크림치즈와', 0.6509593725204468),\n",
       " ('육즙과', 0.648560643196106),\n",
       " ('쫀득쫀득한', 0.64581698179245),\n",
       " ('찰지고', 0.6448003053665161),\n",
       " ('바삭하고', 0.6446926593780518),\n",
       " ('쫀득쫀득', 0.6423717141151428),\n",
       " ('나폴리탄', 0.6420065760612488),\n",
       " ('매콤하면서', 0.6408661007881165),\n",
       " ('크림소스와', 0.6392472982406616),\n",
       " ('샐러드랑', 0.6377312541007996),\n",
       " ('크림치즈가', 0.6368626356124878),\n",
       " ('맥앤치즈', 0.6357221007347107),\n",
       " ('쫄깃하면서', 0.6346583366394043),\n",
       " ('바삭한', 0.6342840790748596),\n",
       " ('알싸하고', 0.6338673830032349),\n",
       " ('아삭아삭', 0.6313750147819519),\n",
       " ('고구마튀김', 0.6305485367774963)]"
      ]
     },
     "execution_count": 81,
     "metadata": {},
     "output_type": "execute_result"
    }
   ],
   "source": [
    "ko_model.most_similar('바삭바삭', topn= 20)"
   ]
  },
  {
   "cell_type": "markdown",
   "id": "compatible-advocate",
   "metadata": {},
   "source": [
    "# Get similarity between two words"
   ]
  },
  {
   "cell_type": "code",
   "execution_count": 82,
   "id": "increasing-kitty",
   "metadata": {},
   "outputs": [
    {
     "name": "stderr",
     "output_type": "stream",
     "text": [
      "/opt/anaconda3/envs/fast/lib/python3.5/site-packages/ipykernel_launcher.py:1: DeprecationWarning: Call to deprecated `similarity` (Method will be removed in 4.0.0, use self.wv.similarity() instead).\n",
      "  \"\"\"Entry point for launching an IPython kernel.\n"
     ]
    },
    {
     "data": {
      "text/plain": [
       "0.11299988"
      ]
     },
     "execution_count": 82,
     "metadata": {},
     "output_type": "execute_result"
    }
   ],
   "source": [
    "ko_model.similarity('버거킹', '컴퓨터')"
   ]
  },
  {
   "cell_type": "code",
   "execution_count": null,
   "id": "caring-basement",
   "metadata": {},
   "outputs": [],
   "source": []
  },
  {
   "cell_type": "code",
   "execution_count": null,
   "id": "medieval-train",
   "metadata": {},
   "outputs": [],
   "source": []
  },
  {
   "cell_type": "code",
   "execution_count": null,
   "id": "informed-wrong",
   "metadata": {},
   "outputs": [],
   "source": []
  },
  {
   "cell_type": "code",
   "execution_count": null,
   "id": "featured-banks",
   "metadata": {},
   "outputs": [],
   "source": []
  },
  {
   "cell_type": "code",
   "execution_count": null,
   "id": "aboriginal-rabbit",
   "metadata": {},
   "outputs": [],
   "source": []
  },
  {
   "cell_type": "code",
   "execution_count": null,
   "id": "sought-moore",
   "metadata": {},
   "outputs": [],
   "source": []
  },
  {
   "cell_type": "code",
   "execution_count": null,
   "id": "boxed-fight",
   "metadata": {},
   "outputs": [],
   "source": []
  },
  {
   "cell_type": "code",
   "execution_count": null,
   "id": "loose-elder",
   "metadata": {},
   "outputs": [],
   "source": []
  },
  {
   "cell_type": "code",
   "execution_count": null,
   "id": "european-healthcare",
   "metadata": {},
   "outputs": [],
   "source": []
  },
  {
   "cell_type": "code",
   "execution_count": null,
   "id": "careful-chemical",
   "metadata": {},
   "outputs": [],
   "source": []
  },
  {
   "cell_type": "code",
   "execution_count": null,
   "id": "finnish-keyboard",
   "metadata": {},
   "outputs": [],
   "source": []
  },
  {
   "cell_type": "code",
   "execution_count": null,
   "id": "british-stability",
   "metadata": {},
   "outputs": [],
   "source": []
  },
  {
   "cell_type": "code",
   "execution_count": null,
   "id": "controversial-foster",
   "metadata": {},
   "outputs": [],
   "source": []
  },
  {
   "cell_type": "code",
   "execution_count": null,
   "id": "corrected-directive",
   "metadata": {},
   "outputs": [],
   "source": []
  }
 ],
 "metadata": {
  "kernelspec": {
   "display_name": "Python 3",
   "language": "python",
   "name": "python3"
  },
  "language_info": {
   "codemirror_mode": {
    "name": "ipython",
    "version": 3
   },
   "file_extension": ".py",
   "mimetype": "text/x-python",
   "name": "python",
   "nbconvert_exporter": "python",
   "pygments_lexer": "ipython3",
   "version": "3.5.6"
  }
 },
 "nbformat": 4,
 "nbformat_minor": 5
}
