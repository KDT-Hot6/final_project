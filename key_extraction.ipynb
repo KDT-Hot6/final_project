{
 "cells": [
  {
   "cell_type": "code",
   "execution_count": 1,
   "metadata": {},
   "outputs": [],
   "source": [
    "import pandas as pd"
   ]
  },
  {
   "cell_type": "code",
   "execution_count": 2,
   "metadata": {},
   "outputs": [
    {
     "data": {
      "text/html": [
       "<div>\n",
       "<style scoped>\n",
       "    .dataframe tbody tr th:only-of-type {\n",
       "        vertical-align: middle;\n",
       "    }\n",
       "\n",
       "    .dataframe tbody tr th {\n",
       "        vertical-align: top;\n",
       "    }\n",
       "\n",
       "    .dataframe thead th {\n",
       "        text-align: right;\n",
       "    }\n",
       "</style>\n",
       "<table border=\"1\" class=\"dataframe\">\n",
       "  <thead>\n",
       "    <tr style=\"text-align: right;\">\n",
       "      <th></th>\n",
       "      <th>Unnamed: 0</th>\n",
       "      <th>식당이름</th>\n",
       "      <th>주소</th>\n",
       "      <th>리뷰</th>\n",
       "    </tr>\n",
       "  </thead>\n",
       "  <tbody>\n",
       "    <tr>\n",
       "      <th>0</th>\n",
       "      <td>0</td>\n",
       "      <td>육회자매집</td>\n",
       "      <td>서울특별시 종로구 종로4가 177</td>\n",
       "      <td>토요일 저녁 피크 시간에 갔는데 15분 정도 기다리고 먹은 것 같아요 3호점은 안 ...</td>\n",
       "    </tr>\n",
       "    <tr>\n",
       "      <th>1</th>\n",
       "      <td>1</td>\n",
       "      <td>육회자매집</td>\n",
       "      <td>서울특별시 종로구 종로4가 177</td>\n",
       "      <td>1호점은 화장실이 없고 화장실은 2호점에 있음. 음식이 빨리 제공되며 맛은 일품.가...</td>\n",
       "    </tr>\n",
       "    <tr>\n",
       "      <th>2</th>\n",
       "      <td>2</td>\n",
       "      <td>육회자매집</td>\n",
       "      <td>서울특별시 종로구 종로4가 177</td>\n",
       "      <td>광장시장내 육회집이구요생각보다 사람정말많아요육회는정말맛있어요 강추입니다</td>\n",
       "    </tr>\n",
       "    <tr>\n",
       "      <th>3</th>\n",
       "      <td>3</td>\n",
       "      <td>육회자매집</td>\n",
       "      <td>서울특별시 종로구 종로4가 177</td>\n",
       "      <td>-아마 서울에서 육회로 가장 유명한 곳 중 하나가 아닐까?- 오랜만에 광장시장에 방...</td>\n",
       "    </tr>\n",
       "    <tr>\n",
       "      <th>4</th>\n",
       "      <td>4</td>\n",
       "      <td>육회자매집</td>\n",
       "      <td>서울특별시 종로구 종로4가 177</td>\n",
       "      <td>몇년전에 줄서서 먹었던 기억이 있어 다시 갔는데 그 때보단 맛있게 먹진 않았어요. ...</td>\n",
       "    </tr>\n",
       "  </tbody>\n",
       "</table>\n",
       "</div>"
      ],
      "text/plain": [
       "   Unnamed: 0   식당이름                  주소  \\\n",
       "0           0  육회자매집  서울특별시 종로구 종로4가 177   \n",
       "1           1  육회자매집  서울특별시 종로구 종로4가 177   \n",
       "2           2  육회자매집  서울특별시 종로구 종로4가 177   \n",
       "3           3  육회자매집  서울특별시 종로구 종로4가 177   \n",
       "4           4  육회자매집  서울특별시 종로구 종로4가 177   \n",
       "\n",
       "                                                  리뷰  \n",
       "0  토요일 저녁 피크 시간에 갔는데 15분 정도 기다리고 먹은 것 같아요 3호점은 안 ...  \n",
       "1  1호점은 화장실이 없고 화장실은 2호점에 있음. 음식이 빨리 제공되며 맛은 일품.가...  \n",
       "2            광장시장내 육회집이구요생각보다 사람정말많아요육회는정말맛있어요 강추입니다  \n",
       "3  -아마 서울에서 육회로 가장 유명한 곳 중 하나가 아닐까?- 오랜만에 광장시장에 방...  \n",
       "4  몇년전에 줄서서 먹었던 기억이 있어 다시 갔는데 그 때보단 맛있게 먹진 않았어요. ...  "
      ]
     },
     "execution_count": 2,
     "metadata": {},
     "output_type": "execute_result"
    }
   ],
   "source": [
    "df = pd.read_csv('./data/review_total.csv')\n",
    "df.head()"
   ]
  },
  {
   "cell_type": "code",
   "execution_count": 3,
   "metadata": {},
   "outputs": [
    {
     "data": {
      "text/plain": [
       "array(['육회자매집', '순희네 빈대떡', '부촌육회', ..., '팜카페', '전주콩나물해장국', '카페알파'],\n",
       "      dtype=object)"
      ]
     },
     "execution_count": 3,
     "metadata": {},
     "output_type": "execute_result"
    }
   ],
   "source": [
    "df['식당이름'].unique()"
   ]
  },
  {
   "cell_type": "code",
   "execution_count": 4,
   "metadata": {},
   "outputs": [
    {
     "data": {
      "text/plain": [
       "요리왕          6932\n",
       "집밥으로우주정복     4417\n",
       "신연경-본점       3197\n",
       "버거킹-연세로점     3130\n",
       "맥도날드-연세대점    2970\n",
       "             ... \n",
       "리차드궁            1\n",
       "일등갈비            1\n",
       "청담추어탕           1\n",
       "아이엠이자카야         1\n",
       "일리카페 보라매점       1\n",
       "Name: 식당이름, Length: 15458, dtype: int64"
      ]
     },
     "execution_count": 4,
     "metadata": {},
     "output_type": "execute_result"
    }
   ],
   "source": [
    "df['식당이름'].value_counts()"
   ]
  },
  {
   "cell_type": "code",
   "execution_count": 5,
   "metadata": {},
   "outputs": [
    {
     "data": {
      "text/plain": [
       "15458"
      ]
     },
     "execution_count": 5,
     "metadata": {},
     "output_type": "execute_result"
    }
   ],
   "source": [
    "res_list = df['식당이름'].unique()\n",
    "len(res_list)"
   ]
  },
  {
   "cell_type": "code",
   "execution_count": 6,
   "metadata": {},
   "outputs": [
    {
     "data": {
      "text/plain": [
       "(287914, 4)"
      ]
     },
     "execution_count": 6,
     "metadata": {},
     "output_type": "execute_result"
    }
   ],
   "source": [
    "df.shape"
   ]
  },
  {
   "cell_type": "code",
   "execution_count": 7,
   "metadata": {},
   "outputs": [
    {
     "name": "stdout",
     "output_type": "stream",
     "text": [
      "<class 'pandas.core.frame.DataFrame'>\n",
      "RangeIndex: 287914 entries, 0 to 287913\n",
      "Data columns (total 4 columns):\n",
      " #   Column      Non-Null Count   Dtype \n",
      "---  ------      --------------   ----- \n",
      " 0   Unnamed: 0  287914 non-null  int64 \n",
      " 1   식당이름        287914 non-null  object\n",
      " 2   주소          287914 non-null  object\n",
      " 3   리뷰          279382 non-null  object\n",
      "dtypes: int64(1), object(3)\n",
      "memory usage: 8.8+ MB\n"
     ]
    }
   ],
   "source": [
    "df.info()\n",
    "#reivew count 279382"
   ]
  },
  {
   "cell_type": "code",
   "execution_count": null,
   "metadata": {},
   "outputs": [],
   "source": []
  }
 ],
 "metadata": {
  "kernelspec": {
   "display_name": "Python 3",
   "language": "python",
   "name": "python3"
  },
  "language_info": {
   "codemirror_mode": {
    "name": "ipython",
    "version": 3
   },
   "file_extension": ".py",
   "mimetype": "text/x-python",
   "name": "python",
   "nbconvert_exporter": "python",
   "pygments_lexer": "ipython3",
   "version": "3.9.0"
  }
 },
 "nbformat": 4,
 "nbformat_minor": 4
}
