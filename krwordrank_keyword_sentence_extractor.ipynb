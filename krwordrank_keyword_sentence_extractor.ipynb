{
  "nbformat": 4,
  "nbformat_minor": 0,
  "metadata": {
    "colab": {
      "name": "krwordrank_keyword_sentence_extractor.ipynb",
      "provenance": [],
      "collapsed_sections": []
    },
    "kernelspec": {
      "name": "python3",
      "display_name": "Python 3"
    }
  },
  "cells": [
    {
      "cell_type": "code",
      "metadata": {
        "colab": {
          "base_uri": "https://localhost:8080/"
        },
        "id": "bdg13omDgTWN",
        "outputId": "95b39f85-78bb-4be2-80ac-51e74b690b93"
      },
      "source": [
        "!pip install krwordrank"
      ],
      "execution_count": 1,
      "outputs": [
        {
          "output_type": "stream",
          "text": [
            "Collecting krwordrank\n",
            "  Downloading https://files.pythonhosted.org/packages/6f/c8/7946b49dabd25a2fd8c258030bbfb21330f4ff1dca29a5eedb50e6882ed5/krwordrank-1.0.3-py3-none-any.whl\n",
            "Requirement already satisfied: scikit-learn>=0.22.1 in /usr/local/lib/python3.7/dist-packages (from krwordrank) (0.22.2.post1)\n",
            "Requirement already satisfied: numpy>=1.18.4 in /usr/local/lib/python3.7/dist-packages (from krwordrank) (1.19.5)\n",
            "Requirement already satisfied: scipy>=1.4.1 in /usr/local/lib/python3.7/dist-packages (from krwordrank) (1.4.1)\n",
            "Requirement already satisfied: joblib>=0.11 in /usr/local/lib/python3.7/dist-packages (from scikit-learn>=0.22.1->krwordrank) (1.0.1)\n",
            "Installing collected packages: krwordrank\n",
            "Successfully installed krwordrank-1.0.3\n"
          ],
          "name": "stdout"
        }
      ]
    },
    {
      "cell_type": "code",
      "metadata": {
        "colab": {
          "base_uri": "https://localhost:8080/"
        },
        "id": "6Hzs3-Yts35O",
        "outputId": "c8a63da0-2d78-4c33-9d08-c10ab299d06a"
      },
      "source": [
        "from google.colab import drive \n",
        "drive.mount('/content/drive')"
      ],
      "execution_count": 2,
      "outputs": [
        {
          "output_type": "stream",
          "text": [
            "Mounted at /content/drive\n"
          ],
          "name": "stdout"
        }
      ]
    },
    {
      "cell_type": "code",
      "metadata": {
        "colab": {
          "base_uri": "https://localhost:8080/",
          "height": 1000
        },
        "id": "Bj5kkQgTjwYQ",
        "outputId": "b2eafe7e-b698-48e5-86f9-ae65529a006f"
      },
      "source": [
        "import krwordrank\n",
        "import pandas as pd\n",
        "import re\n",
        "\n",
        "data = pd.read_csv('/content/drive/MyDrive/Colab_Notebooks/menupan_crawling.csv')\n",
        "data.head()"
      ],
      "execution_count": 3,
      "outputs": [
        {
          "output_type": "execute_result",
          "data": {
            "text/html": [
              "<div>\n",
              "<style scoped>\n",
              "    .dataframe tbody tr th:only-of-type {\n",
              "        vertical-align: middle;\n",
              "    }\n",
              "\n",
              "    .dataframe tbody tr th {\n",
              "        vertical-align: top;\n",
              "    }\n",
              "\n",
              "    .dataframe thead th {\n",
              "        text-align: right;\n",
              "    }\n",
              "</style>\n",
              "<table border=\"1\" class=\"dataframe\">\n",
              "  <thead>\n",
              "    <tr style=\"text-align: right;\">\n",
              "      <th></th>\n",
              "      <th>Unnamed: 0</th>\n",
              "      <th>res_name</th>\n",
              "      <th>res_type</th>\n",
              "      <th>res_address</th>\n",
              "      <th>res_homepage</th>\n",
              "      <th>res_score</th>\n",
              "      <th>res_theme</th>\n",
              "      <th>res_hour</th>\n",
              "      <th>res_room</th>\n",
              "      <th>smoking</th>\n",
              "      <th>amenity</th>\n",
              "      <th>parking</th>\n",
              "      <th>res_info</th>\n",
              "      <th>review</th>\n",
              "      <th>rev_date</th>\n",
              "      <th>rev_score</th>\n",
              "    </tr>\n",
              "  </thead>\n",
              "  <tbody>\n",
              "    <tr>\n",
              "      <th>0</th>\n",
              "      <td>0</td>\n",
              "      <td>레빠쥬(les pages)</td>\n",
              "      <td>양식</td>\n",
              "      <td>서울 강남구 신사동 506 강남출판문화센터 1층</td>\n",
              "      <td>http://www.lespages.co.kr/</td>\n",
              "      <td>3.8</td>\n",
              "      <td>술 못마시는 친구와 함께, 일상데이트, 점심식사, 야외테라스, 스테이크, 와인, 양...</td>\n",
              "      <td>11:30 ~ 22:00BreakTime: 15:30~17:00</td>\n",
              "      <td>50석 / 방: 방없음실내 36석 / 테라스 16석</td>\n",
              "      <td>모두 금연석</td>\n",
              "      <td>Wifi</td>\n",
              "      <td>4대, 주차방법: 무료, 주차장소: 업소앞/건물 지하주차장 (1시간 무료이용)</td>\n",
              "      <td>가로수길 뒷편에 자리잡은 피자, 파스타, 샌드위치를 판매하는 이탈리안 가정식 레스토...</td>\n",
              "      <td>파스타가 괜찮은 음식점@@\\n감사합니다. 추천할께요^^@@\\n관자의 쫄길함이 살아있...</td>\n",
              "      <td>2014/04/09\\n2013/12/11\\n2015/07/27\\n2015/03/17...</td>\n",
              "      <td>3.0\\n5.0\\n3.0\\n4.0\\n5.0\\n3.0\\n3.0\\n3.0\\n5.0\\n4.0</td>\n",
              "    </tr>\n",
              "    <tr>\n",
              "      <th>1</th>\n",
              "      <td>1</td>\n",
              "      <td>듀크렘(DEUX CREMES)</td>\n",
              "      <td>카페/주점-카페</td>\n",
              "      <td>서울 강남구 신사동 545-4</td>\n",
              "      <td>Nan</td>\n",
              "      <td>3.9</td>\n",
              "      <td>술 못마시는 친구와 함께, 외국 현지 음식(for 외국인), 소개팅, 일상데이트, ...</td>\n",
              "      <td>11:00 ~ 23:00</td>\n",
              "      <td>100석 / 방: 방없음</td>\n",
              "      <td>모두 금연석</td>\n",
              "      <td>Wifi</td>\n",
              "      <td>100대, 주차방법: 유료, 주차장소: 발렛파킹/발렛비 : 2,000원</td>\n",
              "      <td>가로수길에서 타르트 맛집으로 이미 핫플레이스인 듀크렘.말 그대로 두가지 크림이라는 ...</td>\n",
              "      <td>직원들의 싸가지 없는 태도와 불친절을 넘어선 싸우자고 덤비는 진상직원들@@\\n타르트...</td>\n",
              "      <td>2014/04/02\\n2014/04/25\\n2015/04/11\\n2014/04/30...</td>\n",
              "      <td>1.3\\n3.5\\n4.0\\n4.5\\n4.5\\n3.0\\n2.5\\n1.3\\n4.0\\n4...</td>\n",
              "    </tr>\n",
              "    <tr>\n",
              "      <th>2</th>\n",
              "      <td>2</td>\n",
              "      <td>팬아시아 신사가로수길점</td>\n",
              "      <td>기타/세계-동남아음식</td>\n",
              "      <td>서울 강남구 신사동 546-23 2층</td>\n",
              "      <td>Nan</td>\n",
              "      <td>4.1</td>\n",
              "      <td>가족외식, 술 마시는 친구와 함께, 일상데이트, 브런치, 와인, 아시안 면요리, 타...</td>\n",
              "      <td>12:00 ~ 23:00</td>\n",
              "      <td>72석 / 방: 방없음</td>\n",
              "      <td>모두 금연석</td>\n",
              "      <td>Wifi</td>\n",
              "      <td>주차안됨</td>\n",
              "      <td>'잊을수 없는 경험' 이라는 신조가 팬아시아 레스토랑의 고객에 대한 마음가짐이다.팬...</td>\n",
              "      <td>보기에도 한번 가보고 싶은 곳이네요 ???@@\\n동남아음식도 좋네요''''ㅎㅎ@@\\...</td>\n",
              "      <td>2018/10/25\\n2015/03/31\\n2014/07/14\\n2014/06/11...</td>\n",
              "      <td>4.5\\n4.0\\n5.0\\n3.0\\n4.5\\n5.0\\n3.5\\n4.0\\n5.0\\n4...</td>\n",
              "    </tr>\n",
              "    <tr>\n",
              "      <th>3</th>\n",
              "      <td>3</td>\n",
              "      <td>더가든키친(The Garden Kitchen)</td>\n",
              "      <td>호텔뷔페</td>\n",
              "      <td>서울 서초구 잠원동 6-1 더리버사이드호텔 1층</td>\n",
              "      <td>http://www.riversidehotel.co.kr</td>\n",
              "      <td>4.3</td>\n",
              "      <td>가족외식, 돌잔치/회갑/생일, 어른과 함께라면, 아이와 함께라면, 일상데이트, 특별...</td>\n",
              "      <td>11:30 ~ 21:30</td>\n",
              "      <td>600석 / 방: 13개</td>\n",
              "      <td>모두 금연석</td>\n",
              "      <td>놀이방,Wifi</td>\n",
              "      <td>200대, 주차방법: 유료, 주차장소: 발렛파킹</td>\n",
              "      <td>&lt;리버사이드 더가든키친 할인이벤트&gt;주중점심 53,200 -&gt;39,900(25%)주중...</td>\n",
              "      <td>기분좋은날 더 기분좋게 해줄 음식과 장소를 찾는다면 무조건 더가든키친인것같아요^0^...</td>\n",
              "      <td>2015/10/01\\n2017/02/13\\n2016/10/11\\n2015/12/16...</td>\n",
              "      <td>4.3\\n4.5\\n4.8\\n4.0\\n4.3\\n4.3\\n3.8\\n4.0\\n4.8\\n4.5</td>\n",
              "    </tr>\n",
              "    <tr>\n",
              "      <th>4</th>\n",
              "      <td>4</td>\n",
              "      <td>시리얼고메(Serial Gourmet)</td>\n",
              "      <td>양식</td>\n",
              "      <td>서울 강남구 신사동 541-13 2층</td>\n",
              "      <td>http://blog.naver.com/gourmet01</td>\n",
              "      <td>3.4</td>\n",
              "      <td>소개팅, 특별한 날엔, 브런치, 주차공간, 스테이크, 맥주, 와인, 칵테일, 양식 ...</td>\n",
              "      <td>11:00 ~ 22:00일 11시~21시30분 / 브레이크 타임 없음</td>\n",
              "      <td>60석</td>\n",
              "      <td>모두 금연석</td>\n",
              "      <td>Nan</td>\n",
              "      <td>10대, 주차방법: 유료, 주차장소: 발렛파킹/3,000원(2시간)</td>\n",
              "      <td>스타셰프 맛집 : 레이먼킴 쉐프 (오늘뭐먹지, 올리브쇼)시리얼고메는 유명 쉐프 레이...</td>\n",
              "      <td>맛도 그닥...서비스는 최악이더군요@@\\n친구랑 같이 브런치 먹었는데 분위기도 좋고...</td>\n",
              "      <td>2016/04/02\\n2015/12/18\\n2016/03/14\\n2015/04/08...</td>\n",
              "      <td>1.0\\n4.0\\n1.0\\n4.0\\n5.0\\n5.0\\n3.0\\n4.0\\n3.0\\n4.3</td>\n",
              "    </tr>\n",
              "  </tbody>\n",
              "</table>\n",
              "</div>"
            ],
            "text/plain": [
              "   Unnamed: 0  ...                                          rev_score\n",
              "0           0  ...   3.0\\n5.0\\n3.0\\n4.0\\n5.0\\n3.0\\n3.0\\n3.0\\n5.0\\n4.0\n",
              "1           1  ...  1.3\\n3.5\\n4.0\\n4.5\\n4.5\\n3.0\\n2.5\\n1.3\\n4.0\\n4...\n",
              "2           2  ...  4.5\\n4.0\\n5.0\\n3.0\\n4.5\\n5.0\\n3.5\\n4.0\\n5.0\\n4...\n",
              "3           3  ...   4.3\\n4.5\\n4.8\\n4.0\\n4.3\\n4.3\\n3.8\\n4.0\\n4.8\\n4.5\n",
              "4           4  ...   1.0\\n4.0\\n1.0\\n4.0\\n5.0\\n5.0\\n3.0\\n4.0\\n3.0\\n4.3\n",
              "\n",
              "[5 rows x 16 columns]"
            ]
          },
          "metadata": {
            "tags": []
          },
          "execution_count": 3
        }
      ]
    },
    {
      "cell_type": "code",
      "metadata": {
        "colab": {
          "base_uri": "https://localhost:8080/",
          "height": 204
        },
        "id": "glfkoonjtYQp",
        "outputId": "75d386f6-1805-4ddc-c1d3-fec622e68a05"
      },
      "source": [
        "data = data[['res_name', 'review']]\n",
        "data.head()"
      ],
      "execution_count": 4,
      "outputs": [
        {
          "output_type": "execute_result",
          "data": {
            "text/html": [
              "<div>\n",
              "<style scoped>\n",
              "    .dataframe tbody tr th:only-of-type {\n",
              "        vertical-align: middle;\n",
              "    }\n",
              "\n",
              "    .dataframe tbody tr th {\n",
              "        vertical-align: top;\n",
              "    }\n",
              "\n",
              "    .dataframe thead th {\n",
              "        text-align: right;\n",
              "    }\n",
              "</style>\n",
              "<table border=\"1\" class=\"dataframe\">\n",
              "  <thead>\n",
              "    <tr style=\"text-align: right;\">\n",
              "      <th></th>\n",
              "      <th>res_name</th>\n",
              "      <th>review</th>\n",
              "    </tr>\n",
              "  </thead>\n",
              "  <tbody>\n",
              "    <tr>\n",
              "      <th>0</th>\n",
              "      <td>레빠쥬(les pages)</td>\n",
              "      <td>파스타가 괜찮은 음식점@@\\n감사합니다. 추천할께요^^@@\\n관자의 쫄길함이 살아있...</td>\n",
              "    </tr>\n",
              "    <tr>\n",
              "      <th>1</th>\n",
              "      <td>듀크렘(DEUX CREMES)</td>\n",
              "      <td>직원들의 싸가지 없는 태도와 불친절을 넘어선 싸우자고 덤비는 진상직원들@@\\n타르트...</td>\n",
              "    </tr>\n",
              "    <tr>\n",
              "      <th>2</th>\n",
              "      <td>팬아시아 신사가로수길점</td>\n",
              "      <td>보기에도 한번 가보고 싶은 곳이네요 ???@@\\n동남아음식도 좋네요''''ㅎㅎ@@\\...</td>\n",
              "    </tr>\n",
              "    <tr>\n",
              "      <th>3</th>\n",
              "      <td>더가든키친(The Garden Kitchen)</td>\n",
              "      <td>기분좋은날 더 기분좋게 해줄 음식과 장소를 찾는다면 무조건 더가든키친인것같아요^0^...</td>\n",
              "    </tr>\n",
              "    <tr>\n",
              "      <th>4</th>\n",
              "      <td>시리얼고메(Serial Gourmet)</td>\n",
              "      <td>맛도 그닥...서비스는 최악이더군요@@\\n친구랑 같이 브런치 먹었는데 분위기도 좋고...</td>\n",
              "    </tr>\n",
              "  </tbody>\n",
              "</table>\n",
              "</div>"
            ],
            "text/plain": [
              "                    res_name                                             review\n",
              "0             레빠쥬(les pages)  파스타가 괜찮은 음식점@@\\n감사합니다. 추천할께요^^@@\\n관자의 쫄길함이 살아있...\n",
              "1           듀크렘(DEUX CREMES)  직원들의 싸가지 없는 태도와 불친절을 넘어선 싸우자고 덤비는 진상직원들@@\\n타르트...\n",
              "2               팬아시아 신사가로수길점  보기에도 한번 가보고 싶은 곳이네요 ???@@\\n동남아음식도 좋네요''''ㅎㅎ@@\\...\n",
              "3  더가든키친(The Garden Kitchen)  기분좋은날 더 기분좋게 해줄 음식과 장소를 찾는다면 무조건 더가든키친인것같아요^0^...\n",
              "4      시리얼고메(Serial Gourmet)  맛도 그닥...서비스는 최악이더군요@@\\n친구랑 같이 브런치 먹었는데 분위기도 좋고..."
            ]
          },
          "metadata": {
            "tags": []
          },
          "execution_count": 4
        }
      ]
    },
    {
      "cell_type": "code",
      "metadata": {
        "colab": {
          "base_uri": "https://localhost:8080/"
        },
        "id": "gZ8R1fGSxyZW",
        "outputId": "bec6f1ce-58df-4ff4-a1d7-a2afe3a85bb7"
      },
      "source": [
        "data['review']"
      ],
      "execution_count": 5,
      "outputs": [
        {
          "output_type": "execute_result",
          "data": {
            "text/plain": [
              "0       파스타가 괜찮은 음식점@@\\n감사합니다. 추천할께요^^@@\\n관자의 쫄길함이 살아있...\n",
              "1       직원들의 싸가지 없는 태도와 불친절을 넘어선 싸우자고 덤비는 진상직원들@@\\n타르트...\n",
              "2       보기에도 한번 가보고 싶은 곳이네요 ???@@\\n동남아음식도 좋네요''''ㅎㅎ@@\\...\n",
              "3       기분좋은날 더 기분좋게 해줄 음식과 장소를 찾는다면 무조건 더가든키친인것같아요^0^...\n",
              "4       맛도 그닥...서비스는 최악이더군요@@\\n친구랑 같이 브런치 먹었는데 분위기도 좋고...\n",
              "                              ...                        \n",
              "4172    소등심이 먹음직 스럽군요@@\\n감사합니다. 추천할께요^^@@\\n맛있어보입니다.......\n",
              "4173    음료수도 무한리필이고 원두커피? 그것도 무한리필이더군요 양도 많아서 성인남자들이 가...\n",
              "4174    냉모밀 진짜 여름에 짱짱이고요 사장님 특제소스랄까? 그런거 여서 진짜 맛있네요 여름...\n",
              "4175    잘보고갑니다요''''ㅎㅎ@@\\n먹기에도 맛도 좋을것 갇네요 ???@@\\n친구랑 둘이...\n",
              "4176    보기에도 양식의 진미가 보이네요 ???@@\\n분위기도 아기자기하고 카레가 느끼하지도...\n",
              "Name: review, Length: 4177, dtype: object"
            ]
          },
          "metadata": {
            "tags": []
          },
          "execution_count": 5
        }
      ]
    },
    {
      "cell_type": "code",
      "metadata": {
        "id": "zTADtN2XyTnC"
      },
      "source": [
        "k = 0\n",
        "## 정규식 : 한글, 숫자만 추출\n",
        "for i in data['review']:\n",
        "  text = re.compile('[ㄱ-ㅎ|\\d\\ㅏ-ㅣ|가-힣]+|@@').findall(i)\n",
        "  data.loc[k, 'review'] = ' '.join(text).strip()\n",
        "  k+=1"
      ],
      "execution_count": 6,
      "outputs": []
    },
    {
      "cell_type": "code",
      "metadata": {
        "colab": {
          "base_uri": "https://localhost:8080/"
        },
        "id": "GB2HnxDL1iVy",
        "outputId": "525633cc-2cb5-41bc-f035-8517a30091bf"
      },
      "source": [
        "## 리뷰없는 식당 삭제\n",
        "print(len(data))\n",
        "drop_index = data[data['review'] == ''].index\n",
        "data.drop(drop_index, inplace=True)\n",
        "print(len(data))"
      ],
      "execution_count": 7,
      "outputs": [
        {
          "output_type": "stream",
          "text": [
            "4177\n",
            "4120\n"
          ],
          "name": "stdout"
        }
      ]
    },
    {
      "cell_type": "code",
      "metadata": {
        "colab": {
          "base_uri": "https://localhost:8080/"
        },
        "id": "Hbs8AoxfnqPL",
        "outputId": "48db8232-2713-4466-87b3-bfbd80365b40"
      },
      "source": [
        "len(data)"
      ],
      "execution_count": 8,
      "outputs": [
        {
          "output_type": "execute_result",
          "data": {
            "text/plain": [
              "4120"
            ]
          },
          "metadata": {
            "tags": []
          },
          "execution_count": 8
        }
      ]
    },
    {
      "cell_type": "code",
      "metadata": {
        "id": "iBZfGBeZirGR"
      },
      "source": [
        "# for word, r in sorted(keywords.items(), key=lambda x:x[1], reverse=True):\n",
        "#     print('%8s:\\t%.4f' % (word, r))"
      ],
      "execution_count": 9,
      "outputs": []
    },
    {
      "cell_type": "code",
      "metadata": {
        "id": "bO31QwV0ThrE"
      },
      "source": [
        "# data.drop(['rev'], axis=1, inplace=True)"
      ],
      "execution_count": 10,
      "outputs": []
    },
    {
      "cell_type": "code",
      "metadata": {
        "colab": {
          "base_uri": "https://localhost:8080/",
          "height": 204
        },
        "id": "VEbeEB6_TOfM",
        "outputId": "e5747390-8d02-44dc-9ea8-f7d4966c0195"
      },
      "source": [
        "data['rev_list'] = 'a'\n",
        "data.head()"
      ],
      "execution_count": 11,
      "outputs": [
        {
          "output_type": "execute_result",
          "data": {
            "text/html": [
              "<div>\n",
              "<style scoped>\n",
              "    .dataframe tbody tr th:only-of-type {\n",
              "        vertical-align: middle;\n",
              "    }\n",
              "\n",
              "    .dataframe tbody tr th {\n",
              "        vertical-align: top;\n",
              "    }\n",
              "\n",
              "    .dataframe thead th {\n",
              "        text-align: right;\n",
              "    }\n",
              "</style>\n",
              "<table border=\"1\" class=\"dataframe\">\n",
              "  <thead>\n",
              "    <tr style=\"text-align: right;\">\n",
              "      <th></th>\n",
              "      <th>res_name</th>\n",
              "      <th>review</th>\n",
              "      <th>rev_list</th>\n",
              "    </tr>\n",
              "  </thead>\n",
              "  <tbody>\n",
              "    <tr>\n",
              "      <th>0</th>\n",
              "      <td>레빠쥬(les pages)</td>\n",
              "      <td>파스타가 괜찮은 음식점 @@ 감사합니다 추천할께요 @@ 관자의 쫄길함이 살아있다 @...</td>\n",
              "      <td>a</td>\n",
              "    </tr>\n",
              "    <tr>\n",
              "      <th>1</th>\n",
              "      <td>듀크렘(DEUX CREMES)</td>\n",
              "      <td>직원들의 싸가지 없는 태도와 불친절을 넘어선 싸우자고 덤비는 진상직원들 @@ 타르트...</td>\n",
              "      <td>a</td>\n",
              "    </tr>\n",
              "    <tr>\n",
              "      <th>2</th>\n",
              "      <td>팬아시아 신사가로수길점</td>\n",
              "      <td>보기에도 한번 가보고 싶은 곳이네요 @@ 동남아음식도 좋네요 ㅎㅎ @@ 동남아음식에...</td>\n",
              "      <td>a</td>\n",
              "    </tr>\n",
              "    <tr>\n",
              "      <th>3</th>\n",
              "      <td>더가든키친(The Garden Kitchen)</td>\n",
              "      <td>기분좋은날 더 기분좋게 해줄 음식과 장소를 찾는다면 무조건 더가든키친인것같아요 0 ...</td>\n",
              "      <td>a</td>\n",
              "    </tr>\n",
              "    <tr>\n",
              "      <th>4</th>\n",
              "      <td>시리얼고메(Serial Gourmet)</td>\n",
              "      <td>맛도 그닥 서비스는 최악이더군요 @@ 친구랑 같이 브런치 먹었는데 분위기도 좋고 맛...</td>\n",
              "      <td>a</td>\n",
              "    </tr>\n",
              "  </tbody>\n",
              "</table>\n",
              "</div>"
            ],
            "text/plain": [
              "                    res_name  ... rev_list\n",
              "0             레빠쥬(les pages)  ...        a\n",
              "1           듀크렘(DEUX CREMES)  ...        a\n",
              "2               팬아시아 신사가로수길점  ...        a\n",
              "3  더가든키친(The Garden Kitchen)  ...        a\n",
              "4      시리얼고메(Serial Gourmet)  ...        a\n",
              "\n",
              "[5 rows x 3 columns]"
            ]
          },
          "metadata": {
            "tags": []
          },
          "execution_count": 11
        }
      ]
    },
    {
      "cell_type": "code",
      "metadata": {
        "id": "0GA_82VhsWrW"
      },
      "source": [
        "data_index = data.index"
      ],
      "execution_count": 12,
      "outputs": []
    },
    {
      "cell_type": "code",
      "metadata": {
        "id": "zpiXIKdZR7Rw"
      },
      "source": [
        "## 가게별 review 데이터 @@로 split해서 list로 변경\n",
        "for rev in data_index: \n",
        "  data.loc[rev,'rev_list'] = data.loc[rev,'review'].split('@@')\n",
        "  "
      ],
      "execution_count": 13,
      "outputs": []
    },
    {
      "cell_type": "code",
      "metadata": {
        "colab": {
          "base_uri": "https://localhost:8080/"
        },
        "id": "BAAQtHxuS8kr",
        "outputId": "3d815bc8-91e9-44ba-c054-21bf543d09d6"
      },
      "source": [
        "data['rev_list'][-10:]"
      ],
      "execution_count": 14,
      "outputs": [
        {
          "output_type": "execute_result",
          "data": {
            "text/plain": [
              "4167    [내부가 좀 좁긴하지만 간단히 브런치즐기기에 딱 진짜 브런치메뉴들도 너무 맛있게 잘...\n",
              "4168    [좋은 분위기에 한잔술이 절로 ,  친구들끼리 한잔 하고 싶을 때 가는 곳이에요 ㅋ...\n",
              "4169    [진짜 진짜 죄송하지만 닭도리탕 맛있다고 해서 입소문듣고 갔는데요 정말 닭이랑 국물...\n",
              "4170    [수요미식회 보고 갔었어요 제가 먹어본 제육볶음중에 짱 게다가 가격도 정말 착해요 ...\n",
              "4171    [아ㅜㅜㅜㅜㅜ마카롱은 언제까지보관해놓는거에요ㅜㅜㅜ 먹었는데 너무딱딱하고 마카롱안에 ...\n",
              "4172    [소등심이 먹음직 스럽군요 ,  감사합니다 추천할께요 ,  맛있어보입니다 ,  고기...\n",
              "4173    [음료수도 무한리필이고 원두커피 그것도 무한리필이더군요 양도 많아서 성인남자들이 가...\n",
              "4174    [냉모밀 진짜 여름에 짱짱이고요 사장님 특제소스랄까 그런거 여서 진짜 맛있네요 여름...\n",
              "4175    [잘보고갑니다요 ㅎㅎ ,  먹기에도 맛도 좋을것 갇네요 ,  친구랑 둘이 가서 진짜...\n",
              "4176    [보기에도 양식의 진미가 보이네요 ,  분위기도 아기자기하고 카레가 느끼하지도 않고...\n",
              "Name: rev_list, dtype: object"
            ]
          },
          "metadata": {
            "tags": []
          },
          "execution_count": 14
        }
      ]
    },
    {
      "cell_type": "code",
      "metadata": {
        "colab": {
          "base_uri": "https://localhost:8080/",
          "height": 204
        },
        "id": "9qmxMVRw5nYM",
        "outputId": "a991b5fe-a846-4e13-a3d6-324cc0eb0eba"
      },
      "source": [
        "## review 특수문자 제거\n",
        "data['review'] = data['review'].str.replace(pat=r'@@', repl=r' ', regex=True)\n",
        "data.head()"
      ],
      "execution_count": 15,
      "outputs": [
        {
          "output_type": "execute_result",
          "data": {
            "text/html": [
              "<div>\n",
              "<style scoped>\n",
              "    .dataframe tbody tr th:only-of-type {\n",
              "        vertical-align: middle;\n",
              "    }\n",
              "\n",
              "    .dataframe tbody tr th {\n",
              "        vertical-align: top;\n",
              "    }\n",
              "\n",
              "    .dataframe thead th {\n",
              "        text-align: right;\n",
              "    }\n",
              "</style>\n",
              "<table border=\"1\" class=\"dataframe\">\n",
              "  <thead>\n",
              "    <tr style=\"text-align: right;\">\n",
              "      <th></th>\n",
              "      <th>res_name</th>\n",
              "      <th>review</th>\n",
              "      <th>rev_list</th>\n",
              "    </tr>\n",
              "  </thead>\n",
              "  <tbody>\n",
              "    <tr>\n",
              "      <th>0</th>\n",
              "      <td>레빠쥬(les pages)</td>\n",
              "      <td>파스타가 괜찮은 음식점   감사합니다 추천할께요   관자의 쫄길함이 살아있다   이...</td>\n",
              "      <td>[파스타가 괜찮은 음식점 ,  감사합니다 추천할께요 ,  관자의 쫄길함이 살아있다 ...</td>\n",
              "    </tr>\n",
              "    <tr>\n",
              "      <th>1</th>\n",
              "      <td>듀크렘(DEUX CREMES)</td>\n",
              "      <td>직원들의 싸가지 없는 태도와 불친절을 넘어선 싸우자고 덤비는 진상직원들   타르트가...</td>\n",
              "      <td>[직원들의 싸가지 없는 태도와 불친절을 넘어선 싸우자고 덤비는 진상직원들 ,  타르...</td>\n",
              "    </tr>\n",
              "    <tr>\n",
              "      <th>2</th>\n",
              "      <td>팬아시아 신사가로수길점</td>\n",
              "      <td>보기에도 한번 가보고 싶은 곳이네요   동남아음식도 좋네요 ㅎㅎ   동남아음식에 대...</td>\n",
              "      <td>[보기에도 한번 가보고 싶은 곳이네요 ,  동남아음식도 좋네요 ㅎㅎ ,  동남아음식...</td>\n",
              "    </tr>\n",
              "    <tr>\n",
              "      <th>3</th>\n",
              "      <td>더가든키친(The Garden Kitchen)</td>\n",
              "      <td>기분좋은날 더 기분좋게 해줄 음식과 장소를 찾는다면 무조건 더가든키친인것같아요 0 ...</td>\n",
              "      <td>[기분좋은날 더 기분좋게 해줄 음식과 장소를 찾는다면 무조건 더가든키친인것같아요 0...</td>\n",
              "    </tr>\n",
              "    <tr>\n",
              "      <th>4</th>\n",
              "      <td>시리얼고메(Serial Gourmet)</td>\n",
              "      <td>맛도 그닥 서비스는 최악이더군요   친구랑 같이 브런치 먹었는데 분위기도 좋고 맛있...</td>\n",
              "      <td>[맛도 그닥 서비스는 최악이더군요 ,  친구랑 같이 브런치 먹었는데 분위기도 좋고 ...</td>\n",
              "    </tr>\n",
              "  </tbody>\n",
              "</table>\n",
              "</div>"
            ],
            "text/plain": [
              "                    res_name  ...                                           rev_list\n",
              "0             레빠쥬(les pages)  ...  [파스타가 괜찮은 음식점 ,  감사합니다 추천할께요 ,  관자의 쫄길함이 살아있다 ...\n",
              "1           듀크렘(DEUX CREMES)  ...  [직원들의 싸가지 없는 태도와 불친절을 넘어선 싸우자고 덤비는 진상직원들 ,  타르...\n",
              "2               팬아시아 신사가로수길점  ...  [보기에도 한번 가보고 싶은 곳이네요 ,  동남아음식도 좋네요 ㅎㅎ ,  동남아음식...\n",
              "3  더가든키친(The Garden Kitchen)  ...  [기분좋은날 더 기분좋게 해줄 음식과 장소를 찾는다면 무조건 더가든키친인것같아요 0...\n",
              "4      시리얼고메(Serial Gourmet)  ...  [맛도 그닥 서비스는 최악이더군요 ,  친구랑 같이 브런치 먹었는데 분위기도 좋고 ...\n",
              "\n",
              "[5 rows x 3 columns]"
            ]
          },
          "metadata": {
            "tags": []
          },
          "execution_count": 15
        }
      ]
    },
    {
      "cell_type": "code",
      "metadata": {
        "colab": {
          "base_uri": "https://localhost:8080/"
        },
        "id": "YIOAC0v45Mn0",
        "outputId": "335af7e7-f1d6-4e77-fc6a-303b7d5abd7d"
      },
      "source": [
        "data['review']"
      ],
      "execution_count": 16,
      "outputs": [
        {
          "output_type": "execute_result",
          "data": {
            "text/plain": [
              "0       파스타가 괜찮은 음식점   감사합니다 추천할께요   관자의 쫄길함이 살아있다   이...\n",
              "1       직원들의 싸가지 없는 태도와 불친절을 넘어선 싸우자고 덤비는 진상직원들   타르트가...\n",
              "2       보기에도 한번 가보고 싶은 곳이네요   동남아음식도 좋네요 ㅎㅎ   동남아음식에 대...\n",
              "3       기분좋은날 더 기분좋게 해줄 음식과 장소를 찾는다면 무조건 더가든키친인것같아요 0 ...\n",
              "4       맛도 그닥 서비스는 최악이더군요   친구랑 같이 브런치 먹었는데 분위기도 좋고 맛있...\n",
              "                              ...                        \n",
              "4172    소등심이 먹음직 스럽군요   감사합니다 추천할께요   맛있어보입니다   고기가 정밀...\n",
              "4173    음료수도 무한리필이고 원두커피 그것도 무한리필이더군요 양도 많아서 성인남자들이 가서...\n",
              "4174    냉모밀 진짜 여름에 짱짱이고요 사장님 특제소스랄까 그런거 여서 진짜 맛있네요 여름마...\n",
              "4175    잘보고갑니다요 ㅎㅎ   먹기에도 맛도 좋을것 갇네요   친구랑 둘이 가서 진짜 완전...\n",
              "4176    보기에도 양식의 진미가 보이네요   분위기도 아기자기하고 카레가 느끼하지도 않고 정...\n",
              "Name: review, Length: 4120, dtype: object"
            ]
          },
          "metadata": {
            "tags": []
          },
          "execution_count": 16
        }
      ]
    },
    {
      "cell_type": "code",
      "metadata": {
        "id": "lyu0qPfthpxn"
      },
      "source": [
        "from krwordrank.sentence import summarize_with_sentences\n",
        "\n",
        "keywords= []\n",
        "sents = []\n",
        "not_key = []\n",
        "\n",
        "penalty = lambda x:0 if (25 <= len(x) <= 80) else 1\n",
        "stopwords = {'ㅎㅎ', 'ㅋㅋ', '맛있', '음식', '좋아요', '진짜', 'ㅠ', '여기', '너무', '정말', '감사'} ## 제외 단어\n",
        "\n",
        "# summarize_with_sentences(data['review'], penalty= None, min_count=5, max_length=10, stopwords = stopwords, diversity=0.4, num_keywords=1, num_keysents=1, scaling=lambda x:1, verbose=False )\n",
        "\n",
        "\n"
      ],
      "execution_count": 17,
      "outputs": []
    },
    {
      "cell_type": "code",
      "metadata": {
        "id": "hK3aIs1C4_8P"
      },
      "source": [
        "def summarize(rev_list):\n",
        "  return summarize_with_sentences(rev_list, penalty=penalty, min_count=2, max_length=10, stopwords = stopwords, diversity=0.3, num_keywords=3, num_keysents=1, scaling=lambda x:1, verbose=False)\n",
        "\n",
        "\n",
        "\n",
        "## 가게별로 keyword, key_sentence 하나씩 뽑아서 리스트에 넣기\n",
        "## 리뷰가 작은 가게는 추출이 안되는 문제가 있음\n",
        "for i in range(len(data['rev_list'])):\n",
        "  try:\n",
        "    key, sentence = summarize(pd.Series(data['rev_list'][i]))\n",
        "    keywords.append(key)\n",
        "    sents.append(sentence)\n",
        "    # for j in key:\n",
        "    #   print(key)\n",
        "  ## 추출 안되는 가게 인덱스 저장\n",
        "  except:\n",
        "    not_key.append(i)\n"
      ],
      "execution_count": 18,
      "outputs": []
    },
    {
      "cell_type": "code",
      "metadata": {
        "colab": {
          "base_uri": "https://localhost:8080/"
        },
        "id": "DFHuE4dn-kIz",
        "outputId": "63205c42-8577-44df-b828-11ee034726e0"
      },
      "source": [
        "len(not_key)"
      ],
      "execution_count": 19,
      "outputs": [
        {
          "output_type": "execute_result",
          "data": {
            "text/plain": [
              "3052"
            ]
          },
          "metadata": {
            "tags": []
          },
          "execution_count": 19
        }
      ]
    },
    {
      "cell_type": "code",
      "metadata": {
        "colab": {
          "base_uri": "https://localhost:8080/"
        },
        "id": "awKP_c0CcVWT",
        "outputId": "855fe176-159d-4a14-9126-a9c287902c6a"
      },
      "source": [
        "## 리뷰를 가지고있는 가게 개수\n",
        "len(data['rev_list'])"
      ],
      "execution_count": 20,
      "outputs": [
        {
          "output_type": "execute_result",
          "data": {
            "text/plain": [
              "4120"
            ]
          },
          "metadata": {
            "tags": []
          },
          "execution_count": 20
        }
      ]
    },
    {
      "cell_type": "code",
      "metadata": {
        "colab": {
          "base_uri": "https://localhost:8080/"
        },
        "id": "YwLIqMXQZ86c",
        "outputId": "65fd2c44-61c0-4274-cda9-de714ffe6474"
      },
      "source": [
        "## 리뷰에서 키워드 추출이 가능한 가게 개수\n",
        "ok = []\n",
        "for i in range(len(data['rev_list'])):\n",
        "  if i not in not_key:\n",
        "    ok.append(i)\n",
        "\n",
        "len(ok) "
      ],
      "execution_count": 21,
      "outputs": [
        {
          "output_type": "execute_result",
          "data": {
            "text/plain": [
              "1068"
            ]
          },
          "metadata": {
            "tags": []
          },
          "execution_count": 21
        }
      ]
    },
    {
      "cell_type": "code",
      "metadata": {
        "colab": {
          "base_uri": "https://localhost:8080/"
        },
        "id": "6CWizurI7tEv",
        "outputId": "11715438-1720-424b-e557-66d85f6769d2"
      },
      "source": [
        "for i in keywords[:5]:\n",
        "  print(i)"
      ],
      "execution_count": 22,
      "outputs": [
        {
          "output_type": "stream",
          "text": [
            "{'타르트': 5.047375402433487, '청포도': 1.3004424370822867, '먹었': 1.0186900347620411}\n",
            "{'팟타이': 2.7506362812645735, '완전': 2.443332798998929, '좋아': 1.7482643092999286}\n",
            "{'호텔': 1.0}\n",
            "{'쿠키': 5.319318364354846, '완전': 2.287904112582562, '아이스크림': 2.1858829166803284}\n",
            "{'케익': 1.800411612961375, '좋아': 1.5835316023291073, '마카롱': 1.2437172762025615}\n"
          ],
          "name": "stdout"
        }
      ]
    },
    {
      "cell_type": "code",
      "metadata": {
        "id": "v7ffly7YmpNt",
        "colab": {
          "base_uri": "https://localhost:8080/"
        },
        "outputId": "0c54961d-a78b-4ba0-9f4b-f20bed830ea6"
      },
      "source": [
        "## 가게명 + 키워드 + 메인리뷰 추출\n",
        "\n",
        "for i in range(len(ok[:100])):\n",
        "  print('가게명 :', data.loc[ok[i],'res_name'],'키워드 :', keywords[i].keys(),'메인리뷰 :', sents[i])"
      ],
      "execution_count": 24,
      "outputs": [
        {
          "output_type": "stream",
          "text": [
            "가게명 : 듀크렘(DEUX CREMES) 키워드 : dict_keys(['타르트', '청포도', '먹었']) 메인리뷰 : [' 타르트 진짜 예뻐서 깜놀 청포도 특히 어쩜 이렇게 예쁜지 선물하기 딱 좋아요 근데 좀 가격이 쎈편 ㅋㅋ 그래도 맛있으니 ㅋㅋ ']\n",
            "가게명 : 팬아시아 신사가로수길점 키워드 : dict_keys(['팟타이', '완전', '좋아']) 메인리뷰 : [' 시리얼 쉬림프에 반함 새우도 좋아하고 시리얼도 좋아해서 그런가 완전 맘에 들었음 ㅋㅋㅋ 한번도 먹어보지 못한 맛임 ']\n",
            "가게명 : 더가든키친(The Garden Kitchen) 키워드 : dict_keys(['호텔']) 메인리뷰 : [' 뷔페 음식이어도 호텔이라 그런지 고급스럽고 막 요리한 것 같고 넘나 좋네요 ㅎㅎㅎ ']\n",
            "가게명 : 벤스쿠키(Ben's Cookie) 신사점 키워드 : dict_keys(['쿠키', '완전', '아이스크림']) 메인리뷰 : [' 아이가 좋아해요 둘이 가서 쿠키랑 아이스크림 세트 놓고 저는 아이스크림 먹고 아이는 쿠키에 집중 재료가 좋아서 아이가 먹어도 마음이 놓여요 ']\n",
            "가게명 : 듀자미(Deux Amis) 키워드 : dict_keys(['케익', '좋아', '마카롱']) 메인리뷰 : [' 카라멜 소금 케익 정말 맛이 오묘한듯 달달하면서도 짭쪼름하면서도 맛있음 여친이 왜 좋아하는지 알겠더라 ']\n",
            "가게명 : 르브런쉭(Le Brunchic) 키워드 : dict_keys(['분위기', '브런']) 메인리뷰 : [' 탁 트인 분위기가 좋았슴 그거 말고는 프렌치 토스트는 양이 너무 적어서 아쉬웠음 ']\n",
            "가게명 : 반장즉석떡볶이 키워드 : dict_keys(['떡볶이', '옛날', '분위기']) 메인리뷰 : [' 떡볶이 옛날 분위기 나는 곳이에요 ㅎㅎㅎ 정말 옛날 분식집 처럼 분위기가 추억을 떠올리게 했어요 ㅎㅎㅎㅎ ']\n",
            "가게명 : 소공동뚝배기 압구정본점 키워드 : dict_keys(['오삼직화', '점심', '가격']) 메인리뷰 : ['순두부찌개 얼큰하고 맛있어요 점심 여기서 자주 먹는데 넘 든든하고 좋아요 저렴한 가격으로 배부른 식사 할수 있는곳 ']\n",
            "가게명 : 개화옥 가로수길점 키워드 : dict_keys(['불고']) 메인리뷰 : [' 가격대비 맛은 기대하지 마세요 메뉴 설명도 한우 불고기 부위로 한 불고기 불고기 부위가 어디인지 알고 작성한 것인지 ']\n",
            "가게명 : 퍼블릭하우스 키워드 : dict_keys(['분위기', '콥샐러드', '사람']) 메인리뷰 : [' 딱 평점정도의 가게였어요 서비스도 나쁘지 않았구요 분위기는 좋은데 사람이 많아서 좀 시끄럽고 음식은 괜찮은데 살짝 비싸고 ']\n",
            "가게명 : 굿나잇앤굿럭(good night&good luck) 키워드 : dict_keys(['치즈']) 메인리뷰 : ['치즈케이크와 아메리카노의 조합이 아주 짱짱 치즈케이크 진짜 맛있어요ㅜㅜ 비쥬얼만 좋은줄알았더니 ']\n",
            "가게명 : 머시쥬스(mercy juice) 키워드 : dict_keys(['맛은', '가격', '비싸']) 메인리뷰 : [' 그냥 집에서 만들어 먹는게 나을거 같은뎅 가격이 넘 비싸서 큰 사이즈는 거의 팔천원 헐 ']\n",
            "가게명 : 얌타이 키워드 : dict_keys(['쌀국수']) 메인리뷰 : ['사장님인지 남자직원 불친절 푸팟은 가격대비 게도 흐물흐물 별로임 쌀국수는 맛있어요 ']\n",
            "가게명 : 김북순큰남비집 본점 키워드 : dict_keys(['김치찌개', 'ㅋㅋㅋ', '추천']) 메인리뷰 : ['그근방이라면 먹을 만한 김치찌개집마포에 있는 굴다리가 ']\n",
            "가게명 : 쮸즈 키워드 : dict_keys(['소룡포']) 메인리뷰 : [' 대박맛집 소룡포 먹고 눈물흘릴뻔 ㅠ완전 맛있쟈나 소룡포 꾹 찌르면 나오는 육즙도 감동 ']\n",
            "가게명 : 오리지널팬케이크하우스 키워드 : dict_keys(['팬케이크']) 메인리뷰 : ['팬케이크 되게 양 많으면서 재료도 신선하고 잘굽는거 같아요 분위기도 괜찮더라구요 ']\n",
            "가게명 : 지유가오카핫초메 키워드 : dict_keys(['케이크', 'ㅜㅜ', '커피']) 메인리뷰 : [' 수제케이크라 맛있는데 커피는 맛있는지 잘 모르겠음 ㅎㅎ ']\n",
            "가게명 : 빌라드스파이시(Villa de spicy) 키워드 : dict_keys(['떡볶이', '치즈', 'ㅋㅋㅋ']) 메인리뷰 : [' 팁 치즈사리를 추가해서 1 2은 떡볶이에 넣어먹고 나머지 1 2은 볶음밥에 넣어 치즈볶음밥으로 먹는다 ']\n",
            "가게명 : 어퍼웨스트(UPPER WEST) 키워드 : dict_keys(['좋고', '분위기']) 메인리뷰 : ['매장 분위기가 일단 너무 좋고 음식들 맛도 너무 좋고 플레이팅도 이쁘게 잘해서 주시니까 너무 좋네요 ㅎㅎ ']\n",
            "가게명 : 르타오(LeTao) 키워드 : dict_keys(['맛있어']) 메인리뷰 : [' 더블프로마쥬 맛있어요 입에서 살살 녹고 치즈향도 너무 좋고 아메리카노랑 먹으면 딱이예요 ']\n",
            "가게명 : 부자피자(PIZZERIA D'BUZZA) 신사점 키워드 : dict_keys(['피자']) 메인리뷰 : ['피자를 먹었다기 보다 신선한 샐러드를 먹은 느낌이에요 그만큼 토핑이 신선하고 맛있었어요 ']\n",
            "가게명 : 리틀사이공 가로수길점 키워드 : dict_keys(['쌀국수', '친구', '괜찮']) 메인리뷰 : [' 하도 맛나다고 해서 호기심에 들려봤어요 외관도 깔끔한 편이고요 멋지드라구용 쌀국수 먹어봤는데 괜찮던데요 ㅋㅋ ']\n",
            "가게명 : 커피스미스 가로수길점 키워드 : dict_keys(['커피', '좋아', '사람']) 메인리뷰 : [' 테라스에사 사람구경하며 커피마시기에 이만한데가없죠 ㅋㅋㅋ커피맛도 좋아요 ']\n",
            "가게명 : 지아니스나폴리 가로수길점 키워드 : dict_keys(['피자']) 메인리뷰 : ['담백한 피자를 좋아하는 편이라 엄청 맛있게 먹었어용 남친이랑 같이 갔는데 둘 다 배부르게 먹었네요 ㅎㅎㅎ ']\n",
            "가게명 : 에이스피자(ACE PIZZA) 키워드 : dict_keys(['피자']) 메인리뷰 : [' 피자 시키면 재료를 직접 고를 수 있어요 색다른 피자집이라 강추ㅎㅎㅎㅎ그리구 직접 고른 재료라 더 맛있는듓ㅎㅅㅎ ']\n",
            "가게명 : 구스테이크(GOO STK 528) 키워드 : dict_keys(['스테이크']) 메인리뷰 : ['오랜만에 여자친구랑 맛있는 스테이크 먹었네요 특히 그레이비 소스가 좋았어요 먹기 힘든데 맛있게 먹었네요 ']\n",
            "가게명 : 르알래스카 가로수길점 키워드 : dict_keys(['빵들', '빵집', '많아']) 메인리뷰 : [' 다른 빵집에서 찾기 힘든 독특한 빵들이 정말 많아요 여기서만 맛볼 수 있는 빵 ']\n",
            "가게명 : 8b DOLCE 키워드 : dict_keys(['맛있어']) 메인리뷰 : [' 롤케이크 먹기 아까울 정도로 예쁜데 부드럽고 진짜 맛있어요 음료도 다 맛있어서 좋아요 ']\n",
            "가게명 : 월향(Moonshine) 신사점 키워드 : dict_keys(['분위기']) 메인리뷰 : ['분위기 정말 좋습니다 나중에 남자친구생기면 꼭 한번 같이 오고싶어요 ']\n",
            "가게명 : 한잔의추억 키워드 : dict_keys(['고추튀김', '치킨']) 메인리뷰 : [' 치킨이랑 떡볶이만 먹다가 고추튀김 먹어봤는데 신세경 고추튀김 먹으러 조만간 또갈듯 ']\n",
            "가게명 : 샤브쌈주머니 신사점 키워드 : dict_keys(['좋아']) 메인리뷰 : ['소고기 샤브샤브인데 너무 저렴해서 좋아요 저희 아이도 잘 먹더라구요 고기가 부드러워서 좋아요 ']\n",
            "가게명 : 루다파파스(Luda Papa's) 키워드 : dict_keys(['분위기', '괜찮', '추천']) 메인리뷰 : [' 봄에 저 테라스에 앉아서 먹었었는데ㅎㅎ 저녁에 나름 분위기 괜찮아요 날씨도 선선해지는데 다시 밖에 앉을 수 있겠네요ㅎㅎ ']\n",
            "가게명 : 제주사돈 키워드 : dict_keys(['고기']) 메인리뷰 : ['가격이 저렴해서 정말 좋았어요 가격에 비해 고기도 맛있고 멜젓도 맛있었습니다 굳 ']\n",
            "가게명 : 우가네매찌닭 키워드 : dict_keys(['매운']) 메인리뷰 : ['매운 돼지 갈비찜 엄청 맵지도 않고 맛있게 매워서 너무 좋았네요 ㅋㅋㅋ 스트레스가 확 풀리는거같아요 ㅋㅋ ']\n",
            "가게명 : 킹콩스테이크(KING KONG STEAK) 키워드 : dict_keys(['가격']) 메인리뷰 : ['파스타 종류는 그럭저럭 괜찮아요 스테이크 류는 가격대비 추천을 하고 싶지는 않네요 ']\n",
            "가게명 : 만족오향족발 신사점 키워드 : dict_keys(['3대', '족발']) 메인리뷰 : ['3대족발 오향족발 정말 맛있어요 족발에서 이런맛이정말 짱짱 입니다 ']\n",
            "가게명 : 슈메이야키토리 키워드 : dict_keys(['맛있어']) 메인리뷰 : [' 꼬치세트 진짜 맛있어요ㅜㅜ 종류별로 다 맛있어 진짜 사케생각날때 자주 들릴것같아요 ']\n",
            "가게명 : 송이족발 신사직영점 키워드 : dict_keys(['매운']) 메인리뷰 : [' 매운족발에 알주먹밥 같이 먹으면 최고 매운족발이 매운데 진짜 맛있게 매워서 자꾸 먹게되요 ']\n",
            "가게명 : 조개섬 신사직영점 키워드 : dict_keys(['좋아']) 메인리뷰 : [' 얼큰조개전골 좋아요 진짜 조개도 푸짐하게 들어가있고 국물맛도 너무 좋아요 술한잔하기에 딱 좋아요 ']\n",
            "가게명 : 재클린파이카페 키워드 : dict_keys(['적립금', '추천']) 메인리뷰 : [' 사이트는 적립금 먹고 먹튀했던데 오프라인 매장은 정상 운영중인가요 ']\n",
            "가게명 : 살롱드몽슈슈 가로수점 키워드 : dict_keys(['가는', '다른', '많아서']) 메인리뷰 : [' 친구들이 여길 좋아해서 단거 먹고싶을 때 한번씩 가는 편임 근데 확실히 다른데랑 비교하면 맛도 있고 최고인듯 ']\n",
            "가게명 : 송탄부대찌개 키워드 : dict_keys(['부대찌개']) 메인리뷰 : [' 송탄부대찌개 맛있어요 고기도 많이 들어가 있고 국물이 깔끔해서 자주 먹게되네요 ㅎ 부대찌개 생각 날때마다 송탄부대찌개 생각날 것 같아요 ']\n",
            "가게명 : 은행골 논현점 키워드 : dict_keys(['초밥']) 메인리뷰 : ['일단 싱싱하네요 ㅎㅎ 모듬초밥이 이렇게 맛있을줄이야 1 ']\n",
            "가게명 : 18 Steps 키워드 : dict_keys(['분위기', '안주', '와인']) 메인리뷰 : [' 편안한 분위기에 색다른 안주와 와인을 마실 수 있어 너무 좋아요 ']\n",
            "가게명 : 바토스 신사점 키워드 : dict_keys(['좋아']) 메인리뷰 : [' 또띠아 맛있어요 여자친구가 여기 또띠아 진짜 좋아해요 ㅋㅋㅋㅋ ']\n",
            "가게명 : 테이블스타(Table Star) 키워드 : dict_keys(['분위기', '가격', '맛은']) 메인리뷰 : [' 가격에 비해 맛은 아주 쪼금 부족한 느낌 맛은 개인적인 차이일 뿐이니까요 대체적으로 굉장히 좋앗습니다 ']\n",
            "가게명 : 오미식당(五味食堂) 키워드 : dict_keys(['소고기', '덮밥']) 메인리뷰 : [' 소고기 덮밥 잘 먹었어요 밥이랑 먹으니까 딱 알맞고 좋네요 자주 이용할듯싶어요 ']\n",
            "가게명 : 완소 키워드 : dict_keys(['예약']) 메인리뷰 : ['플래이팅이 너무 이쁘고 분위기도 좋아요 쫌 색다른 분위기 양도 많고 예약제라 그런가 더 잘나오는듯 ']\n",
            "가게명 : 더베리와플(THE VERY WAFFLE) 키워드 : dict_keys(['와플']) 메인리뷰 : [' 정말 맛있고 재료도 많이 들어간 와플이네요 ㅎ 아이스크림들도 너무 맛있어요 무엇보다 맘에 드는건 가격 최고입니다 ㅋ ']\n",
            "가게명 : 우리집만두 신사직영점 키워드 : dict_keys(['만두']) 메인리뷰 : [' 요즘처럼 추운날에 만두국먹으니까 너무 좋더라고요 ㅎㅎ 정말 맛있어요 만두도 크고 실해서 좋네요 ']\n",
            "가게명 : 오뗄두스(Hotel Douce) 키워드 : dict_keys(['아이스크림', '먹었는데', '다른']) 메인리뷰 : [' 지나가다 가게가 독특하면서 예쁘길래 아이스크림 하나 사먹었는데 맛있더라구요 독특하니 ']\n",
            "가게명 : 다온초밥 키워드 : dict_keys(['주차']) 메인리뷰 : ['언니랑 점심먹으러 갔다왔어용 저는 런치초밥 언니는 회덮밥 시켜서 나눠먹음ㅋㅋ 깔끔하고 맛있었습니다 ']\n",
            "가게명 : 리북집 신사점 키워드 : dict_keys(['족발']) 메인리뷰 : ['여기 족발 완전 야들야들하고 쫀득쫀득함 족발 별로 안 좋아하는 남친도 아무 말 안하고 먹었어요 ㅋㅋㅋ ']\n",
            "가게명 : 우리동네미미네 신사점 키워드 : dict_keys(['튀김']) 메인리뷰 : [' 미미네 튀김은 진짜 언제먹어도 맛있어요ㅠㅠ 국떡이랑 같이시켜서 국물에 찍어먹으면 진짜 끝 ']\n",
            "가게명 : 피어세븐틴(Pier17) 키워드 : dict_keys(['보일드', '씨푸드', 'ㅋㅋㅋ']) 메인리뷰 : [' 항상 저녁이나 주말에 가서 몰랐는데 평일 일찍 가니까 사람 없고 좋던데용 ㅋㅋㅋㅋㅋ 역시 보일드 씨푸드가 짱 ']\n",
            "가게명 : 도쿄팡야 가로수길점 키워드 : dict_keys(['빵이', '메론', '가격']) 메인리뷰 : [' 메론빵이 맛있다고 해서 갔다가 너무 맛없어서 어이없었네요ㅠㅠ 메론 소다도 시럽맛만 났구요 ']\n",
            "가게명 : 에이미초코(AMY CHOCO) 가로수길점 키워드 : dict_keys(['좋아']) 메인리뷰 : [' 여기 진짜 엄청 진해요 좀 달아서 머리가 아플지경인데 단거 좋아하시면 여기 좋을듯ㅎㅅㅎㅅㅎ ']\n",
            "가게명 : 뜨라또리아(Trattoria) 키워드 : dict_keys(['파스타', '가게', '완전']) 메인리뷰 : ['말이필요없음 완전 중독성있는맛 특히 엔초비파스타랑 애플어니언피자 완전 대박짱짱짱ㅠㅠ ']\n",
            "가게명 : 부산집 키워드 : dict_keys(['아구찜']) 메인리뷰 : [' 여기 아구찜 맛 환상임 동네 시세에 비해 저렴하기도 하고 맘에 듬 ']\n",
            "가게명 : 목포집 키워드 : dict_keys(['기분']) 메인리뷰 : [' 잘 된다고 너무 불친절하네요 기분 나빠서 나왔습니다 ']\n",
            "가게명 : 가로수길생칼국수 키워드 : dict_keys(['칼국수']) 메인리뷰 : [' 직접만든 생칼국수 담백한 국물도 참 맛나요 ']\n",
            "가게명 : 슈만드젠(Chemin de JEN) 키워드 : dict_keys(['마카롱']) 메인리뷰 : ['마카롱 색깔이 넘넘 예뻐요 분위기도 아기자기해서 편안하게 쉴 수 있네요 마카롱도 맛있고 ㅋㅋ 좋아요 ']\n",
            "가게명 : 롤링인도우(ROLLING IN DOUGH) 키워드 : dict_keys(['파스타', '피자', '분위기']) 메인리뷰 : ['음식 분위기 손님층 맘에들어ㅋㅋ핫플레이스 사람이 넘 많아요ㅠ ']\n",
            "가게명 : 블루밍가든 강남점 키워드 : dict_keys(['분위기', '파스타', '가격']) 메인리뷰 : [' 맛도 괜찮은 편이지만 뭣보다 가격에 비해서 세련된 분위기가 매력이에요 분위기 잡기 좋아요 히힛 ']\n",
            "가게명 : 신정(역삼점) 키워드 : dict_keys(['오리', '분위기', '고기']) 메인리뷰 : [' 오리고기가 보통 먹는 훈제오리나 주물럭하고는 완전 달라요 훨씬 맛있더라구요 ']\n",
            "가게명 : 쿠시카츠다루마 강남점 키워드 : dict_keys(['튀김']) 메인리뷰 : [' 정말 튀김의 장인이네요 ㅎ 겉은 바삭하면서 속은 촉촉한 식감이 너무 좋아요 맛집인정 ']\n",
            "가게명 : 쿼터백(QUARTERBACK) 키워드 : dict_keys(['분위기']) 메인리뷰 : ['어제 점심에 방문했는데 분위기와 음식 괜찮네요 특히 가격이 착하네요 밤에는 안주와 술 위주로 영업한다는데 조만간 맥주한잔하러가봐야죠 ']\n",
            "가게명 : 갓덴스시 강남점 키워드 : dict_keys(['가격', '다른', '저렴']) 메인리뷰 : [' 가격이 저렴해서 좋아요 돈 없을 때도 부담없이 배부르게 ']\n",
            "가게명 : 우리집만두 강남점 키워드 : dict_keys(['만두', '냉만두국', '김치']) 메인리뷰 : [' 김치 군만두와 냉만두국이 유명한 집이죠 겉절이도 맛있고 냉만두국은 빙수처럼 얼음이 수북히 올려나와요 ']\n",
            "가게명 : 붓처스컷 강남점 키워드 : dict_keys(['스테이크', '좋아']) 메인리뷰 : ['여기 맛있어서 좋아요 치즈버거도 그 약간의 느낌함이 더 좋아서 자주 먹구요 ']\n",
            "가게명 : 우동명가 기리야마 본진 키워드 : dict_keys(['우동', '소바', '먹었']) 메인리뷰 : [' 소바도 우동도 맛은 좋은데 가격이 별로 안적당한거 같음 만원 넘어가는건 너무 비싼거 같음 ']\n",
            "가게명 : 서초사리원 키워드 : dict_keys(['불고기']) 메인리뷰 : [' 불고기 맛있네요 고기도 부드럽고 양념도 잘 베서 잘 맞는 것 같아요 물냉면도 다른 면이랑 다르게 하나도 안 질기고 맛있어요 ']\n",
            "가게명 : 서석대 키워드 : dict_keys(['고기']) 메인리뷰 : ['고기가 부드럽고 맛있어요 저희는 등심 먹었는데 육즙도 풍부하고 맛있게 잘 먹고 왔어요 ']\n",
            "가게명 : 브릭오븐(BRICK OVEN) 키워드 : dict_keys(['피자']) 메인리뷰 : [' 와 우 이런 피자가 한국에 있다니 뉴욕 샌프란시스코 그리고 라스베이거스에서도 피자를 먹어봤지만 이곳 피자가 제일로 맛있어요 최고 ']\n",
            "가게명 : 브라질팩토리1304 키워드 : dict_keys(['스테이크']) 메인리뷰 : [' 비교적 저렴하게 스테이크 먹고 온 것 같아요 브라질 스테이크라 같이 나오는 브라질식 피클도 특이해요 ']\n",
            "가게명 : 로즈힐 키워드 : dict_keys(['고기', '가격', '같아요']) 메인리뷰 : [' 고기 짱 마블링 완전 예술이고 퀄리티가 너무 좋아서 가격값 하는 거 같아요 ']\n",
            "가게명 : 잉클링(inkling) 키워드 : dict_keys(['분위기']) 메인리뷰 : [' 분위기가 굉장히 좋다고 느꼈어요 너무 시끄럽지도 않고 조용해서 식사하기에도 좋고 음식도 괜찮았습니다 ']\n",
            "가게명 : 평가옥 반포점 키워드 : dict_keys(['다른', '어복쟁반', '냉면']) 메인리뷰 : [' 다른 평양냉면집보다 사람은 적어서 좋은데 맛은 거기들보다는 못하는 듯 ']\n",
            "가게명 : 샘밭막국수 교대점 키워드 : dict_keys(['막국수']) 메인리뷰 : [' 보쌈 중 사이즈가 소사이즈 같음보쌈중 대 감자전 막국수2개이렇게 3명이서 먹음가격 이 비싸고 양이 작다 ']\n",
            "가게명 : 강남교자 키워드 : dict_keys(['만두', '칼국수', '명동교자']) 메인리뷰 : [' 만두가 진짜 최고 난 칼국수보다 만두가 맛있더라 먹고 또 포장해서 담날 또 먹고 ㅋㅋㅋㅋㅋ ']\n",
            "가게명 : 마노디셰프 강남점 키워드 : dict_keys(['피자', '스테이크', '파스타']) 메인리뷰 : [' 여기 음식 진짜 괜찮습니다 ㅎㅎ 스테이크 피자에 파스타에 종류별로 하나씩 시키면 딱 좋아요 ㅋㅋ ']\n",
            "가게명 : 바비레드(BOBIRED) 키워드 : dict_keys(['바비', '셀프', '파스타']) 메인리뷰 : [' 매콤한거 땡겨서 갔는데 파스타랑 갈비스튜 맛은 좋았음 근데 셀프로 가져가야하는게 많아서 쫌 많이 귀찮 ']\n",
            "가게명 : 서초버드나무집 키워드 : dict_keys(['갈비탕', '좋은', '마구리']) 메인리뷰 : [' 그냥 다 마구리 죄다 마구리 갈비탕 아님 마구리탕이라고 이름을 바꿔서 팔던가 ']\n",
            "가게명 : 모랑해물솥밥 키워드 : dict_keys(['해물', '좋아']) 메인리뷰 : [' 해물 솥밥 맛있어요 안에 들어가는 새우랑굴 등 안에 들어가는 재료들이 실하고 건강해지는 느낌이 들어요 ㅇ 막걸리도 맛있답니당 ']\n",
            "가게명 : 연타발 강남역점 키워드 : dict_keys(['양구이', '양대창', '대창']) 메인리뷰 : [' 대창 및 양구이는 정말 맛있는데 그 외 메뉴는 좀 아쉬움이 많네요 ']\n",
            "가게명 : 옥토버훼스트 강남점 키워드 : dict_keys(['맥주']) 메인리뷰 : [' 예비신부가 맥주광이라서 여기 가자고 노래를 해서 저번에 갔었는데 먹을만함 안주도 꽤 괜찮고 ']\n",
            "가게명 : 아티제(artisee) 강남점 키워드 : dict_keys(['좋고']) 메인리뷰 : ['매장 분위기랑 인테리어도 괜찮고 디저트맛도 좋고 음료맛도 정말 괜찮네요 ㅋㅋㅋ 다음에 또 방문할게요 ']\n",
            "가게명 : 천상애장어가 논현점 키워드 : dict_keys(['장어']) 메인리뷰 : [' 장어는 양념맛으로 먹는건줄알았는데 여기는 그냥 장어자체만으로 되게 맛있네요 ㅎㅎ 항상 잘 먹고있어요 ']\n",
            "가게명 : 모스버거 강남서초점 키워드 : dict_keys(['버거']) 메인리뷰 : [' 뭔가 버거가 푸짐하다는 느낌이 오드라구요 맛있어요 ']\n",
            "가게명 : 케미스톤(CHEMI STONE) 키워드 : dict_keys(['ㅋㅋㅋ']) 메인리뷰 : ['여기 꽃살스테이크 추천드려요 ㅋㅋㅋㅋ 진짜 맛있고 가격도 괜찮아서 너무 좋아요 ㅋㅋㅋ ']\n",
            "가게명 : 세븐브로이펍(7brau PUB) 키워드 : dict_keys(['아주', '좋습니다']) 메인리뷰 : [' 좋습니다 아주 좋습니다 아주 좋습니다 아주 좋습니다 아주 좋습니다 아주 좋습니다 아주 ']\n",
            "가게명 : 더수제비(The수제비) 키워드 : dict_keys(['수제']) 메인리뷰 : ['여긴 체인점인듯 남양주 더수제비 본점 들깨수제비 짱 담앤 쭈꾸미먹어바야겠어요 짱 ']\n",
            "가게명 : 와인코르크 강남점 키워드 : dict_keys(['와인']) 메인리뷰 : [' 저는 와인 아무리 먹어봐도 맛이없는데 주위에서 너무 맛있다고하니까 계속 가보게되네요 ㅋㅋ 저도 와인을 즐길줄아는날이 오겠죠 ']\n",
            "가게명 : 카레이찌바 키워드 : dict_keys(['카레']) 메인리뷰 : ['카레우동 굵은 면발이랑 먹어서 그런지 카레맛이 더 느껴지는것같고 돈까스랑 먹으면 또 다른맛이 나서 좋았어영 ']\n",
            "가게명 : 유쾌한형제 키워드 : dict_keys(['육회']) 메인리뷰 : ['육회 정말 잘 먹었어요 육회가 싱싱하고 너무 맛이 좋았어요 정말 여기와서는 육회를 먹어봐야될듯 ']\n",
            "가게명 : 제주흑다돈 강남직영점 키워드 : dict_keys(['고기', '완전', '좋아']) 메인리뷰 : [' 돼지고기 좋아하는데 다양한 부위를 먹을 수 있어서 좋아요 인테리어도 깔끔하고 넓어서 좋네요 ']\n",
            "가게명 : 이로 신논현점 키워드 : dict_keys(['해물']) 메인리뷰 : ['해물파전 진짜 맛있어요ㅋㅋ 분위기도 너무 좋고 친구랑 술한잔 하기 딱 좋은 곳이에요 ']\n",
            "가게명 : 브라더후드키친(BROTHERHOOD) 키워드 : dict_keys(['치킨']) 메인리뷰 : ['치킨이랑 와플을 같이 먹으면 단짠단짠이 되서 끊임없이 들어감 치킨이 약간 느끼한 감이 있긴하지만 나쁘진 않았음 ']\n",
            "가게명 : 화기애애 키워드 : dict_keys(['고기', '분위기', '뭔가']) 메인리뷰 : [' 고기질도 좋고 분위기가 좋더라구요 가격도 저렴해서 회식하러도 자주갑니다 ']\n",
            "가게명 : 꼬뜨도르 키워드 : dict_keys(['분위기']) 메인리뷰 : [' 봉골레파스타 맛나요 분위기도 좋구요 친구모임을 여기서 했었는데 반응들이 좋았어요 덕분에 어깨가 으쓱 ']\n"
          ],
          "name": "stdout"
        }
      ]
    },
    {
      "cell_type": "code",
      "metadata": {
        "id": "Afro7W9xXQ--"
      },
      "source": [
        ""
      ],
      "execution_count": null,
      "outputs": []
    }
  ]
}